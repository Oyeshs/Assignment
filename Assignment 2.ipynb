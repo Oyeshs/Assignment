{
  "nbformat": 4,
  "nbformat_minor": 0,
  "metadata": {
    "colab": {
      "provenance": []
    },
    "kernelspec": {
      "name": "python3",
      "display_name": "Python 3"
    },
    "language_info": {
      "name": "python"
    }
  },
  "cells": [
    {
      "cell_type": "markdown",
      "source": [
        "1-**String slicing** in Python refers to the process of extracting a substring from a string by specifying a range of indices. It's a powerful feature that allows you to work with specific portions of a string easily.\n",
        "\n",
        "In Python, strings are indexed starting from 0, and you can access specific characters or slices using the following syntax:\n",
        "\n",
        "string[start:end:step]\n",
        "start (optional): The index where the slice starts. It is inclusive (i.e., the character at this index will be included).\n",
        "end (optional): The index where the slice ends. It is exclusive (i.e., the character at this index will not be included)```\n",
        "\n"
      ],
      "metadata": {
        "id": "jVt98qjQbhxj"
      }
    },
    {
      "cell_type": "code",
      "source": [
        "# Example\n",
        "s = \"Hello, World!\"\n",
        "print(s[0:5])\n",
        "print(s[7:12])\n",
        "print(s[:5])\n",
        "print(s[7:])\n",
        "print(s[::2])\n",
        "print(s[::-1])\n",
        "print(s[-6:-1])\n"
      ],
      "metadata": {
        "colab": {
          "base_uri": "https://localhost:8080/"
        },
        "id": "8Frbqhu0exzs",
        "outputId": "097053ea-c195-417b-f83e-079a8a506229"
      },
      "execution_count": null,
      "outputs": [
        {
          "output_type": "stream",
          "name": "stdout",
          "text": [
            "Hello\n",
            "World\n",
            "Hello\n",
            "World!\n",
            "Hlo ol!\n",
            "!dlroW ,olleH\n",
            "World\n"
          ]
        }
      ]
    },
    {
      "cell_type": "markdown",
      "source": [
        "2- Key Features of Lists in Python\n",
        "Lists in Python are one of the most flexible and commonly used data structures. They allow you to store multiple items in a single variable and are highly versatile.\n",
        "Here are the key features of lists in Python:\n",
        "\n",
        "1. Ordered- Lists are ordered collections. The order in which elements are inserted is preserved. Each element in the list has a position or index, starting from 0.\n",
        "Example:\n",
        "my_list = [10, 20, 30, 40]\n",
        "print(my_list[0])\n",
        "\n",
        "2. Mutable (Changeable)- Lists are mutable, which means that their elements can be changed, added, or removed after the list is created.\n",
        "Example:\n",
        "my_list = [10, 20, 30]\n",
        "my_list[1] = 25\n",
        "print(my_list)   # Output: [10, 25, 30]\n",
        "\n",
        "3. Indexed- Each element in a list has an associated index, which allows you to access specific elements.\n",
        "Example:\n",
        "my_list = [5, 10, 15, 20]\n",
        "print(my_list[2])  # Output: 15 (Accessing the third element)\n",
        "\n",
        "4. Supports Negative Indexing- Python lists support negative indexing, which means you can access elements from the end of the list by using negative indices.\n",
        "Example:\n",
        "my_list = [5, 10, 15, 20]\n",
        "print(my_list[-1])  # Output: 20 (Last element)\n",
        "print(my_list[-2])  # Output: 15 (Second-to-last element)\n",
        "\n",
        "5. Heterogeneous Elements- Lists can store elements of different types. This means you can store integers, strings, floats, or even other lists (nested lists) inside a single list.\n",
        "Example:\n",
        "my_list = [10, \"apple\", 3.14, True]\n",
        "print(my_list)  # Output: [10, \"apple\", 3.14, True]\n",
        "\n",
        "6. Supports Slicing- Lists support slicing, which allows you to extract a part of the list using a specified range of indices.\n",
        "Syntax: list[start:end:step]\n",
        "Example:\n",
        "my_list = [10, 20, 30, 40, 50]\n",
        "print(my_list[1:4])  # Output: [20, 30, 40]\n",
        "\n"
      ],
      "metadata": {
        "id": "bCcmfvaggHyF"
      }
    },
    {
      "cell_type": "markdown",
      "source": [
        "3 - In Python, you can access, modify, and delete elements in a list in several ways\n",
        "1. Accessing Elements in a List\n",
        "Lists are indexed, so you can access individual elements by their index, starting from 0. You can also use negative indexing to access elements from the end of the list.\n",
        "Access by Index\n"
      ],
      "metadata": {
        "id": "PKz1JOZ-Dynp"
      }
    },
    {
      "cell_type": "code",
      "source": [
        "my_list = [10, 20, 30, 40, 50]\n",
        "print(my_list[0])  # Access the first element (Output: 10)\n",
        "print(my_list[3])  # Access the fourth element (Output: 40)\n"
      ],
      "metadata": {
        "colab": {
          "base_uri": "https://localhost:8080/"
        },
        "id": "SBg_Vs_MD-gM",
        "outputId": "786eaac2-b9a4-43a7-9ada-6e2b50f0f254"
      },
      "execution_count": null,
      "outputs": [
        {
          "output_type": "stream",
          "name": "stdout",
          "text": [
            "10\n",
            "40\n"
          ]
        }
      ]
    },
    {
      "cell_type": "markdown",
      "source": [
        "Access by Negative Index\n",
        "Syntax: list[-index]\n"
      ],
      "metadata": {
        "id": "cJRQKMYJE32r"
      }
    },
    {
      "cell_type": "code",
      "source": [
        "my_list = [10, 20, 30, 40, 50]\n",
        "print(my_list[-1])  # Access the last element (Output: 50)\n",
        "print(my_list[-2])  # Access the second-to-last element (Output: 40)\n"
      ],
      "metadata": {
        "colab": {
          "base_uri": "https://localhost:8080/"
        },
        "id": "8Q8X9Sh6E6ro",
        "outputId": "e05b314d-e47d-4756-9759-e124a71aa9a5"
      },
      "execution_count": null,
      "outputs": [
        {
          "output_type": "stream",
          "name": "stdout",
          "text": [
            "50\n",
            "40\n"
          ]
        }
      ]
    },
    {
      "cell_type": "markdown",
      "source": [
        "2. Modifying Elements in a List\n",
        "Lists are mutable, meaning you can change the value of an element using its index.\n",
        "Modify by Index\n",
        "Syntax: list[index] = new_value"
      ],
      "metadata": {
        "id": "7Rn_I1GZFRGx"
      }
    },
    {
      "cell_type": "code",
      "source": [
        "my_list = [10, 20, 30, 40, 50]\n",
        "my_list[2] = 100  # Modify the third element\n",
        "print(my_list)  # Output: [10, 20, 100, 40, 50]\n"
      ],
      "metadata": {
        "colab": {
          "base_uri": "https://localhost:8080/"
        },
        "id": "QhjuuKRtE9TA",
        "outputId": "c83a7f02-08c8-4645-88eb-982c39aae269"
      },
      "execution_count": null,
      "outputs": [
        {
          "output_type": "stream",
          "name": "stdout",
          "text": [
            "[10, 20, 100, 40, 50]\n"
          ]
        }
      ]
    },
    {
      "cell_type": "code",
      "source": [
        "#1. Using del Statement with Index\n",
        "#To remove an element at a specific index:\n",
        "\n",
        "my_list = [1, 2, 3, 4, 5]\n",
        "del my_list[2]  # Deletes the element at index 2 (third element)\n",
        "print(my_list)"
      ],
      "metadata": {
        "id": "xgnwhTI3FaRp",
        "colab": {
          "base_uri": "https://localhost:8080/"
        },
        "outputId": "d0072dc9-d1b1-4629-a2d6-1b3cef861852"
      },
      "execution_count": null,
      "outputs": [
        {
          "output_type": "stream",
          "name": "stdout",
          "text": [
            "[1, 2, 4, 5]\n"
          ]
        }
      ]
    },
    {
      "cell_type": "markdown",
      "source": [
        "To delete elements from a list in Python, you can use several methods, each suited to different scenarios. Below are common ways to remove items from a list, along with examples:\n",
        "\n",
        "1. Using remove()- This method removes the first occurrence of a specific value in the list."
      ],
      "metadata": {
        "id": "xRUm1yetH7WY"
      }
    },
    {
      "cell_type": "code",
      "source": [
        "#example\n",
        "my_list = [1, 2, 3, 4, 2, 5]\n",
        "my_list.remove(2)\n",
        "print(my_list)"
      ],
      "metadata": {
        "colab": {
          "base_uri": "https://localhost:8080/"
        },
        "id": "8GLvIxuDi9xj",
        "outputId": "d31755f7-73af-4189-d175-d580a876b7ce"
      },
      "execution_count": 2,
      "outputs": [
        {
          "output_type": "stream",
          "name": "stdout",
          "text": [
            "[1, 3, 4, 2, 5]\n"
          ]
        }
      ]
    },
    {
      "cell_type": "markdown",
      "source": [
        "2- Using del\n",
        "The del statement can be used to delete an element at a specific index or to delete a slice of elements"
      ],
      "metadata": {
        "id": "MjJpg6NIjaic"
      }
    },
    {
      "cell_type": "code",
      "source": [
        "my_list = ['a', 'b', 'c', 'd']\n",
        "del my_list[1]\n",
        "print(my_list)"
      ],
      "metadata": {
        "colab": {
          "base_uri": "https://localhost:8080/"
        },
        "id": "ONUtZK-UjEdz",
        "outputId": "843cca32-cb1c-4fb6-99c6-92022e422d53"
      },
      "execution_count": 3,
      "outputs": [
        {
          "output_type": "stream",
          "name": "stdout",
          "text": [
            "['a', 'c', 'd']\n"
          ]
        }
      ]
    },
    {
      "cell_type": "markdown",
      "source": [
        "**Answer- 4**\n",
        "Tuples and lists are both used to store collections of elements in Python, but they have key differences in terms of mutability, syntax, and typical use cases. Here’s a detailed comparison between them:\n",
        "\n",
        "1. Mutability\n",
        "List: Lists are mutable, meaning you can change their contents after they are created (e.g., adding, removing, or modifying elements).\n",
        "Tuple: Tuples are immutable, meaning once they are created, you cannot change their contents. You cannot add, remove, or modify elements."
      ],
      "metadata": {
        "id": "UxtfsTbspVXO"
      }
    },
    {
      "cell_type": "code",
      "source": [
        "# List\n",
        "my_list = [1, 2, 3]\n",
        "my_list[1] = 10  # Modifying an element\n",
        "my_list.append(4)  # Adding an element\n",
        "print(my_list)  # Output: [1, 10, 3, 4]\n",
        "\n",
        "# Tuple\n",
        "my_tuple = (1, 2, 3)\n",
        "#my_tuple[1] = 10  # This would raise a TypeError because tuples are immutable\n",
        "#my_tuple.append(4)  # This would raise an AttributeError because tuples don't have append() method\n"
      ],
      "metadata": {
        "colab": {
          "base_uri": "https://localhost:8080/"
        },
        "id": "z6Ml5Lf3jyqV",
        "outputId": "052b754d-04f1-4070-e97d-6f36589ebc90"
      },
      "execution_count": 5,
      "outputs": [
        {
          "output_type": "stream",
          "name": "stdout",
          "text": [
            "[1, 10, 3, 4]\n"
          ]
        }
      ]
    },
    {
      "cell_type": "markdown",
      "source": [
        "**2. Syntax**\n",
        "List: Lists are created using square brackets [].\n",
        "Tuple: Tuples are created using parentheses ()."
      ],
      "metadata": {
        "id": "sT6L7zyIqAqr"
      }
    },
    {
      "cell_type": "markdown",
      "source": [
        "**3. Performance**\n",
        "List: Lists are generally slower than tuples due to their mutability (they require extra overhead to allow changes).\n",
        "Tuple: Since tuples are immutable, they can be optimized for performance and are usually faster than lists for iteration and access."
      ],
      "metadata": {
        "id": "Xh_joAQjqJIi"
      }
    },
    {
      "cell_type": "code",
      "source": [
        "import time\n",
        "\n",
        "# List\n",
        "start_time = time.time()\n",
        "my_list = [i for i in range(1000000)]\n",
        "end_time = time.time()\n",
        "print(f\"List creation time: {end_time - start_time}\")\n",
        "\n",
        "# Tuple\n",
        "start_time = time.time()\n",
        "my_tuple = tuple(i for i in range(1000000))\n",
        "end_time = time.time()\n",
        "print(f\"Tuple creation time: {end_time - start_time}\")\n"
      ],
      "metadata": {
        "colab": {
          "base_uri": "https://localhost:8080/"
        },
        "id": "tLnspJntpsZs",
        "outputId": "bf7c794e-4ed8-4916-853b-3bd27af6bccd"
      },
      "execution_count": 6,
      "outputs": [
        {
          "output_type": "stream",
          "name": "stdout",
          "text": [
            "List creation time: 0.096923828125\n",
            "Tuple creation time: 0.09340548515319824\n"
          ]
        }
      ]
    },
    {
      "cell_type": "markdown",
      "source": [
        "**4. Use Cases**\n",
        "List: Lists are used when the data is expected to change, i.e., when you need to modify, add, or remove elements during the lifetime of the collection.\n",
        "Examples: Storing dynamic collections like user input data, to-do lists, or any data that might change over time.\n",
        "Tuple: Tuples are used when the data is immutable and should not be changed. They can also be used as keys in dictionaries because they are hashable, unlike lists.\n",
        "Examples: Representing fixed collections of items (e.g., coordinates, RGB color values), return multiple values from a function, or storing constants."
      ],
      "metadata": {
        "id": "bI3wJyN7qehR"
      }
    },
    {
      "cell_type": "markdown",
      "source": [
        "**Answer- 5**\n",
        "**Key Features of Sets in Python**\n",
        "A set is a collection of unique elements that is unordered and mutable. Sets are useful when you need to store items that are unique and do not care about the order of those items.\n",
        "\n",
        "**1. Uniqueness of Elements**\n",
        "A set automatically removes any duplicate elements. If you try to add a duplicate element to a set, it will not be added again.\n",
        "This feature is useful when you want to ensure that the collection contains no duplicates"
      ],
      "metadata": {
        "id": "0sm4_L1fqpmp"
      }
    },
    {
      "cell_type": "code",
      "source": [
        "my_set = {1, 2, 3, 3, 4}\n",
        "print(my_set)\n"
      ],
      "metadata": {
        "colab": {
          "base_uri": "https://localhost:8080/"
        },
        "id": "aFAE6AxhqQU6",
        "outputId": "bd843fcb-6ba7-45f0-af24-dfc95e36d32c"
      },
      "execution_count": 8,
      "outputs": [
        {
          "output_type": "stream",
          "name": "stdout",
          "text": [
            "{1, 2, 3, 4}\n"
          ]
        }
      ]
    },
    {
      "cell_type": "markdown",
      "source": [
        "**2. Unordered Collection**\n",
        "Sets are unordered, meaning the elements have no specific order. The elements can be retrieved or displayed in any order and may change each time you print or access the set."
      ],
      "metadata": {
        "id": "NAGql0SarLby"
      }
    },
    {
      "cell_type": "code",
      "source": [
        "my_set = {10, 40, 30}\n",
        "print(my_set)\n"
      ],
      "metadata": {
        "colab": {
          "base_uri": "https://localhost:8080/"
        },
        "id": "XjGGZpf0rDoz",
        "outputId": "407b8862-a993-4f77-b2fe-e34003353221"
      },
      "execution_count": 10,
      "outputs": [
        {
          "output_type": "stream",
          "name": "stdout",
          "text": [
            "{40, 10, 30}\n"
          ]
        }
      ]
    },
    {
      "cell_type": "markdown",
      "source": [
        "**3. Mutable (Can be Changed)**\n",
        "Sets are mutable, meaning you can add or remove elements after the set is created. However, because sets are unordered, there is no way to access or modify elements by their index"
      ],
      "metadata": {
        "id": "asYL0sGercP5"
      }
    },
    {
      "cell_type": "code",
      "source": [
        "#adding element\n",
        "my_set = {1, 2, 3}\n",
        "my_set.add(4)  # Adds 4 to the set\n",
        "print(my_set)\n"
      ],
      "metadata": {
        "colab": {
          "base_uri": "https://localhost:8080/"
        },
        "id": "CHz4SFBArUMU",
        "outputId": "efc4313c-4f68-47e5-b062-01736c0ea8c8"
      },
      "execution_count": 12,
      "outputs": [
        {
          "output_type": "stream",
          "name": "stdout",
          "text": [
            "{1, 2, 3, 4}\n"
          ]
        }
      ]
    },
    {
      "cell_type": "code",
      "source": [
        "#removing element\n",
        "my_set={1,2,3}\n",
        "my_set.remove(2)\n",
        "print(my_set)\n"
      ],
      "metadata": {
        "colab": {
          "base_uri": "https://localhost:8080/"
        },
        "id": "N_jyuTX1rhws",
        "outputId": "01e88dd4-f551-4c82-f534-66ab96defb16"
      },
      "execution_count": 15,
      "outputs": [
        {
          "output_type": "stream",
          "name": "stdout",
          "text": [
            "{1, 3}\n"
          ]
        }
      ]
    },
    {
      "cell_type": "markdown",
      "source": [
        "**Summary of Key Features:**\n",
        "Unordered: Sets do not maintain the order of elements.\n",
        "Unique Elements: Sets automatically discard duplicate elements.\n",
        "Mutable: You can add and remove elements from a set.\n",
        "No Indexing: You cannot access elements by index.\n",
        "Set Operations: Supports union, intersection, difference, and symmetric difference operations.\n",
        "Comprehension: You can create sets using set comprehension.\n",
        "Frozensets: An immutable version of a set is available, called frozenset.\n",
        "When to Use Sets:\n",
        "Removing Duplicates: Use sets when you need to store unique elements and automatically eliminate duplicates.\n",
        "Set Operations: When you need to perform mathematical operations like unions, intersections, or differences.\n",
        "Fast Membership Testing: Checking for the presence of an element is faster in a set than in a list, making sets useful for quick lookups."
      ],
      "metadata": {
        "id": "0tZBX1BTsXkB"
      }
    },
    {
      "cell_type": "markdown",
      "source": [
        "**Answer- 6**\n",
        "Use Cases of Tuples in Python Programming\n",
        "Tuples are an essential data structure in Python due to their immutability and efficiency. Below are some key use cases where tuples are particularly beneficial:\n",
        "\n",
        "**1. Representing Immutable Data:**\n",
        "Tuples are immutable collections, meaning their contents cannot be modified after creation. This makes them ideal for representing data that should not change. For example, if you're working with fixed configurations or constants that should remain unchanged, tuples are a good choice."
      ],
      "metadata": {
        "id": "e9YWbEo0sh4p"
      }
    },
    {
      "cell_type": "code",
      "source": [
        "# A tuple representing the coordinates of a point\n",
        "coordinates = (10, 20)\n"
      ],
      "metadata": {
        "id": "3S58bPL_rugj"
      },
      "execution_count": 16,
      "outputs": []
    },
    {
      "cell_type": "markdown",
      "source": [
        "**2. Returning Multiple Values from Functions:**\n",
        "Tuples are frequently used when you need to return multiple values from a function. Since a tuple can hold different types of data, it's often a cleaner and more efficient way to return multiple values in one object."
      ],
      "metadata": {
        "id": "TkvPtxAXsxUw"
      }
    },
    {
      "cell_type": "code",
      "source": [
        "def get_user_info():\n",
        "    name = \"Alice\"\n",
        "    age = 30\n",
        "    country = \"USA\"\n",
        "    return (name, age, country)  # Returning a tuple\n",
        "\n",
        "user_info = get_user_info()\n",
        "print(user_info)"
      ],
      "metadata": {
        "colab": {
          "base_uri": "https://localhost:8080/"
        },
        "id": "j7hNFZZlss3T",
        "outputId": "568ed458-0774-444e-862c-dfd83308a636"
      },
      "execution_count": 17,
      "outputs": [
        {
          "output_type": "stream",
          "name": "stdout",
          "text": [
            "('Alice', 30, 'USA')\n"
          ]
        }
      ]
    },
    {
      "cell_type": "markdown",
      "source": [
        "**3. Key for Dictionaries:**\n",
        "Since tuples are hashable (if all their elements are hashable), they can be used as keys in dictionaries. This is not possible with lists, as lists are mutable and therefore not hashable."
      ],
      "metadata": {
        "id": "S2956hoKs_0g"
      }
    },
    {
      "cell_type": "code",
      "source": [
        "location_data = {\n",
        "    (10, 20): \"New York\",\n",
        "    (30, 40): \"Los Angeles\",\n",
        "}\n",
        "print(location_data[(10, 20)])\n"
      ],
      "metadata": {
        "colab": {
          "base_uri": "https://localhost:8080/"
        },
        "id": "ceJK2gVfs1rr",
        "outputId": "c67f4e7a-9dfd-4708-b052-d3f0c32caa97"
      },
      "execution_count": 19,
      "outputs": [
        {
          "output_type": "stream",
          "name": "stdout",
          "text": [
            "New York\n"
          ]
        }
      ]
    },
    {
      "cell_type": "markdown",
      "source": [
        "**4. Storing Fixed Data:**\n",
        "Tuples are ideal for representing fixed collections of data that should not be modified, such as RGB color values, constant settings, or database records that should not change."
      ],
      "metadata": {
        "id": "XwZvN002tKLx"
      }
    },
    {
      "cell_type": "code",
      "source": [
        "red = (255, 0, 0)  # RGB color for red\n",
        "green = (0, 255, 0)  # RGB color for green\n",
        "blue = (0, 0, 255)  # RGB color for blue\n"
      ],
      "metadata": {
        "id": "Dy8lj9SNtDnw"
      },
      "execution_count": 20,
      "outputs": []
    },
    {
      "cell_type": "markdown",
      "source": [
        "**Use Cases of Sets in Python Programming**\n",
        "Sets are another useful data structure in Python, offering advantages like fast membership testing and support for mathematical set operations.\n",
        "**1. Eliminating Duplicate Items:**\n",
        "One of the most common uses for sets is to remove duplicates from a collection, as sets only store unique elements. If you have a list with duplicate values and want to get only the distinct elements, converting the list to a set is a simple and efficient way."
      ],
      "metadata": {
        "id": "kK9aTMdDtZxo"
      }
    },
    {
      "cell_type": "code",
      "source": [
        "numbers = [1, 2, 3, 3, 4, 5, 5, 6]\n",
        "unique_numbers = set(numbers)\n",
        "print(unique_numbers)"
      ],
      "metadata": {
        "colab": {
          "base_uri": "https://localhost:8080/"
        },
        "id": "UTU3FV7RtP8b",
        "outputId": "a9d4d2e1-f161-4d53-c134-e6f0eb035a20"
      },
      "execution_count": 21,
      "outputs": [
        {
          "output_type": "stream",
          "name": "stdout",
          "text": [
            "{1, 2, 3, 4, 5, 6}\n"
          ]
        }
      ]
    },
    {
      "cell_type": "markdown",
      "source": [
        "**2. Mathematical Set Operations:**\n",
        "Sets in Python support common mathematical set operations, such as union, intersection, difference, and symmetric difference. These operations are useful when you need to compare or combine sets of data."
      ],
      "metadata": {
        "id": "9QnbU5_Ytqu5"
      }
    },
    {
      "cell_type": "code",
      "source": [
        "set1 = {1, 2, 3, 4}\n",
        "set2 = {3, 4, 5, 6}\n",
        "\n",
        "# Union\n",
        "union_set = set1 | set2\n",
        "print(union_set)\n",
        "\n",
        "# Intersection\n",
        "intersection_set = set1 & set2\n",
        "print(intersection_set)\n",
        "\n",
        "# Difference\n",
        "difference_set = set1 - set2\n",
        "print(difference_set)\n",
        "\n",
        "# Symmetric Difference\n",
        "sym_diff_set = set1 ^ set2\n",
        "print(sym_diff_set)  #"
      ],
      "metadata": {
        "colab": {
          "base_uri": "https://localhost:8080/"
        },
        "id": "rMXYPCRftl-b",
        "outputId": "19c21047-40ef-4c57-8ade-c1466b14ac58"
      },
      "execution_count": 22,
      "outputs": [
        {
          "output_type": "stream",
          "name": "stdout",
          "text": [
            "{1, 2, 3, 4, 5, 6}\n",
            "{3, 4}\n",
            "{1, 2}\n",
            "{1, 2, 5, 6}\n"
          ]
        }
      ]
    },
    {
      "cell_type": "markdown",
      "source": [
        "**3. Removing Duplicate Items from a Collection:**\n",
        "Just like tuples, sets can be used to eliminate duplicates, but they are often used in situations where you're working with unordered collections. For example, if you're processing a large dataset where duplicates matter, using a set is an efficient way to ensure uniqueness."
      ],
      "metadata": {
        "id": "jdobIcfOuOxB"
      }
    },
    {
      "cell_type": "code",
      "source": [
        "user_input = [\"apple\", \"banana\", \"apple\", \"cherry\", \"banana\"]\n",
        "unique_items = set(user_input)\n",
        "print(unique_items)\n"
      ],
      "metadata": {
        "colab": {
          "base_uri": "https://localhost:8080/"
        },
        "id": "MUBJpYMGt5WT",
        "outputId": "573caffc-3824-4c42-c821-d5291f30cac6"
      },
      "execution_count": 23,
      "outputs": [
        {
          "output_type": "stream",
          "name": "stdout",
          "text": [
            "{'banana', 'cherry', 'apple'}\n"
          ]
        }
      ]
    },
    {
      "cell_type": "markdown",
      "source": [
        "In Python, dictionaries are mutable collections that store data in key-value pairs. You can add, modify, and delete items in a dictionary using various methods and operations. Below is a detailed explanation with examples on how to manipulate dictionaries in Python.\n",
        "\n",
        "**1. Adding Items to a Dictionary**\n",
        "You can add new key-value pairs to a dictionary in a couple of ways:\n",
        "\n",
        "a. Using the Assignment Syntax:\n",
        "You can directly assign a value to a new key to add it to the dictionary"
      ],
      "metadata": {
        "id": "RAzXkXi9up9I"
      }
    },
    {
      "cell_type": "code",
      "source": [
        "# Creating an empty dictionary\n",
        "my_dict = {}\n",
        "\n",
        "# Adding new items\n",
        "my_dict[\"name\"] = \"Alice\"\n",
        "my_dict[\"age\"] = 30\n",
        "\n",
        "print(my_dict)\n"
      ],
      "metadata": {
        "colab": {
          "base_uri": "https://localhost:8080/"
        },
        "id": "wPSYI37euTKr",
        "outputId": "5819e59f-5755-4092-bc58-302faf2477f6"
      },
      "execution_count": 24,
      "outputs": [
        {
          "output_type": "stream",
          "name": "stdout",
          "text": [
            "{'name': 'Alice', 'age': 30}\n"
          ]
        }
      ]
    },
    {
      "cell_type": "markdown",
      "source": [
        "b. Using the update() Method:\n",
        "You can also use the update() method to add new key-value pairs. If the key already exists, the update() method will modify the value for that key. If the key doesn't exist, it will be added."
      ],
      "metadata": {
        "id": "eQCyK15HuyRf"
      }
    },
    {
      "cell_type": "code",
      "source": [
        "my_dict = {\"name\": \"Alice\", \"age\": 30}\n",
        "\n",
        "# Adding a new key-value pair\n",
        "my_dict.update({\"city\": \"New York\"})\n",
        "print(my_dict)\n",
        "# Modifying an existing key\n",
        "my_dict.update({\"age\": 31})\n",
        "print(my_dict)\n"
      ],
      "metadata": {
        "colab": {
          "base_uri": "https://localhost:8080/"
        },
        "id": "g-jfTywXutfD",
        "outputId": "1219e5ea-e45e-40cb-a657-b2bfc75fdf03"
      },
      "execution_count": 25,
      "outputs": [
        {
          "output_type": "stream",
          "name": "stdout",
          "text": [
            "{'name': 'Alice', 'age': 30, 'city': 'New York'}\n",
            "{'name': 'Alice', 'age': 31, 'city': 'New York'}\n"
          ]
        }
      ]
    },
    {
      "cell_type": "markdown",
      "source": [
        "**3. Deleting Items from a Dictionary**\n",
        "You can delete items from a dictionary in different ways. You can delete a key-value pair using del, pop(), or popitem().\n",
        "\n",
        "**a. Using the del Keyword:**\n",
        "The del statement removes the key-value pair from the dictionary based on the key"
      ],
      "metadata": {
        "id": "89nopON0vHpp"
      }
    },
    {
      "cell_type": "code",
      "source": [
        "my_dict = {\"name\": \"Alice\", \"age\": 30, \"city\": \"New York\"}\n",
        "\n",
        "# Deleting the \"age\" key-value pair\n",
        "del my_dict[\"age\"]\n",
        "\n",
        "print(my_dict)\n"
      ],
      "metadata": {
        "colab": {
          "base_uri": "https://localhost:8080/"
        },
        "id": "pj2oqdatu3Yz",
        "outputId": "c0d6de64-bf90-4a7f-a0a1-9de35bcc34a0"
      },
      "execution_count": 26,
      "outputs": [
        {
          "output_type": "stream",
          "name": "stdout",
          "text": [
            "{'name': 'Alice', 'city': 'New York'}\n"
          ]
        }
      ]
    },
    {
      "cell_type": "markdown",
      "source": [
        "**4. Clearing the Entire Dictionary**\n",
        "If you want to remove all the key-value pairs from a dictionary but keep the dictionary itself, you can use the clear() method."
      ],
      "metadata": {
        "id": "52OdylfvvYeX"
      }
    },
    {
      "cell_type": "code",
      "source": [
        "my_dict = {\"name\": \"Alice\", \"age\": 30, \"city\": \"New York\"}\n",
        "\n",
        "# Clearing the entire dictionary\n",
        "my_dict.clear()\n",
        "\n",
        "print(my_dict)\n"
      ],
      "metadata": {
        "colab": {
          "base_uri": "https://localhost:8080/"
        },
        "id": "dDWVNYZ_vOT5",
        "outputId": "87fb1f69-595b-48d4-8430-0f07ed13d2be"
      },
      "execution_count": 27,
      "outputs": [
        {
          "output_type": "stream",
          "name": "stdout",
          "text": [
            "{}\n"
          ]
        }
      ]
    },
    {
      "cell_type": "markdown",
      "source": [
        "**The Importance of Dictionary Keys Being Immutable in Python**\n",
        "In Python, dictionaries are built on a hash table structure. This allows for efficient lookups, insertions, and deletions by using the keys as hash values. The immutability of dictionary keys is crucial because it ensures the integrity and reliability of the hash values, which is essential for the efficiency and correctness of the dictionary's behavior.\n",
        "\n",
        "**1. Hashing and Immutable Objects**\n",
        "For a key to be used in a dictionary, it must be hashable. Hashable objects are those whose value doesn't change during their lifetime, meaning their hash value remains consistent. When you store a key-value pair in a dictionary, Python computes the hash of the key. This hash value is used to determine the index in the dictionary where the value is stored.\n",
        "\n",
        "If dictionary keys were mutable, their hash value could change over time, which would cause problems in retrieving or updating the values. If a key’s hash value changes after it is inserted into the dictionary, Python would not be able to reliably find the key, leading to unpredictable behavior.\n",
        "\n",
        "**2. The Role of Immutability**\n",
        "Immutability guarantees that the key’s hash value will always remain the same. This is why immutable objects like strings, integers, and tuples can be used as dictionary keys, while mutable objects like lists, dictionaries, and sets cannot be used as keys.\n",
        "\n",
        "Immutable objects (e.g., integers, strings, and tuples) can safely be used as dictionary keys because their values and hash values do not change after they are created.\n",
        "Mutable objects (e.g., lists, sets, and other dictionaries) cannot be used as dictionary keys because their hash values could change, which would lead to incorrect behavior when trying to access or modify the dictionary."
      ],
      "metadata": {
        "id": "TcnKIzZRvqbZ"
      }
    },
    {
      "cell_type": "code",
      "source": [
        "# Using integers as keys (immutable)\n",
        "my_dict = {10: \"ten\", 20: \"twenty\"}\n",
        "print(my_dict[10])\n",
        "\n",
        "# Using strings as keys (immutable)\n",
        "my_dict = {\"name\": \"Alice\", \"age\": 30}\n",
        "print(my_dict[\"name\"])\n",
        "\n",
        "# Using tuples as keys (immutable)\n",
        "my_dict = {(1, 2): \"point1\", (3, 4): \"point2\"}\n",
        "print(my_dict[(1, 2)])\n"
      ],
      "metadata": {
        "colab": {
          "base_uri": "https://localhost:8080/"
        },
        "id": "QgCxu51MvzGT",
        "outputId": "5f699934-5804-428d-baad-d455a6045504"
      },
      "execution_count": 28,
      "outputs": [
        {
          "output_type": "stream",
          "name": "stdout",
          "text": [
            "ten\n",
            "Alice\n",
            "point1\n"
          ]
        }
      ]
    },
    {
      "cell_type": "code",
      "source": [
        "# Trying to use a list as a dictionary key (mutable)\n",
        "try:\n",
        "    my_dict = {[1, 2, 3]: \"list_key\"}\n",
        "except TypeError as e:\n",
        "    print(f\"Error: {e}\")\n",
        "\n",
        "# Trying to use another dictionary as a key (mutable)\n",
        "try:\n",
        "    my_dict = {{'a': 1}: \"nested_dict_key\"}\n",
        "except TypeError as e:\n",
        "    print(f\"Error: {e}\")\n"
      ],
      "metadata": {
        "colab": {
          "base_uri": "https://localhost:8080/"
        },
        "id": "SaLxq_Uev6si",
        "outputId": "ea13b3a0-d9d0-4186-ad33-54701a47d34a"
      },
      "execution_count": 29,
      "outputs": [
        {
          "output_type": "stream",
          "name": "stdout",
          "text": [
            "Error: unhashable type: 'list'\n",
            "Error: unhashable type: 'dict'\n"
          ]
        }
      ]
    },
    {
      "cell_type": "markdown",
      "source": [
        "**5. How Immutability Affects Dictionary Behavior**\n",
        "Immutability helps ensure that once a key-value pair is added to the dictionary, it is guaranteed to remain stable throughout the program. If dictionary keys could change, this could lead to:\n",
        "\n",
        "Incorrect lookups: If the key's hash value changes after insertion, the dictionary wouldn't be able to find the corresponding value.\n",
        "Data inconsistency: The key-value mapping could be lost or overwritten, causing the dictionary to behave unpredictably.\n",
        "Inefficiency: The dictionary’s hash table could become corrupted, leading to inefficient operations, as the hash table would no longer provide constant-time access to values\n",
        "\n",
        "**7. Immutability and Performance**\n",
        "The immutability of dictionary keys also contributes to the performance of dictionary operations, particularly hashing. When you use an immutable object as a dictionary key, Python can compute and store the hash value once, knowing that it won't change. This ensures that subsequent lookups, insertions, and deletions are fast, with an average time complexity of O(1) (constant time).\n",
        "\n",
        "If dictionary keys were mutable, this hashing process would be unreliable and inefficient, because the hash value could change, leading to performance problems."
      ],
      "metadata": {
        "id": "X6ESx69UwQPY"
      }
    },
    {
      "cell_type": "code",
      "source": [],
      "metadata": {
        "id": "8vWcV3YawHHr"
      },
      "execution_count": null,
      "outputs": []
    }
  ]
}