{
  "nbformat": 4,
  "nbformat_minor": 0,
  "metadata": {
    "colab": {
      "provenance": []
    },
    "kernelspec": {
      "name": "python3",
      "display_name": "Python 3"
    },
    "language_info": {
      "name": "python"
    }
  },
  "cells": [
    {
      "cell_type": "markdown",
      "source": [
        "1- Write a code to reverse a string"
      ],
      "metadata": {
        "id": "m66FNIufVSPg"
      }
    },
    {
      "cell_type": "code",
      "source": [
        "a=\"Rahul loves to play cricket.\"\n",
        "a[::-1]\n"
      ],
      "metadata": {
        "colab": {
          "base_uri": "https://localhost:8080/",
          "height": 36
        },
        "id": "TD2dpqGaVVsL",
        "outputId": "ffc3e430-09ed-470e-b062-229fec82c4d2"
      },
      "execution_count": null,
      "outputs": [
        {
          "output_type": "execute_result",
          "data": {
            "text/plain": [
              "'.tekcirc yalp ot sevol luhaR'"
            ],
            "application/vnd.google.colaboratory.intrinsic+json": {
              "type": "string"
            }
          },
          "metadata": {},
          "execution_count": 1
        }
      ]
    },
    {
      "cell_type": "markdown",
      "source": [
        "2- Write a code to count the number of vowels in a string"
      ],
      "metadata": {
        "id": "1cOwzziNVy_-"
      }
    },
    {
      "cell_type": "code",
      "source": [
        "a=\"Rahul loves to play Cricket.\"\n",
        "l=[\"a\",\"e\",\"i\",\"o\",\"u\"]\n",
        "count=0\n",
        "for char in a:\n",
        "  if char in l:\n",
        "    count+=1\n",
        "print(count)"
      ],
      "metadata": {
        "colab": {
          "base_uri": "https://localhost:8080/"
        },
        "id": "hI5uALR4Vsmq",
        "outputId": "2b6fc466-46ce-4238-d5b2-2cc3adee3109"
      },
      "execution_count": null,
      "outputs": [
        {
          "output_type": "stream",
          "name": "stdout",
          "text": [
            "8\n"
          ]
        }
      ]
    },
    {
      "cell_type": "markdown",
      "source": [
        "3-Write a code to check if a given string is palindrome or not."
      ],
      "metadata": {
        "id": "gp4MKRRqWMru"
      }
    },
    {
      "cell_type": "code",
      "source": [
        "a=\"level\"\n",
        "if a==a[::-1]:\n",
        "  print(\"Palindrome\")"
      ],
      "metadata": {
        "colab": {
          "base_uri": "https://localhost:8080/"
        },
        "id": "UrGrhZ_sV-NX",
        "outputId": "1aa7560d-7fdd-47f0-e8ab-d8ee2e1039a2"
      },
      "execution_count": null,
      "outputs": [
        {
          "output_type": "stream",
          "name": "stdout",
          "text": [
            "Palindrome\n"
          ]
        }
      ]
    },
    {
      "cell_type": "markdown",
      "source": [
        "Q4. Write a code to check if two given strings are anagrams of each other."
      ],
      "metadata": {
        "id": "xdanvPQxWXov"
      }
    },
    {
      "cell_type": "code",
      "source": [
        "a=\"listen\"\n",
        "b=\"silent\"\n",
        "\n",
        "if sorted(a)==sorted(b):\n",
        "  print(\"Anagrams\")"
      ],
      "metadata": {
        "colab": {
          "base_uri": "https://localhost:8080/"
        },
        "id": "z1weV6E6WTae",
        "outputId": "9112c03d-23ec-4692-f409-2d447e724662"
      },
      "execution_count": null,
      "outputs": [
        {
          "output_type": "stream",
          "name": "stdout",
          "text": [
            "Anagrams\n"
          ]
        }
      ]
    },
    {
      "cell_type": "markdown",
      "source": [
        "Q5. Write a code to find all the occurance of a given substring within another string"
      ],
      "metadata": {
        "id": "wEhxczl9WvW_"
      }
    },
    {
      "cell_type": "code",
      "source": [
        "def find_all_occurrences(main_string, substring):\n",
        "    occurrences = []\n",
        "    start = 0\n",
        "\n",
        "    while True:\n",
        "        start = main_string.find(substring, start)\n",
        "        if start == -1:\n",
        "            break\n",
        "        occurrences.append(start)\n",
        "        start += 1  # Move past the last found index\n",
        "\n",
        "    return occurrences\n",
        "\n",
        "\n",
        "main_string = \"This is a test. This test is only a test.\"\n",
        "substring = \"test\"\n",
        "positions = find_all_occurrences(main_string, substring)\n",
        "\n",
        "print(f\"Occurrences of '{substring}' found at positions: {positions}\")"
      ],
      "metadata": {
        "colab": {
          "base_uri": "https://localhost:8080/"
        },
        "id": "f1GXnxhbWj0A",
        "outputId": "9f73a3dc-bcb5-4231-d271-78ff49657707"
      },
      "execution_count": null,
      "outputs": [
        {
          "output_type": "stream",
          "name": "stdout",
          "text": [
            "Occurrences of 'test' found at positions: [10, 21, 36]\n"
          ]
        }
      ]
    },
    {
      "cell_type": "markdown",
      "source": [
        "Q6. Write a code to perform basic string compression using the counts of repeated characters."
      ],
      "metadata": {
        "id": "5klG0n6mXLG2"
      }
    },
    {
      "cell_type": "code",
      "source": [
        "def compress_string(s):\n",
        "    if not s:\n",
        "        return \"\"\n",
        "\n",
        "    compressed = []\n",
        "    count = 1\n",
        "\n",
        "    for i in range(1, len(s)):\n",
        "        if s[i] == s[i - 1]:\n",
        "            count += 1\n",
        "        else:\n",
        "            compressed.append(s[i - 1] + str(count))\n",
        "            count = 1\n",
        "\n",
        "\n",
        "    compressed.append(s[-1] + str(count))\n",
        "\n",
        "    compressed_string = ''.join(compressed)\n",
        "    return compressed_string if len(compressed_string) < len(s) else s\n",
        "\n",
        "input_string = \"aaabbcccdddeeffffg\"\n",
        "compressed_string= compress_string(input_string)\n",
        "\n",
        "print(f\"Compressed string: {compressed_string}\")"
      ],
      "metadata": {
        "colab": {
          "base_uri": "https://localhost:8080/"
        },
        "id": "nvSU8PSdWr20",
        "outputId": "4ff82062-6003-438d-cb64-6c432ffc3a86"
      },
      "execution_count": null,
      "outputs": [
        {
          "output_type": "stream",
          "name": "stdout",
          "text": [
            "Compressed string: a3b2c3d3e2f4g1\n"
          ]
        }
      ]
    },
    {
      "cell_type": "markdown",
      "source": [
        "Q7. Write a code to determine if a string has all unique characters."
      ],
      "metadata": {
        "id": "w9LaQhLrYWjq"
      }
    },
    {
      "cell_type": "code",
      "source": [
        "def has_unique_characters(s):\n",
        "\n",
        "    char_set = set()\n",
        "\n",
        "    for char in s:\n",
        "        if char in char_set:\n",
        "            return False\n",
        "        char_set.add(char)\n",
        "\n",
        "    return True\n",
        "\n",
        "\n",
        "input_string = \"abcdefg\"\n",
        "result=has_unique_characters(input_string)\n",
        "\n",
        "print(f\"Does the string '{input_string}' have all unique characters? {result}\")\n"
      ],
      "metadata": {
        "colab": {
          "base_uri": "https://localhost:8080/"
        },
        "id": "mSjfbsRrXVzA",
        "outputId": "87beb95c-d935-4b7b-93a3-106347e5ab79"
      },
      "execution_count": null,
      "outputs": [
        {
          "output_type": "stream",
          "name": "stdout",
          "text": [
            "Does the string 'abcdefg' have all unique characters? True\n"
          ]
        }
      ]
    },
    {
      "cell_type": "markdown",
      "source": [
        "Q8. Write a code to convert a string into uppercase and lowercase."
      ],
      "metadata": {
        "id": "xVk4254oZBdX"
      }
    },
    {
      "cell_type": "code",
      "source": [
        "a=\"Hello World\"\n",
        "a.upper()\n"
      ],
      "metadata": {
        "colab": {
          "base_uri": "https://localhost:8080/",
          "height": 36
        },
        "id": "ib_R9TWBYhg7",
        "outputId": "e95a9818-cb04-4dff-de2f-302608f01aaf"
      },
      "execution_count": null,
      "outputs": [
        {
          "output_type": "execute_result",
          "data": {
            "text/plain": [
              "'HELLO WORLD'"
            ],
            "application/vnd.google.colaboratory.intrinsic+json": {
              "type": "string"
            }
          },
          "metadata": {},
          "execution_count": 17
        }
      ]
    },
    {
      "cell_type": "code",
      "source": [
        "a.lower()"
      ],
      "metadata": {
        "colab": {
          "base_uri": "https://localhost:8080/",
          "height": 36
        },
        "id": "nMi-yaw1ZIqU",
        "outputId": "786b0e2f-0bf9-49e7-cfc8-fd5edc2113d6"
      },
      "execution_count": null,
      "outputs": [
        {
          "output_type": "execute_result",
          "data": {
            "text/plain": [
              "'hello world'"
            ],
            "application/vnd.google.colaboratory.intrinsic+json": {
              "type": "string"
            }
          },
          "metadata": {},
          "execution_count": 18
        }
      ]
    },
    {
      "cell_type": "markdown",
      "source": [
        "Q9. Write a code to count the number of words in a string."
      ],
      "metadata": {
        "id": "fV0da-MpZKFQ"
      }
    },
    {
      "cell_type": "code",
      "source": [
        "def count_words(s):\n",
        "    words = s.split()\n",
        "    return len(words)\n",
        "input_string = \"Python is a programming launguage used to write code.\"\n",
        "s=count_words(input_string)\n",
        "\n",
        "print(f\"The number of words in the string is: {s}\")\n"
      ],
      "metadata": {
        "colab": {
          "base_uri": "https://localhost:8080/"
        },
        "id": "UUuqkypUZTpz",
        "outputId": "fa929b0a-a3e3-4be8-eee2-ef93017507bd"
      },
      "execution_count": null,
      "outputs": [
        {
          "output_type": "stream",
          "name": "stdout",
          "text": [
            "The number of words in the string is: 9\n"
          ]
        }
      ]
    },
    {
      "cell_type": "markdown",
      "source": [
        "Q10. Write a code to concatenate two strings without using + operator"
      ],
      "metadata": {
        "id": "ZdwCRd_xaoj-"
      }
    },
    {
      "cell_type": "code",
      "source": [
        "a=\"Hello\"\n",
        "b=\"World\"\n",
        "print(f\"{a} {b}\")"
      ],
      "metadata": {
        "colab": {
          "base_uri": "https://localhost:8080/"
        },
        "id": "yaiY5JoQaRpH",
        "outputId": "69f215a6-e416-446c-f7e0-cbdcd723cdc0"
      },
      "execution_count": null,
      "outputs": [
        {
          "output_type": "stream",
          "name": "stdout",
          "text": [
            "Hello World\n"
          ]
        }
      ]
    },
    {
      "cell_type": "markdown",
      "source": [
        "Q11. Write a code to remove all occurances of a specific element from a list."
      ],
      "metadata": {
        "id": "RLFM8vEWa9ee"
      }
    },
    {
      "cell_type": "code",
      "source": [
        "def remove_element(list, element):\n",
        "    new_list = []\n",
        "    for i in list:\n",
        "        if i != element:\n",
        "            new_list.append(i)\n",
        "    return new_list\n",
        "remove_element(list=[1, 2, 3, 4, 5, 5, 5], element=5,)\n"
      ],
      "metadata": {
        "colab": {
          "base_uri": "https://localhost:8080/"
        },
        "id": "xF8XFwsDavEF",
        "outputId": "3aed66c6-a978-40a4-ec50-291ad70ce361"
      },
      "execution_count": null,
      "outputs": [
        {
          "output_type": "execute_result",
          "data": {
            "text/plain": [
              "[1, 2, 3, 4]"
            ]
          },
          "metadata": {},
          "execution_count": 37
        }
      ]
    },
    {
      "cell_type": "markdown",
      "source": [
        "Q12. Implement a code to find the second largest number in a given list of integers."
      ],
      "metadata": {
        "id": "Q5jBLrAmcUrf"
      }
    },
    {
      "cell_type": "code",
      "source": [
        "def second_largest(lst):\n",
        "    if len(lst) < 2:\n",
        "        return None\n",
        "    first = max(lst)\n",
        "    lst = [x for x in lst if x != first]\n",
        "    return max(lst) if lst else None\n",
        "numbers = [10, 50, 4, 45, 89, 99]\n",
        "print(second_largest(numbers))"
      ],
      "metadata": {
        "colab": {
          "base_uri": "https://localhost:8080/"
        },
        "id": "jxiqAvpjbLHK",
        "outputId": "15330b36-6b5e-4d0d-e9f3-4f3ab6c6f362"
      },
      "execution_count": null,
      "outputs": [
        {
          "output_type": "stream",
          "name": "stdout",
          "text": [
            "89\n"
          ]
        }
      ]
    },
    {
      "cell_type": "markdown",
      "source": [
        "Q13. Create a code to count the occurence of each element in a list and return a dictionary with elements as keys and counts as values."
      ],
      "metadata": {
        "id": "Nr33VJe2UHEf"
      }
    },
    {
      "cell_type": "code",
      "source": [
        "def count_elements(lst):\n",
        "    element_counts = {}\n",
        "    for element in lst:\n",
        "        if element in element_counts:\n",
        "            element_counts[element] += 1\n",
        "        else:\n",
        "            element_counts[element] = 1\n",
        "    return element_counts\n",
        "\n",
        "sample_list = [1, 2, 2, 3, 3, 3, 4, 4, 4, 4]\n",
        "print(count_elements(sample_list))"
      ],
      "metadata": {
        "colab": {
          "base_uri": "https://localhost:8080/"
        },
        "id": "_vKlrbe8ccjU",
        "outputId": "578d76e9-8371-4f54-b1cf-062ee38ee76c"
      },
      "execution_count": null,
      "outputs": [
        {
          "output_type": "stream",
          "name": "stdout",
          "text": [
            "{1: 1, 2: 2, 3: 3, 4: 4}\n"
          ]
        }
      ]
    },
    {
      "cell_type": "markdown",
      "source": [
        "Q14. Write a code to reverse a list in-place without using any built in reverse function."
      ],
      "metadata": {
        "id": "f4ptzif_UemH"
      }
    },
    {
      "cell_type": "code",
      "source": [
        "def reverse_list(lst):\n",
        "    left = 0\n",
        "    right = len(lst) - 1\n",
        "\n",
        "    while left < right:\n",
        "        # Swap elements at left and right indices\n",
        "        lst[left], lst[right] = lst[right], lst[left]\n",
        "\n",
        "        # Move towards the center\n",
        "        left += 1\n",
        "        right -= 1\n",
        "\n",
        "\n",
        "sample_list = [1, 2, 3, 4, 5]\n",
        "reverse_list(sample_list)\n",
        "print(sample_list)\n"
      ],
      "metadata": {
        "colab": {
          "base_uri": "https://localhost:8080/"
        },
        "id": "STlsFZ3pUTBs",
        "outputId": "9f627ad9-e6a3-4b0b-8872-ed3adaaf97a7"
      },
      "execution_count": null,
      "outputs": [
        {
          "output_type": "stream",
          "name": "stdout",
          "text": [
            "[5, 4, 3, 2, 1]\n"
          ]
        }
      ]
    },
    {
      "cell_type": "markdown",
      "source": [
        "Q15. Implement a code to find and remove duplicates from a list while preserving the original order of elements."
      ],
      "metadata": {
        "id": "-A6IqPTaU38q"
      }
    },
    {
      "cell_type": "code",
      "source": [
        "def remove_duplicates(lst):\n",
        "    seen = set()\n",
        "    result = []\n",
        "\n",
        "    for element in lst:\n",
        "        if element not in seen:\n",
        "            seen.add(element)\n",
        "            result.append(element)\n",
        "\n",
        "    return result\n",
        "\n",
        "\n",
        "sample_list = [1, 2, 2, 3, 4, 3, 5, 4]\n",
        "print(remove_duplicates(sample_list))"
      ],
      "metadata": {
        "colab": {
          "base_uri": "https://localhost:8080/"
        },
        "id": "yLNctIiCUmue",
        "outputId": "c08f118d-ec7e-4d57-9ba7-adc2e44fbbe8"
      },
      "execution_count": null,
      "outputs": [
        {
          "output_type": "stream",
          "name": "stdout",
          "text": [
            "[1, 2, 3, 4, 5]\n"
          ]
        }
      ]
    },
    {
      "cell_type": "markdown",
      "source": [
        "Q16. Create a code to check if a given list is sorted (either in descending or ascending order) or not."
      ],
      "metadata": {
        "id": "U8OZsoZPVHF5"
      }
    },
    {
      "cell_type": "code",
      "source": [
        "def is_sorted(lst):\n",
        "    ascending = True\n",
        "    descending = True\n",
        "\n",
        "    for i in range(len(lst) - 1):\n",
        "        if lst[i] > lst[i + 1]:\n",
        "            ascending = False\n",
        "        if lst[i] < lst[i + 1]:\n",
        "            descending = False\n",
        "\n",
        "    return ascending or descending\n",
        "\n",
        "\n",
        "sample_list1 = [1, 2, 3, 4, 5]\n",
        "sample_list2 = [5, 4, 3, 2, 1]\n",
        "sample_list3 = [1, 3, 2, 4, 5]\n",
        "\n",
        "print(is_sorted(sample_list1))\n",
        "print(is_sorted(sample_list2))\n",
        "print(is_sorted(sample_list3))"
      ],
      "metadata": {
        "colab": {
          "base_uri": "https://localhost:8080/"
        },
        "id": "3O8q9NjhU_xx",
        "outputId": "be0cbc16-daa0-4a99-ec1a-3bfebd822227"
      },
      "execution_count": null,
      "outputs": [
        {
          "output_type": "stream",
          "name": "stdout",
          "text": [
            "True\n",
            "True\n",
            "False\n"
          ]
        }
      ]
    },
    {
      "cell_type": "markdown",
      "source": [
        "Q17. Write a code to merge two sorted lists into a single sorted lists."
      ],
      "metadata": {
        "id": "vgai4l2fVT4w"
      }
    },
    {
      "cell_type": "code",
      "source": [
        "def merge_sorted_lists(list1, list2):\n",
        "    merged_list = []\n",
        "    i, j = 0, 0\n",
        "\n",
        "    # Traverse both lists and append the smaller element to the merged list\n",
        "    while i < len(list1) and j < len(list2):\n",
        "        if list1[i] < list2[j]:\n",
        "            merged_list.append(list1[i])\n",
        "            i += 1\n",
        "        else:\n",
        "            merged_list.append(list2[j])\n",
        "            j += 1\n",
        "\n",
        "    # Append remaining elements from list1, if any\n",
        "    while i < len(list1):\n",
        "        merged_list.append(list1[i])\n",
        "        i += 1\n",
        "\n",
        "    # Append remaining elements from list2, if any\n",
        "    while j < len(list2):\n",
        "        merged_list.append(list2[j])\n",
        "        j += 1\n",
        "\n",
        "    return merged_list\n",
        "\n",
        "\n",
        "list1 = [1, 3, 5, 7]\n",
        "list2 = [2, 4, 6, 8]\n",
        "print(merge_sorted_lists(list1, list2))"
      ],
      "metadata": {
        "colab": {
          "base_uri": "https://localhost:8080/"
        },
        "id": "a_-soyKzVL2A",
        "outputId": "8285cfe5-b066-4228-f05d-08e5b53eb0fa"
      },
      "execution_count": null,
      "outputs": [
        {
          "output_type": "stream",
          "name": "stdout",
          "text": [
            "[1, 2, 3, 4, 5, 6, 7, 8]\n"
          ]
        }
      ]
    },
    {
      "cell_type": "markdown",
      "source": [
        "Q18. Implement a code to find the intersection of two given lists"
      ],
      "metadata": {
        "id": "kQtzhMC0Vna5"
      }
    },
    {
      "cell_type": "code",
      "source": [
        "def intersection(list1, list2):\n",
        "    set1 = set(list1)\n",
        "    set2 = set(list2)\n",
        "    return list(set1 & set2)\n",
        "\n",
        "\n",
        "list1 = [\"cooking\",\"hiking\",\"reading\"]\n",
        "list2 = [\"cooking\",\"photography\",\"travelling\"]\n",
        "print(intersection(list1, list2))\n"
      ],
      "metadata": {
        "colab": {
          "base_uri": "https://localhost:8080/"
        },
        "id": "lyqKqU9-Viop",
        "outputId": "fcbff927-a74f-4a40-bb15-3a22dff447be"
      },
      "execution_count": null,
      "outputs": [
        {
          "output_type": "stream",
          "name": "stdout",
          "text": [
            "['cooking']\n"
          ]
        }
      ]
    },
    {
      "cell_type": "markdown",
      "source": [
        "Q19. Implement a code to find the union of two lists without any duplicates"
      ],
      "metadata": {
        "id": "V5fR6ylYV1sT"
      }
    },
    {
      "cell_type": "code",
      "source": [
        "def union(list1, list2):\n",
        "    return list(set(list1) | set(list2))\n",
        "\n",
        "\n",
        "list1 = [1, 2, 3, 4, 5]\n",
        "list2 = [4, 5, 6, 7, 8]\n",
        "print(union(list1, list2))\n"
      ],
      "metadata": {
        "colab": {
          "base_uri": "https://localhost:8080/"
        },
        "id": "f0hzmZmzVxBA",
        "outputId": "914dd9b9-9162-4265-b1ee-0839a1ff9cc8"
      },
      "execution_count": null,
      "outputs": [
        {
          "output_type": "stream",
          "name": "stdout",
          "text": [
            "[1, 2, 3, 4, 5, 6, 7, 8]\n"
          ]
        }
      ]
    },
    {
      "cell_type": "markdown",
      "source": [
        "Q20. Write a code to shuffle a given list randomly without using any built-in shuffle functions."
      ],
      "metadata": {
        "id": "kql9XW7LV_-B"
      }
    },
    {
      "cell_type": "code",
      "source": [
        "import random\n",
        "\n",
        "def shuffle_list(lst):\n",
        "    n = len(lst)\n",
        "    for i in range(n - 1, 0, -1):\n",
        "        # Generate a random index from 0 to i\n",
        "        j = random.randint(0, i)\n",
        "        # Swap elements at i and j\n",
        "        lst[i], lst[j] = lst[j], lst[i]\n",
        "sample_list = [1, 2, 3, 4, 5]\n",
        "shuffle_list(sample_list)\n",
        "print(sample_list)"
      ],
      "metadata": {
        "colab": {
          "base_uri": "https://localhost:8080/"
        },
        "id": "KepkkbblWE1k",
        "outputId": "7c0b828e-7fd4-464e-a5c7-b5bcb98fa729"
      },
      "execution_count": null,
      "outputs": [
        {
          "output_type": "stream",
          "name": "stdout",
          "text": [
            "[1, 4, 2, 5, 3]\n"
          ]
        }
      ]
    },
    {
      "cell_type": "markdown",
      "source": [
        "Q21. Write a code that takes two tuples as input and returns a new tuple containing elements that are common to both input tuples."
      ],
      "metadata": {
        "id": "JYMtBmKGWPCa"
      }
    },
    {
      "cell_type": "code",
      "source": [
        "def common_elements(tuple1, tuple2):\n",
        "    set1 = set(tuple1)\n",
        "    set2 = set(tuple2)\n",
        "    common_set = set1 & set2  # Find the intersection\n",
        "    return tuple(common_set)   # Convert the set back to a tuple\n",
        "\n",
        "\n",
        "tuple1 = (1, 2, 3, 4, 5)\n",
        "tuple2 = (4, 5, 6, 7, 8)\n",
        "result = common_elements(tuple1, tuple2)\n",
        "print(result)"
      ],
      "metadata": {
        "id": "TRVZa3yQWZof",
        "outputId": "05a4b22b-23ea-44f9-df10-bcece81863be",
        "colab": {
          "base_uri": "https://localhost:8080/"
        }
      },
      "execution_count": null,
      "outputs": [
        {
          "output_type": "stream",
          "name": "stdout",
          "text": [
            "(4, 5)\n"
          ]
        }
      ]
    },
    {
      "cell_type": "markdown",
      "source": [
        "Q22. Create a code that prompts the user to enter two sets of integers seperated by commas.Then print the intersection of these two sets."
      ],
      "metadata": {
        "id": "Fg_4J4gvj8vw"
      }
    },
    {
      "cell_type": "code",
      "source": [
        "set1 = set(map(int, input(\"Enter the first set of integers, separated by commas: \").split(',')))\n",
        "set2 = set(map(int, input(\"Enter the second set of integers, separated by commas: \").split(',')))\n",
        "\n",
        "\n",
        "intersection = set1.intersection(set2)\n",
        "print(\"The intersection of the two sets is:\", intersection)\n"
      ],
      "metadata": {
        "colab": {
          "base_uri": "https://localhost:8080/"
        },
        "id": "O1L3L1PvkGKy",
        "outputId": "37cc2eca-e635-4a3f-e816-e3b507e54c4d"
      },
      "execution_count": null,
      "outputs": [
        {
          "output_type": "stream",
          "name": "stdout",
          "text": [
            "Enter the first set of integers, separated by commas: 1,2,3,4\n",
            "Enter the second set of integers, separated by commas: 2,3,4,5,6\n",
            "The intersection of the two sets is: {2, 3, 4}\n"
          ]
        }
      ]
    },
    {
      "cell_type": "markdown",
      "source": [
        "Q23. Write a code to concatenate two tuples.The function should take two tuples as input and return a new tuple containing elements from both input tuples"
      ],
      "metadata": {
        "id": "vxiHQUOnkVGQ"
      }
    },
    {
      "cell_type": "code",
      "source": [
        "def concatenate_tuples(tuple1, tuple2):\n",
        "\n",
        "    result = tuple1 + tuple2\n",
        "    return result\n",
        "\n",
        "\n",
        "tuple1 = (1, 2, 4)\n",
        "tuple2 = (4, 5, 8)\n",
        "\n",
        "concatenated_tuple = concatenate_tuples(tuple1, tuple2)\n",
        "print(\"Concatenated Tuple:\", concatenated_tuple)"
      ],
      "metadata": {
        "colab": {
          "base_uri": "https://localhost:8080/"
        },
        "id": "k-SS6DlAkKNQ",
        "outputId": "e6b51c4a-e783-4f14-d8be-4380fea20226"
      },
      "execution_count": null,
      "outputs": [
        {
          "output_type": "stream",
          "name": "stdout",
          "text": [
            "Concatenated Tuple: (1, 2, 4, 4, 5, 8)\n"
          ]
        }
      ]
    },
    {
      "cell_type": "markdown",
      "source": [
        "Q24. Develop a code that prompts the user to input two sets of strings. Then print the elements that are present in the first set but not in the second set"
      ],
      "metadata": {
        "id": "UnscKPP1krTw"
      }
    },
    {
      "cell_type": "code",
      "source": [
        "set1 = set(input(\"Enter elements of the first set (separated by spaces): \").split())\n",
        "set2 = set(input(\"Enter elements of the second set (separated by spaces): \").split())\n",
        "\n",
        "\n",
        "difference = set1 - set2\n",
        "\n",
        "\n",
        "print(\"Elements present in the first set but not in the second set:\", difference)"
      ],
      "metadata": {
        "colab": {
          "base_uri": "https://localhost:8080/"
        },
        "id": "WTmzvX1GkewL",
        "outputId": "73a8a22d-268f-4d93-d7cd-84a2da1c8694"
      },
      "execution_count": null,
      "outputs": [
        {
          "output_type": "stream",
          "name": "stdout",
          "text": [
            "Enter elements of the first set (separated by spaces): 5 6 4\n",
            "Enter elements of the second set (separated by spaces): 2 3 8\n",
            "Elements present in the first set but not in the second set: {'4', '6', '5'}\n"
          ]
        }
      ]
    },
    {
      "cell_type": "markdown",
      "source": [
        "Q25. Create a code that takes a tuple and two integers as input.The function should return a new tuple containing elements from the original tuple within the specified range of indices"
      ],
      "metadata": {
        "id": "r9ANz4ttq9dO"
      }
    },
    {
      "cell_type": "code",
      "source": [
        "def slice_tuple(tup, start, end):\n",
        "    \"\"\"\n",
        "    Returns a new tuple containing elements from the original tuple\n",
        "    within the specified range of indices.\n",
        "    \"\"\"\n",
        "\n",
        "    return tup[start:end]\n",
        "\n",
        "\n",
        "tup_input = input(\"Enter the elements of the tuple separated by spaces: \")\n",
        "\n",
        "tup = tuple(tup_input.split())\n",
        "\n",
        "\n",
        "start = int(input(\"Enter the start index: \"))\n",
        "end = int(input(\"Enter the end index: \"))\n",
        "\n",
        "\n",
        "result = slice_tuple(tup, start, end)\n",
        "print(\"New tuple with specified range:\", result)"
      ],
      "metadata": {
        "id": "kRT2wyc2k2jc",
        "colab": {
          "base_uri": "https://localhost:8080/"
        },
        "outputId": "4bd322c1-2dd0-4867-aaee-817dd06fd6cf"
      },
      "execution_count": 1,
      "outputs": [
        {
          "output_type": "stream",
          "name": "stdout",
          "text": [
            "Enter the elements of the tuple separated by spaces: red blue green\n",
            "Enter the start index: 0\n",
            "Enter the end index: 2\n",
            "New tuple with specified range: ('red', 'blue')\n"
          ]
        }
      ]
    },
    {
      "cell_type": "markdown",
      "source": [
        "Q26. Write a code that prompts the user to input two sets of characters.Then print the union of these two sets"
      ],
      "metadata": {
        "id": "jFaiAJyNrvXn"
      }
    },
    {
      "cell_type": "code",
      "source": [
        "set1 = set(input(\"Enter characters for the first set(no space needed)\"))\n",
        "set2 = set(input(\"enter characters for the second set(no space neended)\"))\n",
        "\n",
        "union_set = set1 | set2\n",
        "\n",
        "print(\"union of two sets:\",union_set)"
      ],
      "metadata": {
        "colab": {
          "base_uri": "https://localhost:8080/"
        },
        "id": "JnwU1t5crhvG",
        "outputId": "e122963f-4649-450e-f085-eed18d756770"
      },
      "execution_count": 4,
      "outputs": [
        {
          "output_type": "stream",
          "name": "stdout",
          "text": [
            "Enter characters for the first set(no space needed)12345\n",
            "enter characters for the second set(no space neended)24568\n",
            "union of two sets: {'4', '2', '8', '1', '3', '5', '6'}\n"
          ]
        }
      ]
    },
    {
      "cell_type": "markdown",
      "source": [
        "Q27. Develop a code that takes the tuple of integers as input. The function should return the maximum and minimum values from the tuple using unpacking"
      ],
      "metadata": {
        "id": "DbLYeNrNuTGO"
      }
    },
    {
      "cell_type": "code",
      "source": [
        "def min_max(tup):\n",
        "  \"\"\"\n",
        "  Returns a tuple containing the minimum and maximum values from the input tuple.\n",
        "  \"\"\"\n",
        "  min_value = min(tup)\n",
        "  max_value = max(tup)\n",
        "  return min_value, max_value\n",
        "\n",
        "tup_input = input(\"Enter the elements of the tuple separated by spaces: \")\n",
        "tup = tuple(map(int, tup_input.split()))\n",
        "\n",
        "min_value,max_value = min_max(tup)\n",
        "\n",
        "print(\"Minimum value:\", min_value)\n",
        "print(\"Maximum value:\", max_value)"
      ],
      "metadata": {
        "colab": {
          "base_uri": "https://localhost:8080/"
        },
        "id": "AS6NKebvs1Yx",
        "outputId": "b2834ecc-f5f2-44aa-8167-3e9b37d675d3"
      },
      "execution_count": 9,
      "outputs": [
        {
          "output_type": "stream",
          "name": "stdout",
          "text": [
            "Enter the elements of the tuple separated by spaces: 12 15 36 55 42\n",
            "Minimum value: 12\n",
            "Maximum value: 55\n"
          ]
        }
      ]
    },
    {
      "cell_type": "markdown",
      "source": [
        "Q28. Create a code that defines two sets of integers. Then print the union,intersection and the difference of these two sets"
      ],
      "metadata": {
        "id": "E6MP6YeKwEef"
      }
    },
    {
      "cell_type": "code",
      "source": [
        "set1= {1,2,3,4,5,6}\n",
        "set2= {4,5,6,7,8,9}\n",
        "\n",
        "union = set1 | set2\n",
        "intersection = set1 & set2\n",
        "difference = set1 - set2\n",
        "\n",
        "print(\"Union:\", union)\n",
        "print(\"Intersection:\", intersection)\n",
        "print(\"Difference:\", difference)\n"
      ],
      "metadata": {
        "colab": {
          "base_uri": "https://localhost:8080/"
        },
        "id": "fRHrbYcHvTnf",
        "outputId": "e74d010a-ec27-400c-b96b-76d29e8d6942"
      },
      "execution_count": 10,
      "outputs": [
        {
          "output_type": "stream",
          "name": "stdout",
          "text": [
            "Union: {1, 2, 3, 4, 5, 6, 7, 8, 9}\n",
            "Intersection: {4, 5, 6}\n",
            "Difference: {1, 2, 3}\n"
          ]
        }
      ]
    },
    {
      "cell_type": "markdown",
      "source": [
        "Q29. Write a code that takes a tuple and a element as input. The function should return the count of occcurence of the given element in the tuple\n"
      ],
      "metadata": {
        "id": "QMVAWi6Mxib2"
      }
    },
    {
      "cell_type": "code",
      "source": [
        "def count_occurences(tup, element):\n",
        "  \"\"\"\n",
        "  returns the count of occurences of the given element in the tuple.\n",
        "  \"\"\"\n",
        "  return tup.count(element)\n",
        "\n",
        "tup_input = input(\"enter the element of the tuple\")\n",
        "tup= tuple(tup_input.split())\n",
        "\n",
        "element = input(\"enter the element to count\")\n",
        "\n",
        "count = count_occurences(tup, element)\n",
        "print(f\"The element '{element}' occurs{count} time(s) in the tuple\")"
      ],
      "metadata": {
        "colab": {
          "base_uri": "https://localhost:8080/"
        },
        "id": "WeKcFfA_xcI9",
        "outputId": "9a32c2e9-5b5c-417e-8003-c402093658cb"
      },
      "execution_count": 17,
      "outputs": [
        {
          "output_type": "stream",
          "name": "stdout",
          "text": [
            "enter the element of the tuplered blacl red green red blue\n",
            "enter the element to countred\n",
            "The element 'red' occurs3 time(s) in the tuple\n"
          ]
        }
      ]
    },
    {
      "cell_type": "markdown",
      "source": [
        "Q30. Develop a code that prompts a user to input two sets of string. Then print the symmetric difference of these two sets"
      ],
      "metadata": {
        "id": "f285aDqh1PCV"
      }
    },
    {
      "cell_type": "code",
      "source": [
        "set1 = set(input(\"enter elements of first set (seperated by spaces):\").split())\n",
        "set2 = set(input(\"enter elements of second set (seperated by spaces):\").split())\n",
        "\n",
        "symmetric_difference = set1 ^ set2\n",
        "\n",
        "print(\"symmetric difference of two sets:\",symmetric_difference)"
      ],
      "metadata": {
        "colab": {
          "base_uri": "https://localhost:8080/"
        },
        "id": "jbEsfeWMyzGf",
        "outputId": "5228f8cf-25de-4f30-e082-affc047c66c4"
      },
      "execution_count": 2,
      "outputs": [
        {
          "output_type": "stream",
          "name": "stdout",
          "text": [
            "enter elements of first set (seperated by spaces):red black blue green\n",
            "enter elements of second set (seperated by spaces):black green orange\n",
            "symmetric difference of two sets: {'red', 'orange', 'blue'}\n"
          ]
        }
      ]
    },
    {
      "cell_type": "markdown",
      "source": [
        "Q31. Write a code that takes a list of words as input and returns a dictionary where the keys are unique words and the values are the frequencies of those words in the input list"
      ],
      "metadata": {
        "id": "wOI9U4Ux7kbX"
      }
    },
    {
      "cell_type": "code",
      "source": [
        "def word_frequencies(word_list):\n",
        "    \"\"\"\n",
        "    Returns a dictionary where the keys are unique words and the values are the frequencies of those words in the input list.\n",
        "    \"\"\"\n",
        "    frequency_dict = {}\n",
        "    for word in word_list:\n",
        "        if word in frequency_dict:\n",
        "            frequency_dict[word] += 1\n",
        "        else:\n",
        "            frequency_dict[word] = 1\n",
        "    return frequency_dict\n",
        "\n",
        "words_input = input(\"Enter a list of words separated by spaces: \")\n",
        "word_list = words_input.split()\n",
        "\n",
        "frequencies = word_frequencies(word_list)\n",
        "print(\"Word frequencies:\", frequencies)"
      ],
      "metadata": {
        "colab": {
          "base_uri": "https://localhost:8080/"
        },
        "id": "x29GIAfS6_ld",
        "outputId": "137f9e44-d325-417b-fdaf-a3132b52e94a"
      },
      "execution_count": 3,
      "outputs": [
        {
          "output_type": "stream",
          "name": "stdout",
          "text": [
            "Enter a list of words separated by spaces: red black red green red blue black\n",
            "Word frequencies: {'red': 3, 'black': 2, 'green': 1, 'blue': 1}\n"
          ]
        }
      ]
    },
    {
      "cell_type": "markdown",
      "source": [
        "Q32. Write a code that takes two dictionaries as input and merges them into a single dictionary .If there are common keys , the values should be added together"
      ],
      "metadata": {
        "id": "9NDZctA38hZt"
      }
    },
    {
      "cell_type": "code",
      "source": [
        "def merge_dictionaries(dict1, dict2):\n",
        "    \"\"\"\n",
        "    Merges two dictionaries by adding values for common keys.\n",
        "    \"\"\"\n",
        "    merged_dict=dict1.copy()\n",
        "    for key,value in dict2.items():\n",
        "        if key in merged_dict:\n",
        "          merged_dict[key] +=value\n",
        "        else:\n",
        "          merged_dict[key]=value\n",
        "    return merged_dict\n",
        "\n",
        "dict1= {\"a\":1,\"b\":2,\"c\":3}\n",
        "dict2= {\"b\":4,\"c\":5,\"d\":6}\n",
        "\n",
        "merged_dict=merge_dictionaries(dict1,dict2)\n",
        "print(\"merged dictionary:\",merged_dict)"
      ],
      "metadata": {
        "colab": {
          "base_uri": "https://localhost:8080/"
        },
        "id": "jFim3dDs8Wfk",
        "outputId": "083a0db9-230a-4e0e-d823-52b1fd460c41"
      },
      "execution_count": 7,
      "outputs": [
        {
          "output_type": "stream",
          "name": "stdout",
          "text": [
            "merged dictionary: {'a': 1, 'b': 6, 'c': 8, 'd': 6}\n"
          ]
        }
      ]
    },
    {
      "cell_type": "markdown",
      "source": [
        "Q33. Write a code to access a value in a nested dictionary.The function should take the dictionary and list of keys as input and return the corresponding value. If any of the keys do not exist in the dictionary,the function should return none."
      ],
      "metadata": {
        "id": "5pkWuc6I-bu0"
      }
    },
    {
      "cell_type": "code",
      "source": [
        "def get_nested_value(nested_dict, keys):\n",
        "    \"\"\"\n",
        "    Returns the value from a nested dictionary using a list of keys.\n",
        "    If any key is missing, returns None.\n",
        "    \"\"\"\n",
        "    current = nested_dict\n",
        "    for key in keys:\n",
        "        if key in current:\n",
        "            current = current[key]\n",
        "        else:\n",
        "            return None\n",
        "    return current\n",
        "\n",
        "\n",
        "nested_dict = {\n",
        "    'a': {\n",
        "        'b': {\n",
        "            'c': 10\n",
        "        }\n",
        "    }\n",
        "}\n",
        "\n",
        "\n",
        "keys = input(\"Enter the keys separated by spaces: \").split()\n",
        "\n",
        "\n",
        "value = get_nested_value(nested_dict, keys)\n",
        "print(\"Value:\", value)"
      ],
      "metadata": {
        "colab": {
          "base_uri": "https://localhost:8080/"
        },
        "id": "gXa3Mc0i96ZV",
        "outputId": "8e56641c-e1d9-4321-e2d9-49df01806867"
      },
      "execution_count": 10,
      "outputs": [
        {
          "output_type": "stream",
          "name": "stdout",
          "text": [
            "Enter the keys separated by spaces: a b c\n",
            "Value: 10\n"
          ]
        }
      ]
    },
    {
      "cell_type": "markdown",
      "source": [
        "Q34. Write a code that takes the dictionary as input and returns a sorted version of it based on the values.You can choose whether to sort in ascending or descending order"
      ],
      "metadata": {
        "id": "ykdDDZ8NQ0uM"
      }
    },
    {
      "cell_type": "code",
      "source": [
        "def sort_dict_by_values(input_dict, ascending=True):\n",
        "    \"\"\"\n",
        "    Returns a dictionary sorted by values.\n",
        "\n",
        "    Parameters:\n",
        "    - input_dict: The dictionary to be sorted.\n",
        "    - ascending: Boolean indicating sort order (True for ascending, False for descending).\n",
        "    \"\"\"\n",
        "\n",
        "    sorted_dict = dict(sorted(input_dict.items(), key=lambda item: item[1], reverse=not ascending))\n",
        "    return sorted_dict\n",
        "\n",
        "\n",
        "dict_input = input(\"Enter the dictionary in the format key1:value1 key2:value2 ... : \")\n",
        "\n",
        "input_dict = dict(item.split(\":\") for item in dict_input.split())\n",
        "\n",
        "input_dict = {k: int(v) for k, v in input_dict.items()}\n",
        "\n",
        "\n",
        "order = input(\"Enter 'asc' for ascending or 'desc' for descending order: \").lower()\n",
        "ascending = order == 'asc'\n",
        "\n",
        "\n",
        "sorted_dict = sort_dict_by_values(input_dict, ascending)\n",
        "print(\"Sorted dictionary:\", sorted_dict)\n"
      ],
      "metadata": {
        "colab": {
          "base_uri": "https://localhost:8080/"
        },
        "id": "tQGOqigSQhUN",
        "outputId": "b1b8ec80-232e-4465-9ff1-2fa698e4be7e"
      },
      "execution_count": 12,
      "outputs": [
        {
          "output_type": "stream",
          "name": "stdout",
          "text": [
            "Enter the dictionary in the format key1:value1 key2:value2 ... : a:1 b:2 c:3\n",
            "Enter 'asc' for ascending or 'desc' for descending order: desc\n",
            "Sorted dictionary: {'c': 3, 'b': 2, 'a': 1}\n"
          ]
        }
      ]
    },
    {
      "cell_type": "markdown",
      "source": [
        "Q35. Write a code that inverts a dictionary, swapping keys and values. Ensure that the inverted dictionary correctly handles cases where multiple keys have the same value by storing the keys as a list in the inverted dictionary"
      ],
      "metadata": {
        "id": "X7rcWty-Rbm_"
      }
    },
    {
      "cell_type": "code",
      "source": [
        "def invert_dictionary(input_dict):\n",
        "    \"\"\"\n",
        "    Returns an inverted dictionary with keys and values swapped.\n",
        "    If multiple keys have the same value, they are stored as a list in the inverted dictionary.\n",
        "    \"\"\"\n",
        "    inverted_dict = {}\n",
        "    for key, value in input_dict.items():\n",
        "        if value in inverted_dict:\n",
        "\n",
        "            inverted_dict[value].append(key)\n",
        "        else:\n",
        "\n",
        "            inverted_dict[value] = [key]\n",
        "    return inverted_dict\n",
        "\n",
        "\n",
        "input_dict = {\n",
        "    'a': 1,\n",
        "    'b': 2,\n",
        "    'c': 1,\n",
        "    'd': 3,\n",
        "    'e': 2\n",
        "}\n",
        "\n",
        "\n",
        "inverted_dict = invert_dictionary(input_dict)\n",
        "print(\"Inverted dictionary:\", inverted_dict)\n"
      ],
      "metadata": {
        "colab": {
          "base_uri": "https://localhost:8080/"
        },
        "id": "5kXAX3OrREHe",
        "outputId": "64ce148b-c967-45d7-f178-1ddf0457a6dc"
      },
      "execution_count": 13,
      "outputs": [
        {
          "output_type": "stream",
          "name": "stdout",
          "text": [
            "Inverted dictionary: {1: ['a', 'c'], 2: ['b', 'e'], 3: ['d']}\n"
          ]
        }
      ]
    },
    {
      "cell_type": "code",
      "source": [],
      "metadata": {
        "id": "Zpw2EpZYRlBN"
      },
      "execution_count": null,
      "outputs": []
    }
  ]
}