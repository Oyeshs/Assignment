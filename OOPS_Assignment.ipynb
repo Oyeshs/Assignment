{
  "nbformat": 4,
  "nbformat_minor": 0,
  "metadata": {
    "colab": {
      "provenance": []
    },
    "kernelspec": {
      "name": "python3",
      "display_name": "Python 3"
    },
    "language_info": {
      "name": "python"
    }
  },
  "cells": [
    {
      "cell_type": "markdown",
      "source": [
        "Q1- What are thr five key concepts of OBJECT ORIENTED PROGRAMMING?\n",
        "\n",
        "Ans:- The five key concepts of object oriented peogramming are:\n",
        "\n",
        "1- **Encapsulation:** The principle involves building the data (attributes) and methods (functions) that operate on the data into a single unit called and object. It restricts direct access to some of an object's components, which can help prevent unintended interference and misuse.\n",
        "\n",
        "2-**Abstraction:** Abstraction allows programmers to focus on the essential features of an object while hiding the complex implementation details. It simplifies complex syatems by modeling classes based on the essentials characteristics of the objects the represent.\n",
        "\n",
        "3-**Interitance:** Inheritance is a mechanism by which one class(the child or subclass) can inherit attributes and methods from another class(the parent or superclass). This promotes code reuse and establishes a hierarchical relationship between classes.\n",
        "\n",
        "4-**Polymorphism:** Polymorphism enables a single interface to represent underlying forms(data types). It allows methods to do different things based on the object it is acting upon, typically achieved through method overriding or overloading.\n",
        "\n",
        "5-**Classes and Objects:** At the core of OOP are classes (blueprints for creating objects) and objects(instances of classes). A class defines the properties and behaviours that its objects will have, while objects represent real-world entities."
      ],
      "metadata": {
        "id": "yjfqzE2QyJq0"
      }
    },
    {
      "cell_type": "markdown",
      "source": [
        "Q2- write a python class for a 'car with attributes for 'make','model','year'. Include a method to display car's information."
      ],
      "metadata": {
        "id": "HTFwdvFZ6Ai-"
      }
    },
    {
      "cell_type": "code",
      "execution_count": null,
      "metadata": {
        "colab": {
          "base_uri": "https://localhost:8080/"
        },
        "id": "Uo8sBlE7yE2C",
        "outputId": "46c023a3-62f6-421e-ef0a-1ea41442a045"
      },
      "outputs": [
        {
          "output_type": "stream",
          "name": "stdout",
          "text": [
            "car make: maruti\n",
            "car model: swift\n",
            "car year: 2025\n"
          ]
        }
      ],
      "source": [
        "class car:\n",
        "  def __init__(self,make,model,year):\n",
        "    self.make=make\n",
        "    self.model=model\n",
        "    self.year=year\n",
        "\n",
        "  def display_info(self):\n",
        "    print(f\"car make: {self.make}\")\n",
        "    print(f\"car model: {self.model}\")\n",
        "    print(f\"car year: {self.year}\")\n",
        "\n",
        "my_car = car(\"maruti\", \"swift\", 2025)\n",
        "my_car.display_info()\n"
      ]
    },
    {
      "cell_type": "markdown",
      "source": [
        "Q3- Explain the difference between instance methods and class methods. Provide an example for each\n",
        "\n",
        "Ans:- In python, instance methods and class methods are two types of methods that serves different purposes and have different behaviours.\n",
        "\n",
        "**Instance Methods**\n",
        "Instance Methods are functions defined within a class that operates on instances of that class. They take self as their first parameter,which refers to the instance of the class that is caling the method.\n",
        "Example:\n"
      ],
      "metadata": {
        "id": "9dxN4jZ6yIr0"
      }
    },
    {
      "cell_type": "code",
      "source": [
        "class dog:\n",
        "  def __init__(self,name):\n",
        "    self.name=name\n",
        "  def bark(self):\n",
        "    return f\"{self.name} says Woof!\"\n",
        "my_dog = dog(\"sunny\")\n",
        "print(my_dog.bark())"
      ],
      "metadata": {
        "colab": {
          "base_uri": "https://localhost:8080/"
        },
        "id": "_Enpix1B_z01",
        "outputId": "86d4ec60-6408-443e-b644-c363c7ccb3b8"
      },
      "execution_count": null,
      "outputs": [
        {
          "output_type": "stream",
          "name": "stdout",
          "text": [
            "sunny says Woof!\n"
          ]
        }
      ]
    },
    {
      "cell_type": "markdown",
      "source": [
        "**Class Methods**\n",
        "Class methods are functions that are defined with the @classmethod decorator and takes class as their first parameter, which refers to the class itself rather than an instance. Class methods can be called on the class itself,not just on instances.\n",
        "\n",
        "Example:"
      ],
      "metadata": {
        "id": "xpMbbMRACZlo"
      }
    },
    {
      "cell_type": "code",
      "source": [
        "class dog:\n",
        "  species = \"canis familiais\"  #class attribute\n",
        "\n",
        "  def __init__(self,name):\n",
        "    self.name=name\n",
        "\n",
        "  @classmethod\n",
        "  def get_species(cls):\n",
        "    return cls.species\n",
        "\n",
        "print(dog.get_species())"
      ],
      "metadata": {
        "colab": {
          "base_uri": "https://localhost:8080/"
        },
        "id": "53lYyFP-CUH-",
        "outputId": "135d7d90-2f33-4349-c26f-09226ed618e2"
      },
      "execution_count": null,
      "outputs": [
        {
          "output_type": "stream",
          "name": "stdout",
          "text": [
            "canis familiais\n"
          ]
        }
      ]
    },
    {
      "cell_type": "markdown",
      "source": [
        "Q4. How does python implement method overloading? Give an example.\n",
        "\n",
        "Ans: Python doesnot support method overloading in the traditional sense,as seen in languages like java or c++. Instead python allows onlyone method with a given name within a class. However, you can achieve similar functionality using default arguments,variable-length arguments,or by checking the types of the arguments within a single method.\n",
        "\n",
        "Example using default arguments:"
      ],
      "metadata": {
        "id": "T_bPQ8kFEASs"
      }
    },
    {
      "cell_type": "code",
      "source": [
        "class calculator:\n",
        "  def add(self,a,b=0,c=0):\n",
        "    return a+b+c\n",
        "\n",
        "calc= calculator()\n",
        "print(calc.add(4))\n",
        "print(calc.add(4,6))\n",
        "print(calc.add(4,6,9))"
      ],
      "metadata": {
        "colab": {
          "base_uri": "https://localhost:8080/"
        },
        "id": "6Ua9rUdwD64w",
        "outputId": "03ce0c92-6ff6-455a-aaa0-d817e0249f53"
      },
      "execution_count": null,
      "outputs": [
        {
          "output_type": "stream",
          "name": "stdout",
          "text": [
            "4\n",
            "10\n",
            "19\n"
          ]
        }
      ]
    },
    {
      "cell_type": "markdown",
      "source": [
        "Example using Variable-Length Arguments"
      ],
      "metadata": {
        "id": "tvMNzR8JKy2d"
      }
    },
    {
      "cell_type": "code",
      "source": [
        "class Concatenator:\n",
        "  def concatenator(self,*args):\n",
        "    return ' '.join(args)\n",
        "\n",
        "concat= Concatenator()\n",
        "print(concat.concatenator(\"hello\"))\n",
        "print(concat.concatenator(\"hello\",\"world!!\"))\n",
        "print(concat.concatenator(\"python\",\"is\",\"a launguage\"))"
      ],
      "metadata": {
        "colab": {
          "base_uri": "https://localhost:8080/"
        },
        "id": "nPt4bGvoFlIx",
        "outputId": "fabba469-50eb-4d96-c720-c5ac2b6fac8e"
      },
      "execution_count": null,
      "outputs": [
        {
          "output_type": "stream",
          "name": "stdout",
          "text": [
            "hello\n",
            "hello world!!\n",
            "python is a launguage\n"
          ]
        }
      ]
    },
    {
      "cell_type": "markdown",
      "source": [
        "Q5. WHAT ARE THE THREE TYPES OF ACCESS MODIFIERS IN PYTHON? HOW ARE THEY DENOTED?\n",
        "\n",
        "Ans: In Python, there are three main types of access modifiers that control the visibility of class members (attributes and methods):\n",
        "\n",
        "**Public:**\n",
        "\n",
        "**Denotation:** No special prefix.\n",
        "\n",
        "Example: 'self.attribute'\n",
        "\n",
        "**Access:** Members are accessible from outside the class.\n",
        "\n",
        "**Protected:**\n",
        "\n",
        "**Denotation:** A single underscore prefix ('_').\n",
        "\n",
        "Example: 'self._attribute'\n",
        "\n",
        "**Access:** Intended for internal use within the class and its subclasses. It can still be accessed from outside but is a convention to indicate that it should be treated as a non-public part of the API.\n",
        "\n",
        "**Private:**\n",
        "\n",
        "**Denotation:** A double underscore prefix ('__').\n",
        "\n",
        "Example: 'self.__attribute'\n",
        "\n",
        "**Access:** Members are not accessible from outside the class. This is achieved through name mangling, where the interpreter changes the name of the attribute to include the class name.\n",
        "\n",
        "These modifiers help manage the encapsulation and organization of code within classes."
      ],
      "metadata": {
        "id": "oOLUDvmEMY0I"
      }
    },
    {
      "cell_type": "markdown",
      "source": [
        "Q6. DESCRIBE THE FIVE TYPES OF INHERITENCE IN PYTHON.PROVIDE A SIMPLE EXAMPLE OF MULTIPLE INHERITANCE.\n",
        "\n",
        "Ans: In Python, there are five main types of inheritance:\n",
        "\n",
        "1. **Single Inheritance:**\n",
        "\n",
        "A class inherits from one parent class.\n",
        "\n",
        "Example:"
      ],
      "metadata": {
        "id": "xReKJPXoM5xv"
      }
    },
    {
      "cell_type": "code",
      "source": [
        "class parent:\n",
        "  def display(self):\n",
        "    print(\"this is the parent class\")\n",
        "\n",
        "class child(parent):\n",
        "  pass\n",
        "\n",
        "c=child()\n",
        "c.display()"
      ],
      "metadata": {
        "colab": {
          "base_uri": "https://localhost:8080/"
        },
        "id": "2_-zGmMCLMAI",
        "outputId": "ddd0b3ec-971d-4440-b9d0-dd72ab8b7748"
      },
      "execution_count": null,
      "outputs": [
        {
          "output_type": "stream",
          "name": "stdout",
          "text": [
            "this is the parent class\n"
          ]
        }
      ]
    },
    {
      "cell_type": "markdown",
      "source": [
        "2-**Multiple Inheritance:**\n",
        "A class inherits from more than one parent class.\n",
        "\n",
        "Example:\n"
      ],
      "metadata": {
        "id": "FuiICBGUNYPi"
      }
    },
    {
      "cell_type": "code",
      "source": [
        "class ClassA:\n",
        "  def method_a(self):\n",
        "    print(\"Method from class A\")\n",
        "\n",
        "class ClassB:\n",
        "  def method_b(self):\n",
        "    print(\"Method from class B\")\n",
        "\n",
        "class Child(ClassA,ClassB):\n",
        "  pass\n",
        "c= Child()\n",
        "c.method_a()\n",
        "c.method_b()"
      ],
      "metadata": {
        "colab": {
          "base_uri": "https://localhost:8080/"
        },
        "id": "9IZnWlBvNU44",
        "outputId": "b030c6cc-1296-483b-8616-ae12090151c7"
      },
      "execution_count": null,
      "outputs": [
        {
          "output_type": "stream",
          "name": "stdout",
          "text": [
            "Method from class A\n",
            "Method from class B\n"
          ]
        }
      ]
    },
    {
      "cell_type": "markdown",
      "source": [
        "3. **Multilevel Inheritance:**\n",
        "\n",
        "A class inherits from a parent class, which is also a child of another class.\n",
        "\n",
        "Example:\n",
        "\n"
      ],
      "metadata": {
        "id": "tneyGB8MPse1"
      }
    },
    {
      "cell_type": "code",
      "source": [
        "class Grandparent:\n",
        "  def display(self):\n",
        "    print(\"Method from Grandparent Class\")\n",
        "\n",
        "class Parent(Grandparent):\n",
        "  def show(self):\n",
        "    print(\"Method from Parent\")\n",
        "\n",
        "class Child(Parent):\n",
        "  pass\n",
        "\n",
        "c=Child()\n",
        "c.display()\n",
        "c.show()"
      ],
      "metadata": {
        "colab": {
          "base_uri": "https://localhost:8080/"
        },
        "id": "cSP0-L-kPxDk",
        "outputId": "013fe8cd-e1e5-4713-b7dc-cb98d7ec8868"
      },
      "execution_count": null,
      "outputs": [
        {
          "output_type": "stream",
          "name": "stdout",
          "text": [
            "Method from Grandparent Class\n",
            "Method from Parent\n"
          ]
        }
      ]
    },
    {
      "cell_type": "markdown",
      "source": [
        "4-**Hierarchical Inheritance:**\n",
        "Multiple classes inherit from a single parent class.\n",
        "\n",
        "Example:\n"
      ],
      "metadata": {
        "id": "73lwOymxQJUD"
      }
    },
    {
      "cell_type": "code",
      "source": [
        "class Parent:\n",
        "  def display(self):\n",
        "    print(\"method from parent class\")\n",
        "\n",
        "class Child1(Parent):\n",
        "  pass\n",
        "class Child2(Parent):\n",
        "  pass\n",
        "\n",
        "c1=Child1()\n",
        "c2=Child2()\n",
        "c1.display()\n",
        "c2.display()"
      ],
      "metadata": {
        "colab": {
          "base_uri": "https://localhost:8080/"
        },
        "id": "wIPyMSWFOEEQ",
        "outputId": "d561f527-df06-48c5-c3f7-8eba27b94888"
      },
      "execution_count": null,
      "outputs": [
        {
          "output_type": "stream",
          "name": "stdout",
          "text": [
            "method from parent class\n",
            "method from parent class\n"
          ]
        }
      ]
    },
    {
      "cell_type": "markdown",
      "source": [
        "5- **Hybrid Inheritence:**\n",
        "A combination of two or more types of inheritence.\n",
        "Example:(combining multiple and multilevel inheritence)"
      ],
      "metadata": {
        "id": "iV4zkRqGRKOn"
      }
    },
    {
      "cell_type": "code",
      "source": [
        "class Base:\n",
        "  pass\n",
        "\n",
        "class Derived1(Base):\n",
        "  pass\n",
        "\n",
        "class Derived2(Base):\n",
        "  pass\n",
        "\n",
        "class Child(Derived1, Derived2):\n",
        "  pass\n",
        "\n",
        "c=Child()"
      ],
      "metadata": {
        "id": "arVkq6GiQ8aA"
      },
      "execution_count": null,
      "outputs": []
    },
    {
      "cell_type": "markdown",
      "source": [
        "Q7-**What is the method resolution order(MFO) in python? HOw can you revive it programmatically?**\n",
        "\n",
        "Ans- The method resolution order in python detremines the order in which base classes are searched when executing a method. It is particularly important in the context of the multiple inheritance,where a class can inherit from more than one parent class. The MRO ensures that the correct method is called in a consistent and predictable manner.\n",
        "\n",
        "**MRO Rules:**\n",
        "\n",
        "1.**C3 Linearization:** Python uses the C3 linearization algorithm to create a linear order of classes,ensuring that a class appears before its parent class and that the order respects the inheritance hieranchy.\n",
        "\n",
        "2.**Depth-first search:** MRO follows a depth-first approach to search for methods,prioritizing the leftmost class in the inheritance hierarchy.\n",
        "\n",
        "**Retrieving MRO Programmatically:**\n",
        "You can retrieve the MRO of a class using the mro() method or the **MRO** attribute.\n",
        "\n",
        "Example:\n"
      ],
      "metadata": {
        "id": "M8pVA8cjgpFD"
      }
    },
    {
      "cell_type": "code",
      "source": [
        "class A:\n",
        "  pass\n",
        "\n",
        "class B(A):\n",
        "  pass\n",
        "class C(A):\n",
        "  pass\n",
        "\n",
        "class D(B,C):\n",
        "  pass\n",
        "\n",
        "print(D.mro())\n",
        "print(D.__mro__)"
      ],
      "metadata": {
        "id": "_93LdbxPgofT",
        "colab": {
          "base_uri": "https://localhost:8080/"
        },
        "outputId": "561f5554-1e99-42f1-82e5-9d26529d209b"
      },
      "execution_count": null,
      "outputs": [
        {
          "output_type": "stream",
          "name": "stdout",
          "text": [
            "[<class '__main__.D'>, <class '__main__.B'>, <class '__main__.C'>, <class '__main__.A'>, <class 'object'>]\n",
            "(<class '__main__.D'>, <class '__main__.B'>, <class '__main__.C'>, <class '__main__.A'>, <class 'object'>)\n"
          ]
        }
      ]
    },
    {
      "cell_type": "markdown",
      "source": [
        "**Q8. CREATE AN ABSTRACT BASE CLASS 'SHAPE' WITH AN ABSTRACT METHOD 'AREA()' .THEN CREATE TWO SUBCLASSES 'CIRCLE' AND 'RECTANGLE' THAT IMPLEMENT THE 'AREA()' METHOD.**\n",
        "\n",
        "Ans: You can create an abstract base class in Python using the abc module. Here's how to define an abstract base class Shape with an abstract method area(), and then create subclasses Circle and Rectangle that implement the area() method.\n",
        "\n",
        "**Example Code:**"
      ],
      "metadata": {
        "id": "oqoYffS3SMYp"
      }
    },
    {
      "cell_type": "code",
      "source": [
        "from abc import ABC, abstractmethod\n",
        "import math\n",
        "\n",
        "#abstract base class\n",
        "class shape(ABC):\n",
        "  @abstractmethod\n",
        "  def area(self):\n",
        "    pass\n",
        "\n",
        "#subclass for circle\n",
        "class circle(shape):\n",
        "  def __init__(self,radius):\n",
        "    self.radius=radius\n",
        "\n",
        "  def area(self):\n",
        "    return math.pi*(self.radius**2)\n",
        "\n",
        "#subclass for rectangle\n",
        "\n",
        "class rectangle(shape):\n",
        "  def __init__(self,width,height):\n",
        "    self.width= width\n",
        "    self.height= height\n",
        "\n",
        "  def area(self):\n",
        "    return self.width* self.height\n",
        "\n",
        "circle= circle(6)\n",
        "rectangle= rectangle(3,5)\n",
        "\n",
        "print(f\"area of circle: {circle.area():.2f}\")\n",
        "print(f\"area of rectangle: {rectangle.area():.2f}\")"
      ],
      "metadata": {
        "colab": {
          "base_uri": "https://localhost:8080/"
        },
        "id": "H1tMnHq3lUUh",
        "outputId": "4e295995-4078-470d-8607-f32805523308"
      },
      "execution_count": null,
      "outputs": [
        {
          "output_type": "stream",
          "name": "stdout",
          "text": [
            "area of circle: 113.10\n",
            "area of rectangle: 15.00\n"
          ]
        }
      ]
    },
    {
      "cell_type": "markdown",
      "source": [
        "**Explanation:**\n",
        "\n",
        "**Shape Class:** This is the abstract base class that defines the area() method as abstract, meaning any subclass must implement this method.\n",
        "\n",
        "**Circle Class:**This subclass implements the area() method, calculating the area of a circle.\n",
        "\n",
        "**Rectangle Class:** This subclass also implements the area() method, calculating the area using the formula :\n",
        "\n",
        "width×height.\n",
        "\n",
        "The example usage creates instances of Circle and Rectangle, and calls their area() methods to print the calculated areas."
      ],
      "metadata": {
        "id": "mq-zQ6Lo5j6_"
      }
    },
    {
      "cell_type": "markdown",
      "source": [
        "**Q9. DEMONSTRATE POLYMORPHISM BY CREATING A FUCTION THAT CAN WORK DIFFERENT SHAPE OBJECTS TO CALCULATE AND PRINTS THEIR AREAS.**\n",
        "\n",
        "Ans: Polymorphism allows different classes to be treated as instances of the same class through a common interface. In the context of the Shape class with subclasses Circle and Rectangle, we can create a function that accepts any shape object and calculates its area.\n",
        "\n",
        "**Example Code:**"
      ],
      "metadata": {
        "id": "DfO79V5H5zZa"
      }
    },
    {
      "cell_type": "code",
      "source": [
        "from abc import ABC, abstractmethod\n",
        "import math\n",
        "\n",
        "#abstract base class\n",
        "class shape(ABC):\n",
        "  @abstractmethod\n",
        "  def area(self):\n",
        "    pass\n",
        "#subclass for circle\n",
        "class circle(shape):\n",
        "  def __init__(self,radius):\n",
        "    self.radius=radius\n",
        "\n",
        "  def area(self):\n",
        "    return math.pi*(self.radius**2)\n",
        "\n",
        "#subclass for rectangle\n",
        "class rectangle(shape):\n",
        "  def __init__(self,width,height):\n",
        "    self.width=width\n",
        "    self.height=height\n",
        "\n",
        "  def area(self):\n",
        "    return self.width* self.height\n",
        "\n",
        "#function to calculate and print area\n",
        "\n",
        "def print_area(shape):\n",
        "  print(f\"area:{shape.area():.2f}\")\n",
        "\n",
        "#example usage\n",
        "circle=circle(6)\n",
        "rectangle=rectangle(4,7)\n",
        "\n",
        "print_area(circle)\n",
        "print_area(rectangle)"
      ],
      "metadata": {
        "colab": {
          "base_uri": "https://localhost:8080/"
        },
        "id": "LKAxun2j42ei",
        "outputId": "9623f28f-bbd0-40a3-8e52-9465f0dbdaa9"
      },
      "execution_count": null,
      "outputs": [
        {
          "output_type": "stream",
          "name": "stdout",
          "text": [
            "area:113.10\n",
            "area:28.00\n"
          ]
        }
      ]
    },
    {
      "cell_type": "markdown",
      "source": [
        "**Explanation:**\n",
        "\n",
        "**Polymorphic Function (print_area):** This function takes an object of type Shape (or any subclass thereof) and calls the area() method. Because both Circle and Rectangle implement the area() method, the correct version is called based on the object passed in.\n",
        "\n",
        "**Example Usage:** The print_area function is called with instances of Circle and Rectangle, demonstrating polymorphism. Each call correctly computes and prints the area for the respective shape.\n",
        "\n",
        "This design showcases how polymorphism allows the same function to operate on different types of objects seamlessly."
      ],
      "metadata": {
        "id": "oUEXl-Nz-fJL"
      }
    },
    {
      "cell_type": "markdown",
      "source": [
        "**Q10. IMPLEMENT ENCAPSULATION IN A 'BANKACCOUNT' CLASS WITH PRIVATE ATTRIBUTES 'BALANCE' AND 'ACCOUNT_NUMBER'.INCLUDE METHODS FOR DEPOSIT,WITHDRAWAL AND BALANCE INQUIRY.**"
      ],
      "metadata": {
        "id": "_qXr8LcV-m-o"
      }
    },
    {
      "cell_type": "code",
      "source": [
        "class BankAccount:\n",
        "  def __init__(self,account_number,balance=0):\n",
        "    self.__account_number=account_number\n",
        "    self.__balance=balance\n",
        "\n",
        "  def deposit(self,amount):\n",
        "    if amount>0:\n",
        "      self.__balance+=amount\n",
        "      print(f\"deposited:${amount:.2f}\")\n",
        "    else:\n",
        "        print(\"deposit amount must be positive\")\n",
        "\n",
        "  def withdraw(self,amount):\n",
        "    if 0 < amount <= self.__balance:\n",
        "      self.__balance -=amount\n",
        "      print(f\"withdrew: ${amount:.2f}\")\n",
        "    else:\n",
        "      print(\"withdrawl amount must be positive and cannot exceed the balance\")\n",
        "  def balance_inquiry(self):\n",
        "    print(f\"account number: {self.__account_number}, balance: ${self.__balance:.2f}\")\n",
        "\n",
        "#example usage\n",
        "account= BankAccount(\"115522447\",100.0)\n",
        "account.balance_inquiry()\n",
        "account.deposit(50.0)\n",
        "account.balance_inquiry()\n",
        "account.withdraw(20.0)\n",
        "account.balance_inquiry()"
      ],
      "metadata": {
        "id": "wnJp7A8e6cD8",
        "colab": {
          "base_uri": "https://localhost:8080/"
        },
        "outputId": "d8a580e7-d9e4-4d47-cad2-2cbb2e43ea52"
      },
      "execution_count": null,
      "outputs": [
        {
          "output_type": "stream",
          "name": "stdout",
          "text": [
            "account number: 115522447, balance: $100.00\n",
            "deposited:$50.00\n",
            "account number: 115522447, balance: $150.00\n",
            "withdrew: $20.00\n",
            "account number: 115522447, balance: $130.00\n"
          ]
        }
      ]
    },
    {
      "cell_type": "markdown",
      "source": [
        "**Q11. WRITE A CLASS THAT OVERRIDES THE '__STR__' AND '__AND__' MAGIC METHODS . WHAT WILL THESE METHODS ALLOW YOU TO DO?\n",
        "\n",
        "Ans: In Python, the str and and magic methods allow you to customize the string representation of an object and define behavior for the & (bitwise AND) operator, respectively.\n",
        "\n",
        "**Example Class**\n",
        "\n",
        "Here's a class called CustomNumber that overrides both the **'str'** and **'and'** magic methods:"
      ],
      "metadata": {
        "id": "PSD2Jgw0C7o0"
      }
    },
    {
      "cell_type": "code",
      "source": [
        "class CustomNumber:\n",
        "  def __init__(self,value):\n",
        "    self.value = value\n",
        "\n",
        "  def __str__(self):\n",
        "    return f\"CustomerNumber(value={self.value})\"\n",
        "\n",
        "  def __and__(self,other):\n",
        "    if isinstance(other,CustomNumber):\n",
        "      return CustomNumber(self.value & other.value)\n",
        "    return NotImplemented\n",
        "\n",
        "#example usage\n",
        "num1= CustomNumber(5) #binary: 0101\n",
        "num2= CustomNumber(3) #binary 0011\n",
        "\n",
        "print(num1)\n",
        "print(num2)\n",
        "\n",
        "result =num1 & num2\n",
        "print(result)"
      ],
      "metadata": {
        "id": "Ln1D9Z_WB7bl",
        "colab": {
          "base_uri": "https://localhost:8080/"
        },
        "outputId": "d9952d95-0787-408b-9935-d258d666db91"
      },
      "execution_count": 1,
      "outputs": [
        {
          "output_type": "stream",
          "name": "stdout",
          "text": [
            "CustomerNumber(value=5)\n",
            "CustomerNumber(value=3)\n",
            "CustomerNumber(value=1)\n"
          ]
        }
      ]
    },
    {
      "cell_type": "markdown",
      "source": [
        "**Explanation:**\n",
        "\n",
        "**__str__ Method:**\n",
        "\n",
        "This method is called when you use the print() function or str() on an object of CustomNumber. It returns a string that represents the object, allowing for a more informative output.\n",
        "\n",
        "In this example, calling print(num1) outputs CustomNumber(value=5) instead of the default representation.\n",
        "\n",
        "**__and__ Method:**\n",
        "\n",
        "This method is invoked when the & operator is used between two instances of CustomNumber. It defines how the bitwise AND operation behaves for the class.\n",
        "\n",
        "If the other object is also an instance of CustomNumber, it returns a new CustomNumber instance containing the result of the bitwise AND of the two values. If other is not an instance of CustomNumber, it returns NotImplemented, allowing Python to handle the situation appropriately.\n",
        "\n",
        "What These Methods Allow You to Do:\n",
        "\n",
        "**String Representation:** The **str** method allows you to control how your tring Representation:objects are represented as strings, making it easier to debug and understand the data contained within the object.\n",
        "\n",
        "**Operator Overloading:** The **and** method allows you to define custom behavior for the & operator, enabling intuitive usage of your class in arithmetic or logical expressions, thereby enhancing the usability of your objects.\n",
        "\n"
      ],
      "metadata": {
        "id": "gJOaJPZNyVlL"
      }
    },
    {
      "cell_type": "markdown",
      "source": [
        "**Q12. CREATE A DECORATOR THAT MEASURES AND PRINT THE EXECUTION TIME OF A FUNCTION.**"
      ],
      "metadata": {
        "id": "mNjxw6Lm0Zx_"
      }
    },
    {
      "cell_type": "code",
      "source": [
        "import time\n",
        "from functools import wraps\n",
        "\n",
        "def execution_time_decorator(func):\n",
        "  @wraps(func)\n",
        "  def wrapper(*args,**kwargs):\n",
        "    start_time=time.time()\n",
        "    result= func(*args,**kwargs)\n",
        "    end_time=time.time()\n",
        "    execution_time =end_time-start_time\n",
        "    print(f\"execution time of {func.__name__}:{execution_time:.4F}seconds\")\n",
        "    return result\n",
        "  return wrapper\n",
        "\n",
        "#usage\n",
        "@execution_time_decorator\n",
        "def sample_function():\n",
        "  time.sleep(2)\n",
        "sample_function()\n"
      ],
      "metadata": {
        "colab": {
          "base_uri": "https://localhost:8080/"
        },
        "id": "1kGyxflIwYJt",
        "outputId": "5a0b39e9-b3e1-4416-be78-df6e4456bffc"
      },
      "execution_count": 3,
      "outputs": [
        {
          "output_type": "stream",
          "name": "stdout",
          "text": [
            "execution time of sample_function:2.0001seconds\n"
          ]
        }
      ]
    },
    {
      "cell_type": "markdown",
      "source": [
        "**Q13. EXPLAIN THE CONCEPT OF THE DIAMOND PROBLEM IN MULTIPLE INHERITANCE.HOW DOES PYTHON RESOLVE IT?**\n",
        "\n",
        "**Ans:** The diamond problem is a common issue in multiple inheritance scenarios, particularly in object-oriented programming languages. It arises when a class inherits from two classes that both inherit from a common base class. This can lead to ambiguity about which version of a method or property should be used.\n",
        "\n",
        "**RESOLUTION OF DIAMOND PROBLEM**\n",
        "\n",
        "Python uses a method resolution order (MRO) to resolve these ambiguities. The MRO defines the order in which base classes are looked up when searching for a method. Python uses the C3 linearization algorithm (also known as C3 superclass linearization) to establish this order.\n",
        "\n",
        "Here's how it works:\n",
        "\n",
        "**Linearization:** The MRO for a class is determined by a linearization process that combines the order of the base classes.\n",
        "\n",
        "**Depth-First Search:** Python follows a depth-first search approach, but it ensures that the base classes are only considered once and maintains the left-to-right order of classes."
      ],
      "metadata": {
        "id": "eA4UizLN1_3B"
      }
    },
    {
      "cell_type": "markdown",
      "source": [
        "**Q14. WRITE A CLASS METHOD THAT KEEP TRACKS OF THE NUMBER OF INSTANCES CREATED FROM A CLASS.**\n",
        "\n",
        "Ans: To create a class method that tracks the number of instances created from a class, you can use a class variable to count the instances. Here's a simple implementation in Python:"
      ],
      "metadata": {
        "id": "NlszgqfC2MLq"
      }
    },
    {
      "cell_type": "code",
      "source": [
        "class InstanceCounter:\n",
        "  # Class variable to keep track of the number of instances\n",
        "  instance_count = 0\n",
        "\n",
        "  def __init__(self):\n",
        "    #Increment the count each time an instance is created\n",
        "    InstanceCounter.instance_count +=1\n",
        "\n",
        "  @classmethod\n",
        "  def get_instance_count(cls):\n",
        "    #Class method to return the current instance count\n",
        "    return cls.instance_count\n",
        "\n",
        "#example usage\n",
        "if __name__ == \"__main__\":\n",
        "  obj1 = InstanceCounter()\n",
        "  obj2 = InstanceCounter()\n",
        "  obj3 = InstanceCounter()\n",
        "\n",
        "  print(\"Number of instances created:\", InstanceCounter.get_instance_count())"
      ],
      "metadata": {
        "colab": {
          "base_uri": "https://localhost:8080/"
        },
        "id": "W4Ch9eXS1qQs",
        "outputId": "6d50938b-5794-4347-d484-1572ace93718"
      },
      "execution_count": 6,
      "outputs": [
        {
          "output_type": "stream",
          "name": "stdout",
          "text": [
            "Number of instances created: 3\n"
          ]
        }
      ]
    },
    {
      "cell_type": "markdown",
      "source": [
        "**Explanation:**\n",
        "\n",
        "**Class Variable:** instance_count is a class variable that is shared across all instances of InstanceCounter.\n",
        "\n",
        "**Constructor (__init__ method):** Every time an instance is created, the constructor increments the instance_count.\n",
        "\n",
        "**Class Method:** get_instance_count is a class method that returns the current value of instance_count, allowing you to access the count without needing an instance of the class."
      ],
      "metadata": {
        "id": "-ibAu-69_g0m"
      }
    },
    {
      "cell_type": "markdown",
      "source": [
        "**Q15. IMPLEMENT A STASTIC METHOD IN A CLASS THAT CHECKS IF A GIVEN YEAR IS A LEAP YEAR.**\n",
        "\n",
        "**Ans:** You can implement a static method in a class to check if a given year is a leap year. A year is considered a leap year if:\n",
        "\n",
        "1-It is divisible by 4.\n",
        "\n",
        "2-It is not divisible by 100 unless it is also divisible by 400.\n",
        "\n"
      ],
      "metadata": {
        "id": "Gs7BZMYT_xXd"
      }
    },
    {
      "cell_type": "code",
      "source": [
        "class yearutils:\n",
        "  @staticmethod\n",
        "  def is_leap_year(year):\n",
        "    \"\"\"check if a given year is a leap year.\"\"\"\n",
        "    if (year % 4 == 0 and year % 100 != 0) or (year & 400 ==0):\n",
        "       return true\n",
        "       return false\n",
        "\n",
        "#example usage\n",
        "if __name__ == \"__main__\":\n",
        "  year= 2025\n",
        "  if yearutils.is_leap_year(year):\n",
        "    print(f\"{year} is a leap year\")\n",
        "  else:\n",
        "    print(f\"{year} is not a leap year\")"
      ],
      "metadata": {
        "colab": {
          "base_uri": "https://localhost:8080/"
        },
        "id": "7QsocfQk_M3H",
        "outputId": "44f0c8d8-b015-4aea-8a71-cab4e037f293"
      },
      "execution_count": 14,
      "outputs": [
        {
          "output_type": "stream",
          "name": "stdout",
          "text": [
            "2025 is not a leap year\n"
          ]
        }
      ]
    },
    {
      "cell_type": "code",
      "source": [],
      "metadata": {
        "id": "GCJk5-A1FnQd"
      },
      "execution_count": null,
      "outputs": []
    }
  ]
}