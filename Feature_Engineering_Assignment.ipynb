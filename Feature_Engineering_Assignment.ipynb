{
  "nbformat": 4,
  "nbformat_minor": 0,
  "metadata": {
    "colab": {
      "provenance": []
    },
    "kernelspec": {
      "name": "python3",
      "display_name": "Python 3"
    },
    "language_info": {
      "name": "python"
    }
  },
  "cells": [
    {
      "cell_type": "markdown",
      "source": [
        "**Q1. WHAT IS A PARAMETER?**\n",
        "\n",
        "**ANS:** A parameter is a variable used in a function or method to accept input values. These values (called arguments) are passed into the function when it's called. Parameters help functions handle different inputs and perform actions based on those values.\n",
        "\n",
        "**EXAMPLE:**"
      ],
      "metadata": {
        "id": "mdZZVfiWDh7P"
      }
    },
    {
      "cell_type": "code",
      "execution_count": 2,
      "metadata": {
        "colab": {
          "base_uri": "https://localhost:8080/"
        },
        "id": "6Qa5OqS2DaTO",
        "outputId": "4b6eb98f-3b69-4731-f5f0-0234c35676ac"
      },
      "outputs": [
        {
          "output_type": "stream",
          "name": "stdout",
          "text": [
            "Hello, World\n"
          ]
        }
      ],
      "source": [
        "def greet(name):  # 'name' is a parameter\n",
        "    print(\"Hello, \" + name)\n",
        "\n",
        "greet(\"World\")  # \"world\" is the argument passed to the parameter\n"
      ]
    },
    {
      "cell_type": "markdown",
      "source": [
        "**Q2. WHAT IS CORRELATION ? WHAT DOES NEGATIVE CORRELATION MEAN ?**\n",
        "\n",
        "**ANS:** Correlation is a statistical measure that describes the strength and direction of the relationship between two variables. In other words, it shows whether and how much two variables change together.\n",
        "\n",
        "The correlation can range from -1 to +1.\n",
        "\n",
        "**NEGATIVE CORRELATION**\n",
        "\n",
        "When two variables move in opposite directions, meaning that as one increases, the other decreases (or as one decreases, the other increases).\n",
        "\n",
        "**Example:** The more time you spend watching TV, the less time you might spend exercising."
      ],
      "metadata": {
        "id": "qwTa6DO0D5r6"
      }
    },
    {
      "cell_type": "markdown",
      "source": [
        "**Q3. DEFINE MACHINE LEARNING. WHAT ARE THE MAIN COMPONENTS IN MACHINE LEARNING ?**\n",
        "\n",
        "**ANS:** Machine Learning (ML) is a subfield of artificial intelligence (AI) that focuses on building systems that can learn from data and make predictions or decisions without being explicitly programmed for specific tasks. Essentially, machine learning algorithms enable computers to improve their performance on tasks by recognizing patterns and relationships in data.In machine learning, a model is trained on data, and based on the insights gained, it makes predictions or decisions. The more data the model processes, the better it becomes at performing the task.\n",
        "\n",
        "THE MAIN COMPONENTS IN MACHINE LEARNING ARE:\n",
        "\n",
        "**1-Data** - The raw information the machine learns from.\n",
        "\n",
        "**2-Algorithms** - Mathematical procedures to process data and learn patterns.\n",
        "\n",
        "**3-Model** - The learned representation that makes predictions.\n",
        "\n",
        "**4-Features** - Input variables used by the model.\n",
        "\n",
        "**5-Training** - The process of teaching the model by using data.\n",
        "\n",
        "**6-Evaluation Metrics** - Criteria to measure the model's performance.\n",
        "\n",
        "**7-Testing and Validation** - Ensuring the model generalizes well to new data.\n",
        "\n",
        "**8-Optimization** - Improving the model's performance through adjustments.\n",
        "\n",
        "**9-Inference** - Using the trained model to make real-world predictions.\n"
      ],
      "metadata": {
        "id": "2g0kAAojItNb"
      }
    },
    {
      "cell_type": "markdown",
      "source": [
        "**Q4. HOW DOES LOSS VALUE HELP IN DETERMINING WHETHER THE MODEL IS GOOD OR NOT ?**\n",
        "\n",
        "ANS: The loss value provides a measure of how well the model is predicting the target variable. It quantifies the \"error\" or \"discrepancy\" between the predictions made by the model and the true values.\n",
        "\n",
        "A low loss means that the model's predictions are very close to the actual values, suggesting the model is doing well. A high loss indicates that the model's predictions are far off, which suggests poor performance.\n",
        "\n",
        "If the loss is very low on the training data but high on the test data, it indicates that the model has learned to memorize the training data but has not generalized well to unseen data. This means the model is overfitting.\n",
        "\n",
        "If the loss is high on both the training and test datasets, the model has not learned well from the data, and it is likely underfitting. It might be too simple or not complex enough to capture the underlying patterns.\n",
        "\n"
      ],
      "metadata": {
        "id": "lBzW1AIINByp"
      }
    },
    {
      "cell_type": "markdown",
      "source": [
        "**Q5. WHAT ARE CONTINUOS AND CATEGORICAL VARIABLES ?**\n",
        "\n",
        "**ANS:** In data analysis and machine learning, variables are the attributes or features in the dataset that you use to model relationships and make predictions. Variables are typically categorized based on the type of data they represent. The two broad categories are continuous and categorical variables. Let's dive into each one:\n",
        "\n",
        "**1-Continuous Variables:**\n",
        "\n",
        "A continuous variable is a type of numerical variable that can take on an infinite number of values within a given range. These variables represent measurements and can have fractional or decimal values.\n",
        "\n",
        "**Examples of Continuous Variables:**\n",
        "\n",
        "Height: A person can be 5.5 feet, 5.55 feet, 5.555 feet, etc.\n",
        "\n",
        "Weight: A weight could be 70 kg, 70.5 kg, 70.55 kg, and so on.\n",
        "\n",
        "Temperature: 21.1°C, 21.12°C, 21.123°C, etc.\n",
        "\n",
        "**2-Categorical Variables:**\n",
        "\n",
        "A categorical variable is a type of variable that represents distinct categories or groups. The values of categorical variables are labels or names used to identify distinct classes or categories. Unlike continuous variables, categorical variables do not have an inherent order or magnitude.\n",
        "\n",
        "**Example:**\n",
        "\n",
        "Classifying an email as either spam or not spam (a binary classification, with two categories).\n",
        "\n"
      ],
      "metadata": {
        "id": "DklmNlnIO2ax"
      }
    },
    {
      "cell_type": "markdown",
      "source": [
        "**Q6. HOW DO WE HANDLE CATEGORICAL VARIABLES IN MACHINE LEARNING ? WHAT ARE THE COMMON TECHNIQUES ?**\n",
        "\n",
        "**ANS:** Handling categorical variables in machine learning is a crucial step because most machine learning algorithms work with numerical data. Categorical variables are non-numeric data that represent categories or groups. Here are the common techniques for handling categorical variables:\n",
        "\n",
        "**1-Label Encoding**\n",
        "\n",
        "Label Encoding involves converting each category of a categorical variable into a unique integer. For example, if a categorical feature has values like \"Red\", \"Green\", and \"Blue\", Label Encoding will convert them into numerical values such as 0, 1, and 2, respectively.\n",
        "\n",
        "**Pros:**\n",
        "\n",
        "Simple and fast.\n",
        "\n",
        "Retains the ordinal relationship if the categorical feature has a natural order (like \"Low\", \"Medium\", \"High\").\n",
        "\n",
        "**Cons:**\n",
        "\n",
        "Can introduce ordinal relationships for nominal data (no natural order), which some algorithms might interpret as a numerical ranking (e.g., \"Red\" = 0, \"Green\" = 1, \"Blue\" = 2 might make \"Green\" closer to \"Red\").\n",
        "\n",
        "Not ideal for algorithms that use distance metrics like k-Nearest Neighbors (KNN).\n",
        "\n",
        "**2-One-Hot Encoding**\n",
        "\n",
        "One-Hot Encoding converts each category into a new binary (0/1) column. Each category gets its own column, and the presence of the category is marked with a 1 (if it appears) or 0 (if it doesn't).\n",
        "\n",
        "**Pros:**\n",
        "\n",
        "Avoids the creation of any artificial ordinal relationships.\n",
        "\n",
        "Widely supported by machine learning algorithms.\n",
        "\n",
        "**Cons:**\n",
        "\n",
        "Can lead to high-dimensional data if the categorical variable has many unique values (leading to the \"curse of dimensionality\").\n",
        "\n",
        "Results in sparse matrices, which might increase computational costs and memory usage.\n",
        "\n",
        "**3-Target Encoding (Mean Encoding)**\n",
        "\n",
        "Target Encoding replaces each category with the mean of the target variable (for supervised learning). This method can capture the relationship between categorical values and the target variable.\n",
        "\n",
        "**Pros:**\n",
        "\n",
        "Can provide strong predictive power by incorporating target information.\n",
        "\n",
        "**Cons:**\n",
        "\n",
        "Can lead to overfitting if the dataset is small. Prone to data leakage if not done carefully (i.e., if target encoding is done on the entire dataset before splitting into training and test sets).\n",
        "\n"
      ],
      "metadata": {
        "id": "Mx_Vme1oRcQE"
      }
    },
    {
      "cell_type": "markdown",
      "source": [
        "**Q7. WHAT DO YOU MEAN BY TRAINING AND TESTING A DATASET ?**\n",
        "\n",
        "**ANS:** Training a model means teaching it to make predictions based on a subset of data, using the input features and the actual outcomes.\n",
        "\n",
        "Testing a model means evaluating its performance on a separate, unseen set of data to check how well it generalizes.\n",
        "\n",
        "**Example:**\n",
        "\n",
        "If you're building a model to predict house prices, the training dataset would include features like the number of bedrooms, square footage, and location, along with the target variable (the actual house price). The model would adjust its parameters to minimize the difference between predicted prices and actual prices in the training data.\n",
        "\n",
        "After training the house price prediction model, you test it using a separate test dataset that contains house features not seen during training. The model's predictions are compared to the actual prices, and performance metrics (like mean absolute error) are calculated to evaluate how accurately the model can predict new house prices."
      ],
      "metadata": {
        "id": "5BhPGnnMVbAz"
      }
    },
    {
      "cell_type": "markdown",
      "source": [
        "**Q8. WHAT IS SKLEARN.PREPROCESSING ?**\n",
        "\n",
        "**ANS:** sklearn.preprocessing is a module in scikit-learn (a popular machine learning library in Python) that provides a suite of tools for data preprocessing. Data preprocessing is a crucial step in the machine learning pipeline, as it helps transform raw data into a format suitable for machine learning algorithms. The preprocessing techniques in this module address common issues like scaling, encoding, and handling missing values in the data."
      ],
      "metadata": {
        "id": "yJASCcw2Vmwr"
      }
    },
    {
      "cell_type": "markdown",
      "source": [
        "**Q9. WHAT IS A TEST SET ?**\n",
        "\n",
        "**ANS**: A test set is a subset of your data that is used to evaluate the performance of a machine learning model after it has been trained. The purpose of the test set is to assess how well the model generalizes to unseen data, i.e., data that it has not been exposed to during training.\n",
        "\n",
        "**Key Points about the Test Set:**\n",
        "\n",
        "**1-Unseen Data:** The test set contains data that was not used during the model's training process. It acts as a proxy for how the model will perform on new, real-world data.\n",
        "\n",
        "**2-Evaluation:** After training the model on the training set, you use the test set to make predictions and compare those predictions to the actual target values (labels). This allows you to compute performance metrics such as accuracy, precision, recall, F1 score, mean squared error, etc.\n",
        "\n",
        "**3-Avoiding Data Leakage:** The test set should never be used during training (i.e., not for model fitting, parameter tuning, or validation). Using the test set during training can lead to data leakage, meaning the model might perform well on the test set because it has already seen the data or learned from it indirectly, resulting in an overly optimistic evaluation.\n",
        "\n"
      ],
      "metadata": {
        "id": "mYJ0ZqYeVzmY"
      }
    },
    {
      "cell_type": "markdown",
      "source": [
        "**Q10. HOW DO WE SPLIT DATA FOR MODEL FITTING ( TRAINING AND TESTING ) IN PYTHON ? HOW DO YOU APPROACH A MACHINE LEARNING PROBLEM ?**\n",
        "\n",
        "**ANS:** To split data for training and testing in Python, the most common approach is using scikit-learn's train_test_split() function.\n",
        "\n",
        "1-Import Required Libraries:\n"
      ],
      "metadata": {
        "id": "_M1JhbwDWJti"
      }
    },
    {
      "cell_type": "code",
      "source": [
        "from sklearn.model_selection import train_test_split"
      ],
      "metadata": {
        "id": "qYZ-bpPnDs15"
      },
      "execution_count": 3,
      "outputs": []
    },
    {
      "cell_type": "markdown",
      "source": [
        "2- Prepare Your Data: Seperate your features (X) and target(y)."
      ],
      "metadata": {
        "id": "Hrae-yHVWeZU"
      }
    },
    {
      "cell_type": "code",
      "source": [
        "X= data.drop('target', axis=1)\n",
        "y= data['target']"
      ],
      "metadata": {
        "id": "YDenel_b54Xo"
      },
      "execution_count": null,
      "outputs": []
    },
    {
      "cell_type": "markdown",
      "source": [
        "3-Split the Data: Use train_test_split() to divide the dataset into training and testing sets.\n"
      ],
      "metadata": {
        "id": "8QXsbEWt41x9"
      }
    },
    {
      "cell_type": "code",
      "source": [
        "X_train, X_test, y_train, y_test = train_test_split(X, y, test_size=0.2, random_state=42)\n"
      ],
      "metadata": {
        "id": "cPEW5pqk4nM7"
      },
      "execution_count": null,
      "outputs": []
    },
    {
      "cell_type": "markdown",
      "source": [
        "4-Stratified Split (optional for classification tasks): Ensures class balance in both training and test sets."
      ],
      "metadata": {
        "id": "w7bCnbC-6D2V"
      }
    },
    {
      "cell_type": "code",
      "source": [
        "X_train, X_test, y_train, y_test = train_test_split(X, y, test_size=0.2, random_state=42, stratify=y)"
      ],
      "metadata": {
        "id": "uzixtjAp6RCo"
      },
      "execution_count": null,
      "outputs": []
    },
    {
      "cell_type": "markdown",
      "source": [
        "**Machine Learning Approach:**\n",
        "\n",
        "1-Define the problem (classification or regression).\n",
        "\n",
        "2-Collect, clean, and preprocess the data.\n",
        "\n",
        "3-Split the data into training and test sets.\n",
        "\n",
        "4-Choose and train a model.\n",
        "\n",
        "5-Evaluate the model using test data.\n",
        "\n",
        "6-Fine-tune the model and use cross-validation.\n",
        "\n",
        "7-Deploy the model when performance is satisfactory.\n",
        "\n"
      ],
      "metadata": {
        "id": "OA8oIg0i6Vg6"
      }
    },
    {
      "cell_type": "markdown",
      "source": [
        "**Q11. WHY DO WE HAVE TO PERFORM EDA BEFORE FITTING A MODEL TO THE DATA ?**\n",
        "\n",
        "**ANS:** We have to perform EDA before fitting a model to the data because:\n",
        "\n",
        "1-Understand the Data: Get a sense of the features, target variable, and structure.\n",
        "\n",
        "2-Handle Missing or Inconsistent Data: Identify and address issues like missing values, duplicates, and typos.\n",
        "\n",
        "3-Detect Outliers: Identify extreme values that may skew model performance.\n",
        "\n",
        "4-Discover Relationships: Understand correlations between features and how they relate to the target variable.\n",
        "\n",
        "5-Guide Feature Engineering: Create or transform features to improve model performance.\n",
        "\n",
        "6-Decide on Preprocessing: Choose appropriate methods for scaling, encoding, and imputation.\n",
        "\n",
        "7-Visualize the Data: Spot patterns, distributions, and class imbalances that impact model choice and evaluation.\n",
        "\n",
        "8-Make Informed Decisions: Select the right model and evaluation strategy based on the dataset's characteristics.\n",
        "\n"
      ],
      "metadata": {
        "id": "8v3rQ3-E6lr1"
      }
    },
    {
      "cell_type": "markdown",
      "source": [
        "**Q12. WHAT IS CORRELATION ?**\n",
        "\n",
        "**ANS:** Correlation is a statistical measure that describes the strength and direction of the relationship between two variables. In other words, it shows whether and how much two variables change together.\n",
        "\n",
        "The correlation can range from -1 to +1.\n",
        "\n"
      ],
      "metadata": {
        "id": "_i7fv9j76zdO"
      }
    },
    {
      "cell_type": "markdown",
      "source": [
        "**Q13. WHAT DOES NEGATIVE CORRELATION MEAN ?**\n",
        "\n",
        "**ANS:** NEGATIVE CORRELATION\n",
        "\n",
        "When two variables move in opposite directions, meaning that as one increases, the other decreases (or as one decreases, the other increases).\n",
        "\n",
        "**Example:** The more time you spend watching TV, the less time you might spend exercising.\n",
        "\n"
      ],
      "metadata": {
        "id": "4Nrc8VP27DlJ"
      }
    },
    {
      "cell_type": "markdown",
      "source": [
        "**Q14. HOW CAN YOU FIND THE CORRELATION BETWEEN TWO VARIABLES ?**\n",
        "\n",
        "**ANS:** We can find the correlation between variables in Python, using Pandas and Seaborn.\n",
        "\n",
        "1-Using Pandas corr() Method\n"
      ],
      "metadata": {
        "id": "j_tYE4MO7OeX"
      }
    },
    {
      "cell_type": "code",
      "source": [
        "import pandas as pd\n",
        "#example DataFrame\n",
        "data= {'A':[1,2,3,4,5],\n",
        "       'B':[5,4,3,2,1],\n",
        "       'C':[2,3,4,5,6]}\n",
        "\n",
        "df=pd.DataFrame(data)\n",
        "\n",
        "#Calculate the correlation matrix for numerical columns\n",
        "corr_matrix= df.corr()\n",
        "\n",
        "print(corr_matrix)"
      ],
      "metadata": {
        "colab": {
          "base_uri": "https://localhost:8080/"
        },
        "id": "HSuoidWb6gml",
        "outputId": "ed23392d-5893-42c9-bae7-44a26dbcc1c3"
      },
      "execution_count": 11,
      "outputs": [
        {
          "output_type": "stream",
          "name": "stdout",
          "text": [
            "     A    B    C\n",
            "A  1.0 -1.0  1.0\n",
            "B -1.0  1.0 -1.0\n",
            "C  1.0 -1.0  1.0\n"
          ]
        }
      ]
    },
    {
      "cell_type": "markdown",
      "source": [
        "2-Visualizing Correlation with a Heatmap (Using Seaborn)\n",
        "\n",
        "To better understand the correlations, especially for large datasets, a heatmap can help visualize the correlation matrix."
      ],
      "metadata": {
        "id": "INrOtVWC8JcT"
      }
    },
    {
      "cell_type": "code",
      "source": [
        "import seaborn as sns\n",
        "import matplotlib.pyplot as plt\n",
        "\n",
        "\n",
        "\n",
        "#create a heatmap of the correlation matrix\n",
        "sns.heatmap(corr_matrix, annot=True, cmap='coolwarm', fmt=\".2f\")\n",
        "\n",
        "#show the plot\n",
        "plt.show()"
      ],
      "metadata": {
        "colab": {
          "base_uri": "https://localhost:8080/",
          "height": 435
        },
        "id": "TPIWwDbu8B3K",
        "outputId": "24617b1a-a6fc-4bf0-f582-5ba3f8e04e49"
      },
      "execution_count": 5,
      "outputs": [
        {
          "output_type": "display_data",
          "data": {
            "text/plain": [
              "<Figure size 640x480 with 2 Axes>"
            ],
            "image/png": "[encoded data removed]"
          },
          "metadata": {}
        }
      ]
    },
    {
      "cell_type": "markdown",
      "source": [
        "**Q15. WHAT IS CAUSATION ? EXPLAIN DIFFERENCE BETWEEN CORRELATION AND CAUSATION WITH AN EXAMPLE?**\n",
        "\n",
        "ANS: Causation refers to the relationship where one event (the cause) directly leads to the occurrence of another event (the effect). In other words, causation implies that changes in one variable cause changes in another variable.\n",
        "\n",
        "To establish causality, there must be:\n",
        "\n",
        "-A direct cause-and-effect relationship between the two variables.\n",
        "\n",
        "-Temporal precedence: The cause happens before the effect.\n",
        "\n",
        "-No confounding factors: No other factors are influencing both the cause and the effect in a way that gives the false impression of a causal relationship.\n",
        "\n",
        "For example, if you increase the temperature in a room (cause), the rate of evaporation of water increases (effect). This is a direct cause-and-effect relationship, and this can be experimentally validated.\n",
        "\n",
        "**DIFFERENCE BETWEEN CORRELATION AND CAUSATION**\n",
        "\n",
        "**CORRELATION**\n",
        "\n",
        "Definition: A statistical measure that describes the extent to which two variables are related.\n",
        "\n",
        "Direction of Influence: No influence or directionality; both variables can change together but not necessarily one causing the other.\n",
        "\n",
        "Implied Relationship: A correlation can exist without any cause-and-effect relationship.\n",
        "\n",
        "**CAUSATION**\n",
        "\n",
        "Definition: A relationship where one variable directly causes changes in another variable.\n",
        "\n",
        "Direction of Influence: One variable directly affects or causes the other to change.\n",
        "\n",
        "Implied Relationship: Causation implies a direct cause-and-effect relationship.\n",
        "\n"
      ],
      "metadata": {
        "id": "G2n-Gb91R-LL"
      }
    },
    {
      "cell_type": "markdown",
      "source": [
        "**Q16. WHAT IS AN OPTIMIZER ? WHAT ARE DIFFERENT TYPES OF OPTIMIZERS? EXPLAIN EACH WITH AN EXAMPLE.**\n",
        "\n",
        "ANS: In machine learning and deep learning, an optimizer is an algorithm used to minimize (or maximize) the loss function by adjusting the model's weights and biases. The optimizer determines how to update the model parameters based on the gradients of the loss function. This process is known as gradient descent, and it is essential for training machine learning models.\n",
        "\n",
        "Types of Optimizers are:\n",
        "\n",
        "1-Gradient Descent (GD): Gradient Descent is the most fundamental and widely used optimization algorithm. It is the basis for other optimizers, and it works by updating the model's parameters in the opposite direction of the gradient of the loss function.\n",
        "\n",
        "Example (SGD in Python with scikit-learn):\n",
        "\n"
      ],
      "metadata": {
        "id": "51OXN1ZoTFj_"
      }
    },
    {
      "cell_type": "code",
      "source": [
        "from sklearn.linear_model import SGDRegressor\n",
        "\n",
        "#create model\n",
        "model= SGDRegressor(learning_rate='constant', eta0=0.01)\n",
        "\n",
        "#fit the model on training data\n",
        "model.fit(X_train,y_train)"
      ],
      "metadata": {
        "id": "HZIPtFvSR4T6"
      },
      "execution_count": null,
      "outputs": []
    },
    {
      "cell_type": "markdown",
      "source": [
        "2-Stochastic Gradient Descent (SGD) : Stochastic Gradient Descent (SGD) is a variation of Gradient Descent where the model parameters are updated after processing each individual data point\n",
        "(sample) rather than the entire dataset.\n",
        "\n",
        "How it works:\n",
        "\n",
        "For each iteration, SGD randomly selects a single training example and computes the gradient.\n",
        "\n",
        "Updates the parameters using the gradient from that one example.\n",
        "\n",
        "Example (SGD using Keras):\n",
        "\n"
      ],
      "metadata": {
        "id": "ujmdKDBRTzFw"
      }
    },
    {
      "cell_type": "code",
      "source": [
        "from tensorflow.keras.optimizers import SGD\n",
        "from tensorflow.keras.models import Sequential\n",
        "from tensorflow.keras.layers import Dense\n",
        "\n",
        "# Build a simple model\n",
        "model = Sequential()\n",
        "model.add(Dense(64, activation='relu', input_dim=10))\n",
        "model.add(Dense(1, activation='linear'))\n",
        "\n",
        "# Compile the model using SGD optimizer\n",
        "model.compile(optimizer=SGD(learning_rate=0.01), loss='mean_squared_error')\n"
      ],
      "metadata": {
        "id": "gyJNPCe6TyQb"
      },
      "execution_count": 10,
      "outputs": []
    },
    {
      "cell_type": "markdown",
      "source": [
        "3-Momentum\n",
        "\n",
        "Momentum is an extension of SGD that helps accelerate gradient descent in the right direction and dampens oscillations. It adds a \"velocity\" term to the update rule to smooth out the updates.\n",
        "\n",
        "Example (Momentum in Keras):\n",
        "\n"
      ],
      "metadata": {
        "id": "_24dBVUFU8ad"
      }
    },
    {
      "cell_type": "code",
      "source": [
        "from tensorflow.keras.optimizers import SGD\n",
        "\n",
        "#use momentum in SGD\n",
        "optimizer = SGD(learning_rate=0.01, momentum=0.10)\n",
        "\n",
        "model.compile(optimizer=optimizer, loss='mean_squared_error')"
      ],
      "metadata": {
        "id": "CvYA9b91VBi7"
      },
      "execution_count": 12,
      "outputs": []
    },
    {
      "cell_type": "markdown",
      "source": [
        "**Q17. WHAT IS SKLEARN.LINEAR_MODEL ?**\n",
        "\n",
        "ANS: In the Python library scikit-learn (often abbreviated as sklearn), the module sklearn.linear_model provides classes and functions to implement various types of linear models. Linear models are a fundamental family of algorithms in machine learning used for both regression and classification tasks. These models make predictions based on linear relationships between the input features and the target variable.\n",
        "\n"
      ],
      "metadata": {
        "id": "apkvGwPaU8TQ"
      }
    },
    {
      "cell_type": "markdown",
      "source": [
        "**Q18. WHAT DOES MODEL.FIT DO? WHAT ARGUMENTS MUST BE GIVEN ?**\n",
        "\n",
        "ANS: The model.fit() method in scikit-learn (and other machine learning libraries) is used to train a machine learning model on a given dataset. It takes the input data (features) and the target labels (true values) and learns the parameters (e.g., weights or coefficients) that minimize the model's loss function.\n",
        "\n",
        "During training, the fit() method adjusts the internal parameters of the model based on the training data so that the model can make accurate predictions on unseen data.\n",
        "\n",
        "The model.fit() method typically takes two main arguments:\n",
        "\n",
        "**X (features or input data):**\n",
        "\n",
        "This is the input data or feature matrix that contains the independent variables. It usually has a shape of (n_samples, n_features) where:\n",
        "\n",
        "-n_samples is the number of data points (rows).\n",
        "\n",
        "-n_features is the number of features (columns) in each data point.\n",
        "For example, in a dataset of housing prices, X could represent the features like size, location, and year_built.\n",
        "\n",
        "**y (target or output labels):**\n",
        "\n",
        "This is the target variable or output labels that the model is trying to predict. The shape of y depends on the type of task:\n",
        "\n",
        "1-For regression: y is a vector of continuous values (shape (n_samples,)).\n",
        "\n",
        "2-For classification: y is a vector of discrete class labels (also shape (n_samples,)).\n",
        "\n",
        "3-In the housing prices example, y could represent the actual price of each house.\n",
        "\n"
      ],
      "metadata": {
        "id": "Ww5W_pEwVutZ"
      }
    },
    {
      "cell_type": "markdown",
      "source": [
        "**Q19. WHAT DOES MODEL.PREDICT() DO? WHAT ARGUMENTS MUST BE GIVEN ?**\n",
        "\n",
        "ANS:\n",
        "**Purpose:** It generates output predictions from the model for given input data. This means that after you’ve trained a model using historical data, you can use predict() to make inferences on unseen data.\n",
        "\n",
        "**Operation:** When you call model.predict(), the input data is passed through the trained model, and the model computes the output (predicted values), typically in the form of class probabilities (for classification problems) or continuous values (for regression problems).\n",
        "\n",
        "**Arguments for model.predict()**\n",
        "\n",
        "1-X (input data):\n",
        "\n",
        "Required: Yes\n",
        "\n",
        "Type: It could be a NumPy array, a list, or a TensorFlow tensor.\n",
        "\n",
        "Shape: The shape of the input data depends on the model. For a model that accepts a single feature vector, X will be a 2D array (samples, features).\n",
        "\n",
        "For time-series or image models, the input shape could have more dimensions (e.g., (samples, time steps, features) or (samples, height, width, channels)).\n",
        "\n",
        "2-batch_size:\n",
        "\n",
        "Optional: No\n",
        "\n",
        "Type: Integer\n",
        "\n",
        "Description: Number of samples to process at a time. If None, the batch size will be inferred from the input data.\n",
        "\n",
        "3-verbose:\n",
        "\n",
        "Optional: No\n",
        "\n",
        "Type: Integer (0 or 1)\n",
        "\n",
        "Description: If set to 1, displays a progress bar.\n",
        "\n",
        "Default: 0 (silent mode).\n",
        "\n",
        "4-steps:\n",
        "\n",
        "Optional: Yes\n",
        "\n",
        "Type: Integer\n",
        "\n",
        "Description: Total number of steps (batches of samples) to process. This is used when X is a generator or dataset that yields data in batches. If you pass a generator or a Sequence object (for example, in fit_generator()), you will need to specify how many steps it should run.\n",
        "\n",
        "5-callbacks (in advanced use cases):\n",
        "\n",
        "Optional: Yes\n",
        "\n",
        "Type: List of tf.keras.callbacks.Callback objects.\n",
        "\n",
        "Description: You can pass callbacks to monitor the prediction process, especially in custom prediction loops.\n",
        "\n"
      ],
      "metadata": {
        "id": "zR7eMvYeWGXL"
      }
    },
    {
      "cell_type": "markdown",
      "source": [
        "**Q20. WHAT ARE CONTINUOUS AND CATEGORICAL VARIABLES ?**\n",
        "\n",
        "ANS: In data analysis and machine learning, variables are the attributes or features in the dataset that you use to model relationships and make predictions. Variables are typically categorized based on the type of data they represent. The two broad categories are continuous and categorical variables. Let's dive into each one:\n",
        "\n",
        "1-Continuous Variables:\n",
        "\n",
        "A continuous variable is a type of numerical variable that can take on an infinite number of values within a given range. These variables represent measurements and can have fractional or decimal values.\n",
        "\n",
        "Examples of Continuous Variables:\n",
        "\n",
        "Height: A person can be 5.5 feet, 5.55 feet, 5.555 feet, etc.\n",
        "\n",
        "Weight: A weight could be 70 kg, 70.5 kg, 70.55 kg, and so on.\n",
        "\n",
        "Temperature: 21.1°C, 21.12°C, 21.123°C, etc.\n",
        "\n",
        "2-Categorical Variables:\n",
        "\n",
        "A categorical variable is a type of variable that represents distinct categories or groups. The values of categorical variables are labels or names used to identify distinct classes or categories. Unlike continuous variables, categorical variables do not have an inherent order or magnitude.\n",
        "\n",
        "Example:\n",
        "\n",
        "Classifying an email as either spam or not spam (a binary classification, with two categories).\n",
        "\n"
      ],
      "metadata": {
        "id": "ZvFx55p-Wwtw"
      }
    },
    {
      "cell_type": "markdown",
      "source": [
        "**Q21. WHAT IS FEATURE SCALING ? HOW DOES IT HELP IN MACHINE LEARNING ?**\n",
        "\n",
        "ANS: Feature scaling is the process of standardizing or normalizing the range of independent variables or features of a dataset. The main goal is to bring all features to a similar scale so that they have equal importance during the model training process. In machine learning, features (or input variables) might have different units or ranges, and scaling ensures that no single feature disproportionately affects the model's performance.\n",
        "\n",
        "Use of feature scaling in machine learning:\n",
        "\n",
        "1-Improves Model Convergence (Faster Training):\n",
        "\n",
        "Gradient Descent-based models: Algorithms like Linear Regression, Logistic Regression, Neural Networks, etc., rely on optimization techniques like Gradient Descent to minimize the loss function. If the features have widely different scales, the gradient updates might become uneven, slowing down convergence or leading to inefficient optimization. Feature scaling helps by making the gradient descent process more stable and faster, allowing the optimizer to move in a more uniform direction.\n",
        "\n",
        "2-Improves Performance in Distance-based Models:\n",
        "\n",
        "K-Nearest Neighbors (KNN), Support Vector Machines (SVM), K-Means clustering, and other distance-based algorithms use distance metrics (like Euclidean distance) to make predictions or group similar data points. If one feature has a much larger range than others, it will dominate the distance metric, and the algorithm might prioritize that feature over others. Scaling ensures that each feature contributes equally to the distance calculation.\n",
        "\n",
        "3-Prevents Bias in Models:\n",
        "\n",
        "Models that involve regularization (e.g., Ridge Regression, Lasso Regression) penalize large coefficients for features. Without feature scaling, the model may assign a higher penalty to the feature with a larger range, biasing the model toward certain features over others. Proper scaling ensures that all features are penalized equally.\n",
        "\n",
        "4-Better Performance in Some Machine Learning Models:\n",
        "\n",
        "Models like K-Means clustering and Principal Component Analysis (PCA), which are sensitive to variance in the features, perform better when the data is scaled, leading to more effective clustering and dimensionality reduction.\n",
        "\n",
        "\n"
      ],
      "metadata": {
        "id": "Kg7XDHVGW80g"
      }
    },
    {
      "cell_type": "markdown",
      "source": [
        "**Q22. HOW DO WE PERFORM SCALING IN PYTHON ?**\n",
        "\n",
        "ANS: To perform feature scaling in Python, you typically use the scikit-learn library, which provides several built-in classes for different types of scaling. These classes are part of sklearn.preprocessing. Scaling ensures that all features are on the same scale, making machine learning algorithms more efficient and improving model performance.\n",
        "\n",
        "Steps to Perform Scaling in Python:\n",
        "\n",
        "1-Install scikit-learn (if you haven't already)\n",
        "\n",
        "2-Import Necessary Classes: For scaling, you'll need to import the relevant class from sklearn.preprocessing. Below are the most common scaling techniques:\n",
        "\n",
        "Standardization: StandardScaler\n",
        "\n",
        "Min-Max Scaling (Normalization): MinMaxScaler\n",
        "\n",
        "Robust Scaling: RobustScaler\n",
        "\n",
        "MaxAbs Scaling: MaxAbsScaler\n",
        "\n",
        "3-Apply the Scaling: After importing the necessary scaler, you can apply it to your dataset using fit_transform() for training data and transform() for testing data.\n"
      ],
      "metadata": {
        "id": "NDvi60nxXW1f"
      }
    },
    {
      "cell_type": "markdown",
      "source": [
        "**Q23. WHAT IS SKLEARN.PREPROCESSING ?**\n",
        "\n",
        "ANS: sklearn.preprocessing is a module in scikit-learn (a popular machine learning library in Python) that provides a suite of tools for data preprocessing. Data preprocessing is a crucial step in the machine learning pipeline, as it helps transform raw data into a format suitable for machine learning algorithms. The preprocessing techniques in this module address common issues like scaling, encoding, and handling missing values in the data.\n",
        "\n"
      ],
      "metadata": {
        "id": "R1-TqFPUXgko"
      }
    },
    {
      "cell_type": "markdown",
      "source": [
        "**Q24. HOW DO WE SPLIT DATA FOR MODEL FITTING (TRAINING AND TESTING) IN PYTHON ?**\n",
        "\n",
        "ANS To split data for training and testing in Python, the most common approach is using scikit-learn's train_test_split() function.\n",
        "\n",
        "1-Import Required Libraries:\n"
      ],
      "metadata": {
        "id": "TOdd0Xi-XohX"
      }
    },
    {
      "cell_type": "code",
      "source": [
        "from sklearn.model_selection import train_test_split"
      ],
      "metadata": {
        "id": "eOzUENIZTuRv"
      },
      "execution_count": 13,
      "outputs": []
    },
    {
      "cell_type": "markdown",
      "source": [
        "2- Prepare Your Data: Seperate your Features (X) and target (y)"
      ],
      "metadata": {
        "id": "dlWDFiiZX3Et"
      }
    },
    {
      "cell_type": "code",
      "source": [
        "print(df.columns)\n",
        "X = df.drop('A', axis=1)  # Features\n",
        "y = df['A']               # Target variable\n"
      ],
      "metadata": {
        "colab": {
          "base_uri": "https://localhost:8080/"
        },
        "id": "UXSYwUh2X1pu",
        "outputId": "0b8bdebe-2c13-4e68-d15b-8df1454b5e50"
      },
      "execution_count": 20,
      "outputs": [
        {
          "output_type": "stream",
          "name": "stdout",
          "text": [
            "Index(['A', 'B', 'C'], dtype='object')\n"
          ]
        }
      ]
    },
    {
      "cell_type": "markdown",
      "source": [
        "3-Split the Data: Use train_test_split() to divide the dataset into training and testing sets.\n"
      ],
      "metadata": {
        "id": "reFuIxUBYK0-"
      }
    },
    {
      "cell_type": "code",
      "source": [
        "X_train, X_test, y_train, y_test = train_test_split(X, y, test_size=0.2, random_state=42)\n"
      ],
      "metadata": {
        "id": "hMJ37XnRYEeX"
      },
      "execution_count": 22,
      "outputs": []
    },
    {
      "cell_type": "markdown",
      "source": [
        "4-Stratified Split (optional for classification tasks): Ensures class balance in both training and test sets."
      ],
      "metadata": {
        "id": "WDstAHzcYRq0"
      }
    },
    {
      "cell_type": "code",
      "source": [
        "X_train, X_test, y_train, y_test = train_test_split(X, y, test_size=0.2, random_state=42)\n"
      ],
      "metadata": {
        "id": "o1cp7olQYUAu"
      },
      "execution_count": 24,
      "outputs": []
    },
    {
      "cell_type": "markdown",
      "source": [
        "Machine Learning Approach:\n",
        "\n",
        "1-Define the problem (classification or regression).\n",
        "\n",
        "2-Collect, clean, and preprocess the data.\n",
        "\n",
        "3-Split the data into training and test sets.\n",
        "\n",
        "4-Choose and train a model.\n",
        "\n",
        "5-Evaluate the model using test data.\n",
        "\n",
        "6-Fine-tune the model and use cross-validation.\n",
        "\n",
        "7-Deploy the model when performance is satisfactory.\n",
        "\n"
      ],
      "metadata": {
        "id": "7BPusZvIZOtM"
      }
    },
    {
      "cell_type": "markdown",
      "source": [
        "**Q25. EXPLAIN DATA ENCODING ?**\n",
        "\n",
        "ANS: Data encoding is a technique used to convert categorical data (such as labels or text) into numerical format so that machine learning algorithms can work with it. Most machine learning models require numerical inputs, and categorical data (e.g., country names, product types, or yes/no responses) cannot be used directly without being transformed into a numeric form.\n",
        "\n",
        "Data encoding plays a critical role in preprocessing and is essential for models like decision trees, linear regression, and neural networks. There are several common encoding techniques, depending on the type and nature of the categorical data.\n",
        "\n",
        "Common Types of Data Encoding:\n",
        "\n",
        "1-Label Encoding (Integer Encoding)\n",
        "2-One-Hot Encoding\n",
        "3-Binary Encoding\n",
        "4-Ordinal Encoding\n",
        "5-Frequency Encoding\n",
        "6-Target Encoding"
      ],
      "metadata": {
        "id": "rEG9d0C2ZcWv"
      }
    },
    {
      "cell_type": "code",
      "source": [],
      "metadata": {
        "id": "EapCdHIfYV42"
      },
      "execution_count": null,
      "outputs": []
    }
  ]
}