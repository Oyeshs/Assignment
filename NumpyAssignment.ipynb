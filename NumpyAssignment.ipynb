{
  "nbformat": 4,
  "nbformat_minor": 0,
  "metadata": {
    "colab": {
      "provenance": []
    },
    "kernelspec": {
      "name": "python3",
      "display_name": "Python 3"
    },
    "language_info": {
      "name": "python"
    }
  },
  "cells": [
    {
      "cell_type": "markdown",
      "source": [
        "**THEORITICAL QUESTIONS**\n",
        "\n",
        "**Q1. EXPLAIN THE PURPOSE AND ADVANTAGES OF NUMPY IN SCIENTIFIC COMPUTING AND DATA ANALYSIS. HOW DOES IT ENHANCE PYTHON'S CAPABILITIES FOR NUMERICAL OPERATIONS?**\n",
        "\n",
        "ANS: The primary purposes of NumPy include:\n",
        "\n",
        "**1. Efficient Data Storage and Manipulation:** NumPy arrays allow for the efficient storage of large amounts of numerical data, which can be processed in bulk.\n",
        "\n",
        "**2. Fast Mathematical Operations:** NumPy includes a wide range of mathematical operations optimized for performance, making it well-suited for computational-heavy tasks.\n",
        "\n",
        "**3. Foundation for Other Libraries:** NumPy serves as a foundation for many other libraries in Python’s scientific ecosystem (like Numpy,Pandas), which rely on its fast, efficient data handling capabilities.\n",
        "\n",
        "**Advantages of NumPy in Scientific Computing and Data Analysis:**\n",
        "\n",
        "**1. Powerful Array and Matrix Capabilities:**\n",
        "\n",
        "**ndarray:** NumPy's core data structure, ndarray, can represent vectors, matrices, and even higher-dimensional arrays. This enables more complex data manipulation and supports scientific tasks that require multidimensional datasets.\n",
        "\n",
        "**Broadcasting:** NumPy’s broadcasting feature allows you to perform operations on arrays of different shapes and sizes, which is especially useful for scientific computing where you might need to work with arrays that aren't always the same shape.\n",
        "\n",
        "**2. Comprehensive Mathematical Functions:**\n",
        "\n",
        "NumPy provides a vast array of mathematical functions for linear algebra, statistics, Fourier transforms, and more. These functions are essential for data analysis and scientific computations, as they eliminate the need for complex, custom implementations.\n",
        "\n",
        "Functions like dot() for matrix multiplication, mean() for averaging, and std() for standard deviation make data analysis tasks straightforward and efficient.\n",
        "\n",
        "**3. Interfacing with Other Languages:**\n",
        "\n",
        "**C and Fortran Interfacing:** NumPy can interface with C and Fortran libraries, which is advantageous for high-performance scientific computing. You can use NumPy with libraries written in these languages, allowing the combination of Python’s ease of use with the speed of compiled languages.\n",
        "\n",
        "**4. Foundation for Machine Learning and Data Science:**\n",
        "\n",
        "Since machine learning algorithms involve heavy mathematical computation on large datasets, NumPy’s capabilities make it essential in this field. Libraries like scikit-learn, TensorFlow, and PyTorch are built on top of NumPy arrays or compatible with them, enabling easy integration of machine learning into data analysis workflows.\n",
        "\n",
        "**NumPy enhances Python's capabilities for Numerical Operations by:**\n",
        "\n",
        "1-Replacing Python Lists with Fast ndarrays:\n",
        "Native Python lists are flexible but not ideal for numerical operations, especially in scientific contexts. NumPy arrays (ndarray) replace lists for numerical data, improving both memory efficiency and speed.\n",
        "\n",
        "2-Optimized Mathematical Operations:\n",
        "With NumPy, mathematical operations can be performed in a highly optimized manner due to its C-based implementation, making computations significantly faster than with standard Python.\n",
        "\n",
        "3-Enabling Complex Calculations:\n",
        "From linear algebra to matrix decompositions and Fourier transforms, NumPy equips Python with the computational tools needed for advanced scientific applications.\n",
        "\n"
      ],
      "metadata": {
        "id": "b59uc23YgVf5"
      }
    },
    {
      "cell_type": "markdown",
      "source": [
        "**Q2. COMPARE AND CONTRAST np.mean() and np.average() FUNCTIONS IN NUMPY.WHEN WOULD YOU USE ONE OVER OTHER?**\n",
        "\n",
        "**ANS:** In NumPy, both np.mean() and np.average() are used to calculate the average of an array or list of numbers, but they have some differences in functionality and usage.\n",
        "\n",
        "**np.mean():**\n",
        "\n",
        "Calculates the arithmetic mean (or simple average) of the elements in an array. This function operates over the specified axis and doesn’t take weights into account.\n",
        "\n",
        "**np.average():**\n",
        "\n",
        "Also calculates the arithmetic mean, but with the added option of computing a weighted average if weights are provided. When weights are not specified, it behaves similarly to np.mean().\n",
        "\n",
        "**When to Use Each Function**\n",
        "\n",
        "**Use np.mean():**\n",
        "\n",
        "When you need a simple average and no weighting is required. When performance is a priority, and you don’t need any extra features like weight handling. For typical applications where all values contribute equally to the mean, like computing the mean of temperature readings or scores.\n",
        "\n",
        "**Use np.average():**\n",
        "\n",
        "When you need a weighted average, where some elements should have a greater or lesser effect on the result. In applications like finance or physics, where different elements carry different levels of importance. For example, calculating the weighted average return of a portfolio where each asset has a different investment weight. If you want to retrieve the sum of weights along with the average, which np.mean() doesn’t provide."
      ],
      "metadata": {
        "id": "ryZDMKVuufrm"
      }
    },
    {
      "cell_type": "markdown",
      "source": [
        "**Q3. DESCRIBE A METHODS FOR REVERSING A NUMPY ARRAY ALONG DIFFERENT AXES. PROVIDE EXAMPLE FOR 1D AND 2D ARRAY.**\n",
        "\n",
        "**ANS:** Reversing a NumPy array along different axes can be done using various methods. The most common techniques include using slicing, the np.flip() function, and np.flipud() / np.fliplr() for 2D arrays. Below are descriptions of these methods along with examples for both 1D and 2D arrays.\n",
        "\n",
        "Reversing a 1D Array\n",
        "Method: Slicing\n",
        "\n",
        "You can reverse a 1D array by using slicing with a step of -1.\n",
        "\n",
        "Example:"
      ],
      "metadata": {
        "id": "9N20MuZ0vCFy"
      }
    },
    {
      "cell_type": "code",
      "execution_count": null,
      "metadata": {
        "id": "IcHrGIGVgJK5",
        "colab": {
          "base_uri": "https://localhost:8080/"
        },
        "outputId": "fa039ad0-a0cf-4129-d108-88c427b5d4cd"
      },
      "outputs": [
        {
          "output_type": "stream",
          "name": "stdout",
          "text": [
            "Original 1D array: [1 2 3 4 5]\n",
            "Reversed 1D array: [5 4 3 2 1]\n"
          ]
        }
      ],
      "source": [
        "import numpy as np\n",
        "array_1d=np.array([1,2,3,4,5])\n",
        "reversed_array_1d =array_1d[::-1]\n",
        "\n",
        "print(\"Original 1D array:\", array_1d)\n",
        "print(\"Reversed 1D array:\",reversed_array_1d)"
      ]
    },
    {
      "cell_type": "markdown",
      "source": [
        "Method: Using np.flip()\n",
        "\n",
        "You can also use the np.flip() function, which allows for reversing along specified axes(for 1D, it will only reverse the entire array).\n",
        "\n",
        "Example:"
      ],
      "metadata": {
        "id": "1BDQTvDEiD6J"
      }
    },
    {
      "cell_type": "code",
      "source": [
        "reversed_array_1d_flip=np.flip(array_1d)\n",
        "\n",
        "print(\"Reversed 1D array using np.flip():\",reversed_array_1d_flip)"
      ],
      "metadata": {
        "colab": {
          "base_uri": "https://localhost:8080/"
        },
        "id": "lYiYtC0Qw5VV",
        "outputId": "3af85c35-b108-43da-8fe1-ff777ecf6ba7"
      },
      "execution_count": null,
      "outputs": [
        {
          "output_type": "stream",
          "name": "stdout",
          "text": [
            "Reversed 1D array using np.flip(): [5 4 3 2 1]\n"
          ]
        }
      ]
    },
    {
      "cell_type": "markdown",
      "source": [
        "2. Reversing a 2D array\n",
        "\n",
        "Method: Slicing\n",
        "\n",
        "You canreverse a 2D array along different axes using slicing. The axis can be specified by using: for the desired dimentions\n",
        "\n",
        "Example:\n"
      ],
      "metadata": {
        "id": "P82lVdQ5xpf3"
      }
    },
    {
      "cell_type": "code",
      "source": [
        "array_2d = np.array([[1,2,3],\n",
        "                     [4,5,6],\n",
        "                     [7,8,9,]])\n",
        "reversed_array_2d = array_2d[::-1, ::-1]\n",
        "\n",
        "print(\"original 2D array:\")\n",
        "print(array_2d)\n",
        "print(\"reversed 2D array:\")\n",
        "print(reversed_array_2d)"
      ],
      "metadata": {
        "colab": {
          "base_uri": "https://localhost:8080/"
        },
        "id": "694gNr2ixKzb",
        "outputId": "6f1334b5-4342-4779-f03d-ca8bd96ac0a0"
      },
      "execution_count": null,
      "outputs": [
        {
          "output_type": "stream",
          "name": "stdout",
          "text": [
            "original 2D array:\n",
            "[[1 2 3]\n",
            " [4 5 6]\n",
            " [7 8 9]]\n",
            "reversed 2D array:\n",
            "[[9 8 7]\n",
            " [6 5 4]\n",
            " [3 2 1]]\n"
          ]
        }
      ]
    },
    {
      "cell_type": "markdown",
      "source": [
        "Method: Using np.flip()\n",
        "\n",
        "You can use np.flip() to reverse the array along a specific axis:\n",
        "\n",
        "Reversing along axis 0 (rows): Flips the array vertically. Reversing along axis 1 (columns): Flips the array horizontally.\n",
        "\n",
        "Example:"
      ],
      "metadata": {
        "id": "eSr99ieF2kg5"
      }
    },
    {
      "cell_type": "code",
      "source": [
        "reversed_array_2d_axis0= np.flip(array_2d, axis=0)\n",
        "\n",
        "reversed_array_2d_axis1 = np.flip(array_2d, axis=1)\n",
        "\n",
        "print(\"reversed 2D array along axis 0 (rows):\")\n",
        "print(reversed_array_2d_axis0)\n",
        "print(\"Reversed 2D array along axis 1 (columns):\")\n",
        "print(reversed_array_2d_axis1)"
      ],
      "metadata": {
        "colab": {
          "base_uri": "https://localhost:8080/"
        },
        "id": "vFKypcRo2hTv",
        "outputId": "171cac22-daa3-4465-ed5a-42717c191984"
      },
      "execution_count": null,
      "outputs": [
        {
          "output_type": "stream",
          "name": "stdout",
          "text": [
            "reversed 2D array along axis 0 (rows):\n",
            "[[7 8 9]\n",
            " [4 5 6]\n",
            " [1 2 3]]\n",
            "Reversed 2D array along axis 1 (columns):\n",
            "[[3 2 1]\n",
            " [6 5 4]\n",
            " [9 8 7]]\n"
          ]
        }
      ]
    },
    {
      "cell_type": "markdown",
      "source": [
        "**Q4. HOW CAN YOU DETERMINE THE DATA TYPE OF ELEMENTS IN A NUMPY ARRAY? DISCUSS THE IMPORTANCE OF DATA TYPES IN MEMORY MANAGEMENT AND PERFORMANCE.**\n",
        "\n",
        "ANS: To determine the data type of elements in a NumPy array, .dtype attribute is used."
      ],
      "metadata": {
        "id": "wUudDb2C-ff0"
      }
    },
    {
      "cell_type": "code",
      "source": [
        "import numpy as np\n",
        "\n",
        "array =np.array([1,2,3,4,5,])\n",
        "array.dtype"
      ],
      "metadata": {
        "colab": {
          "base_uri": "https://localhost:8080/"
        },
        "id": "xpkxe8XN9x-B",
        "outputId": "4d665e81-e8a2-4216-c052-8aca0786fae9"
      },
      "execution_count": null,
      "outputs": [
        {
          "output_type": "execute_result",
          "data": {
            "text/plain": [
              "dtype('int64')"
            ]
          },
          "metadata": {},
          "execution_count": 21
        }
      ]
    },
    {
      "cell_type": "markdown",
      "source": [
        "**Importance of Data Types in Memory Management and Performance**\n",
        "\n",
        "1-Memory Efficiency\n",
        "Different data types have different memory requirements. For example, int8 (8-bit integer) requires 1 byte per element, while int64 (64-bit integer) requires 8 bytes per element. Choosing an appropriate data type can save memory, which is especially important when dealing with large datasets. For instance, an array of 1,000,000 elements with int8 data type will consume only 1 MB of memory, whereas an array with int64 will consume 8 MB for the same data.\n",
        "\n",
        "2-Performance Optimization\n",
        "Operations on smaller data types (e.g., int8 or float32) are typically faster than on larger types (e.g., int64 or float64). Choosing a smaller data type can lead to significant performance gains when performing calculations, as less memory needs to be accessed and processed. For example, in applications that require real-time computations (such as signal processing or image processing), using float32 instead of float64 can speed up calculations without significantly affecting accuracy.\n",
        "\n",
        "3-Compatibility and Precision\n",
        "Using the correct data type helps maintain accuracy, especially for floating-point calculations. For instance, float64 provides higher precision than float32, which can be essential for scientific calculations where precision is crucial. Mismatched data types can lead to unexpected results or overflow errors. For instance, if an array of int8 (range -128 to 127) encounters a value beyond this range, it may cause overflow and wrap around, yielding incorrect results.\n",
        "\n",
        "4-Operations and Broadcasting\n",
        "NumPy arrays with different data types can sometimes lead to issues in operations, as arrays of the same data type are required for element-wise operations and broadcasting. Knowing and standardizing the data types across arrays can prevent errors and make computations more straightforward.\n",
        "\n",
        "\n"
      ],
      "metadata": {
        "id": "JUrldZzj-4cG"
      }
    },
    {
      "cell_type": "markdown",
      "source": [
        "**Q5. DEFINE ndarrays IN NUMPY AND EXPLAIN THEIR KEY FEATURES. HOW DO THEY DIFFERE FROM STANDARD PYTHON LISTS?**\n",
        "\n",
        "ANS: An ndarray is an n-dimensional, homogeneous array, meaning that all elements within the array are of the same data type. It can represent data in one dimension (1D), like a list of numbers, or in higher dimensions, such as matrices (2D) or tensors (3D and above).\n",
        "\n",
        "**Key Features of ndarrays**\n",
        "\n",
        "**1. Homogeneous Data Type:**\n",
        "\n",
        "All elements in an ndarray must be of the same data type (e.g., all integers, all floats, or all strings). This consistency allows for efficient storage and quick calculations, as memory layout and element size are predictable.\n",
        "\n",
        "**2. Multidimensional Support:**\n",
        "\n",
        "ndarrays can have multiple dimensions, from 1D (a simple array) to n-dimensional, where n can be any non-negative integer. For example, a 2D ndarray represents a matrix, while a 3D ndarray can represent a tensor.\n",
        "\n",
        "**3. Fixed Size:**\n",
        "\n",
        "Once created, the size (number of elements) of an ndarray is fixed. You can reshape the array but cannot directly change its size. This differs from Python lists, which are dynamically resizable.\n",
        "\n",
        "**4. Efficient Memory Layout:**\n",
        "\n",
        "ndarrays use contiguous memory blocks, which optimizes performance for operations like slicing, accessing, and performing mathematical operations. They store data in a compact form, making them memory-efficient, especially compared to lists of lists in Python.\n",
        "\n",
        "**Differences Between ndarrays and Python Lists**\n",
        "\n",
        "**ndarray Python List**\n",
        "\n",
        "1-DATA TYPE: Homogeneous (same data type)\n",
        "2-MEMORY LAYOUT: Contiguous and optimized\n",
        "3-DIMENSIONS: Supports n-dimensions\n",
        "4-PERFORMANCE: Highly optimized for numerical operations\n",
        "\n",
        "**Python List**\n",
        "\n",
        "1-DATA TYPE: Heterogeneous (mixed data types)\n",
        "2-MEMORY LAYOUT: Not contiguous; linked references\n",
        "3-DIMENSIONS: 1D; requires nested lists for 2D+\n",
        "4-PERFORMANCE: Slower for numerical computations\n"
      ],
      "metadata": {
        "id": "O5jM8seY_RPC"
      }
    },
    {
      "cell_type": "markdown",
      "source": [
        "**Q6. ANALYZE THE PERFORMANCE BENEFITS OF NUMPY ARRAYS OVER PYTHON LISTS FOR LARGE-SCALE NUMERICAL OPERATIONS.**\n",
        "\n",
        "ANS: Key Performance Benefits of NumPy Arrays over Python Lists\n",
        "\n",
        "1-Efficient Memory Layout:\n",
        "Fixed Data Type: NumPy arrays are homogeneous, meaning all elements are of the same data type, unlike Python lists, which are heterogeneous and can store elements of different types. This homogeneity allows NumPy arrays to store elements in contiguous blocks of memory, making memory access and retrieval faster.\n",
        "\n",
        "Compact Storage: Because NumPy knows the type of data it is storing, it can allocate just the right amount of memory for each element. For example, an int32 array uses exactly 4 bytes per integer, whereas Python lists use additional memory to store type information and references for each element.\n",
        "\n",
        "2-Vectorized Operations:\n",
        "NumPy supports vectorized operations, meaning that mathematical and logical operations can be applied to entire arrays at once without explicit loops. Python lists, on the other hand, require looping through elements to perform similar operations.\n",
        "\n",
        "Vectorized operations are internally implemented in low-level languages like C, allowing NumPy to perform computations at a much faster speed than Python's interpreted loop-based approach.\n",
        "\n",
        "For example, multiplying each element of a NumPy array by 2 is significantly faster than iterating through a Python list and performing the same operation.\n",
        "\n",
        "3-Broadcasting:\n",
        "Broadcasting is a feature that allows NumPy to perform operations between arrays of different shapes without needing to manually reshape or expand them. This capability reduces the amount of code required and improves performance by minimizing unnecessary data replication.\n",
        "\n",
        "4-Optimized Mathematical and Statistical Functions: NumPy provides a vast library of highly optimized functions for common numerical tasks (e.g., sum, mean, standard deviation), all implemented in lower-level languages like C, which are much faster than their Python equivalents.\n",
        "For instance, calculating the mean of a NumPy array using np.mean() is far quicker than calculating it with a loop over a Python list."
      ],
      "metadata": {
        "id": "5mwy1qjbNUNH"
      }
    },
    {
      "cell_type": "markdown",
      "source": [
        "**Q7. COMPARE VSTACK() AND HSTACK() FUNCTIONS IN NUMPY. PROVIDE EXAMPLES DEMONSTRATING THEIR USAGE AND OUTPUT.**\n",
        "\n",
        "ANS: The vstack() and hstack() functions in NumPy are used to stack arrays along different axes, enabling you to combine arrays either vertically or horizontally. Here’s a comparison of the two functions, along with examples that demonstrate their usage.\n",
        "\n",
        "**numpy.vstack()**\n",
        "\n",
        "The vstack() function (short for \"vertical stack\") stacks arrays vertically, i.e., along rows. It requires that the arrays have the same number of columns but allows a different number of rows. vstack() can be used with both 1D and 2D arrays, but it will add a new row for each input if they’re 1D arrays.\n",
        "\n",
        "Axis for stacking: Along the first axis (axis=0), which corresponds to rows.\n",
        "\n",
        "Shape compatibility: Arrays must have the same number of columns (second dimension).\n",
        "\n"
      ],
      "metadata": {
        "id": "K5TBT1SwNvmR"
      }
    },
    {
      "cell_type": "code",
      "source": [
        "#example with 1D arrays:\n",
        "import numpy as np\n",
        "\n",
        "array1= np.array([1,2,3,4])\n",
        "array2= np.array([5,6,7,8])\n",
        "\n",
        "result_vstack_1d= np.vstack((array1, array2))\n",
        "print(\"Results of vstack with 1D arrays:\")\n",
        "print(result_vstack_1d)"
      ],
      "metadata": {
        "colab": {
          "base_uri": "https://localhost:8080/"
        },
        "id": "RC-99lud-xgs",
        "outputId": "6b340bd2-918b-45a5-e0d0-a95282c9e5b3"
      },
      "execution_count": null,
      "outputs": [
        {
          "output_type": "stream",
          "name": "stdout",
          "text": [
            "Results of vstack with 1D arrays:\n",
            "[[1 2 3 4]\n",
            " [5 6 7 8]]\n"
          ]
        }
      ]
    },
    {
      "cell_type": "code",
      "source": [
        "#example with 2D arrays:\n",
        "\n",
        "array3= np.array([[1,2,3],[4,5,6]])\n",
        "array4=np.array([[7,8,9],[10,11,12]])\n",
        "\n",
        "result_vstack_2d= np.vstack((array3,array4))\n",
        "print(\"Result of vstack with 2D arrays:\")\n",
        "print(result_vstack_2d)\n"
      ],
      "metadata": {
        "colab": {
          "base_uri": "https://localhost:8080/"
        },
        "id": "CKOTghzzP_3t",
        "outputId": "7f74f1ca-3775-4883-9e90-424f892422da"
      },
      "execution_count": null,
      "outputs": [
        {
          "output_type": "stream",
          "name": "stdout",
          "text": [
            "Result of vstack with 2D arrays:\n",
            "[[ 1  2  3]\n",
            " [ 4  5  6]\n",
            " [ 7  8  9]\n",
            " [10 11 12]]\n"
          ]
        }
      ]
    },
    {
      "cell_type": "markdown",
      "source": [
        "**numpy.hstack()**\n",
        "\n",
        "The hstack() function (short for \"horizontal stack\") stacks arrays horizontally, i.e., along columns. It requires that the arrays have the same number of rows but allows a different number of columns. hstack() can be used with both 1D and 2D arrays, and if the arrays are 1D, they will be combined into a single row.\n",
        "\n",
        "Axis for stacking: Along the second axis (axis=1), which corresponds to columns.\n",
        "\n",
        "Shape compatibility: Arrays must have the same number of rows (first dimension)."
      ],
      "metadata": {
        "id": "Jmi0hqHKRHET"
      }
    },
    {
      "cell_type": "code",
      "source": [
        "#example with 1D array:\n",
        "import numpy as np\n",
        "array1 = np.array([1, 2, 3, 4])\n",
        "array2 = np.array([5, 6, 7, 8])\n",
        "\n",
        "result_hstack_1d=np.hstack((array1,array2))\n",
        "print(\"result of hstack with 1D arrays:\")\n",
        "print(result_hstack_1d)"
      ],
      "metadata": {
        "colab": {
          "base_uri": "https://localhost:8080/"
        },
        "id": "vq9nWFOi39XK",
        "outputId": "15690cc0-5521-4b26-fa81-0a35c8578254"
      },
      "execution_count": 9,
      "outputs": [
        {
          "output_type": "stream",
          "name": "stdout",
          "text": [
            "result of hstack with 1D arrays:\n",
            "[1 2 3 4 5 6 7 8]\n"
          ]
        }
      ]
    },
    {
      "cell_type": "code",
      "source": [
        "#example with 2D arrays:\n",
        "\n",
        "array5=np.array([[1,2],[3,4]])\n",
        "array6=np.array([[5,6],[7,8]])\n",
        "\n",
        "result_hstack_2d=np.hstack((array5,array6))\n",
        "print(\"result of hstack with 2D arrays:\")\n",
        "print(result_hstack_2d)"
      ],
      "metadata": {
        "id": "yr-9V_LMQ_ga",
        "colab": {
          "base_uri": "https://localhost:8080/"
        },
        "outputId": "bd6fd08b-3c40-4c12-9cee-bc3aba49e7f5"
      },
      "execution_count": 10,
      "outputs": [
        {
          "output_type": "stream",
          "name": "stdout",
          "text": [
            "result of hstack with 2D arrays:\n",
            "[[1 2 5 6]\n",
            " [3 4 7 8]]\n"
          ]
        }
      ]
    },
    {
      "cell_type": "markdown",
      "source": [
        "**Q8. EXPLAIN THE DIFFERENCES BETWEEN fliplr() and flipud() METHODS IN NUMPY,INCLUDING THEIR EFFECTS ON VARIOUS ARRAY DIMENSIONS.**\n",
        "\n",
        "ANS: In NumPy, the fliplr() and flipud() functions are used to reverse the elements of arrays along specific axes. These functions provide simple ways to mirror an array along different dimensions, making them useful in data manipulation and transformation tasks.\n",
        "\n",
        "**numpy.fliplr()**\n",
        "\n",
        "The fliplr() function (short for \"flip left to right\") reverses the elements of an array along the second axis (columns), effectively flipping the array horizontally. It is typically used with 2D arrays or higher-dimensional arrays where there is a second axis to operate on.\n",
        "\n",
        "**Effect:** Flips the array horizontally by reversing the order of columns. Axis: Works along axis 1 (columns).\n",
        "\n",
        "**Requirement:** The array must have at least 2 dimensions; otherwise, fliplr() will raise an error.\n",
        "\n"
      ],
      "metadata": {
        "id": "eSHeKQFR5xgy"
      }
    },
    {
      "cell_type": "code",
      "source": [
        "#EXAMPLE WITH 2D ARRAY\n",
        "\n",
        "\n",
        "import numpy as np\n",
        "\n",
        "\n",
        "array_2d = np.array([[1, 2, 3],\n",
        "                     [4, 5, 6],\n",
        "                     [7, 8, 9]])\n",
        "\n",
        "\n",
        "result_fliplr = np.fliplr(array_2d)\n",
        "print(\"Original array:\\n\", array_2d)\n",
        "print(\"\\nArray after fliplr:\\n\", result_fliplr)"
      ],
      "metadata": {
        "colab": {
          "base_uri": "https://localhost:8080/"
        },
        "id": "bZUKAcjS3Ye9",
        "outputId": "94d29f28-2c43-48f6-bdcb-25615e9e24c1"
      },
      "execution_count": 11,
      "outputs": [
        {
          "output_type": "stream",
          "name": "stdout",
          "text": [
            "Original array:\n",
            " [[1 2 3]\n",
            " [4 5 6]\n",
            " [7 8 9]]\n",
            "\n",
            "Array after fliplr:\n",
            " [[3 2 1]\n",
            " [6 5 4]\n",
            " [9 8 7]]\n"
          ]
        }
      ]
    },
    {
      "cell_type": "code",
      "source": [
        "#EXAMPLE WITH 3D ARRAY\n",
        "\n",
        "array_3d = np.array([[[1, 2, 3],\n",
        "                      [4, 5, 6]],\n",
        "\n",
        "                     [[7, 8, 9],\n",
        "                      [10, 11, 12]]])\n",
        "\n",
        "\n",
        "result_fliplr_3d = np.fliplr(array_3d)\n",
        "print(\"Original 3D array:\\n\", array_3d)\n",
        "print(\"\\n3D array after fliplr:\\n\", result_fliplr_3d)\n"
      ],
      "metadata": {
        "colab": {
          "base_uri": "https://localhost:8080/"
        },
        "id": "UAYBR8CT-rEv",
        "outputId": "fc3ed963-a544-4dd9-e2c1-873169d1d1f5"
      },
      "execution_count": 12,
      "outputs": [
        {
          "output_type": "stream",
          "name": "stdout",
          "text": [
            "Original 3D array:\n",
            " [[[ 1  2  3]\n",
            "  [ 4  5  6]]\n",
            "\n",
            " [[ 7  8  9]\n",
            "  [10 11 12]]]\n",
            "\n",
            "3D array after fliplr:\n",
            " [[[ 4  5  6]\n",
            "  [ 1  2  3]]\n",
            "\n",
            " [[10 11 12]\n",
            "  [ 7  8  9]]]\n"
          ]
        }
      ]
    },
    {
      "cell_type": "markdown",
      "source": [
        "**numpy.flipud()**\n",
        "\n",
        "The flipud() function (short for \"flip up to down\") reverses the elements of an array along the first axis (rows), effectively flipping the array vertically. This function is used primarily with 2D arrays or higher-dimensional arrays with at least one row.\n",
        "\n",
        "Effect: Flips the array vertically by reversing the order of rows. Axis: Works along axis 0 (rows).\n",
        "\n",
        "Requirement: Can be applied to any array with at least one dimension."
      ],
      "metadata": {
        "id": "VL8KxxGu_TQc"
      }
    },
    {
      "cell_type": "code",
      "source": [
        "#EXAMPLE WITH 2D ARRAY\n",
        "\n",
        "array_2d = np.array([[1, 2, 3],\n",
        "                     [4, 5, 6],\n",
        "                     [7, 8, 9]])\n",
        "\n",
        "\n",
        "result_flipud = np.flipud(array_2d)\n",
        "print(\"Original array:\\n\", array_2d)\n",
        "print(\"\\nArray after flipud:\\n\", result_flipud)\n"
      ],
      "metadata": {
        "colab": {
          "base_uri": "https://localhost:8080/"
        },
        "id": "o1ZmZgJQ-32A",
        "outputId": "892cb1ae-0614-4ee0-f6ab-56c86fc602e5"
      },
      "execution_count": 13,
      "outputs": [
        {
          "output_type": "stream",
          "name": "stdout",
          "text": [
            "Original array:\n",
            " [[1 2 3]\n",
            " [4 5 6]\n",
            " [7 8 9]]\n",
            "\n",
            "Array after flipud:\n",
            " [[7 8 9]\n",
            " [4 5 6]\n",
            " [1 2 3]]\n"
          ]
        }
      ]
    },
    {
      "cell_type": "code",
      "source": [
        "#EXAMPLE WITH 3D ARRAY\n",
        "\n",
        "# Define a 3D array\n",
        "array_3d = np.array([[[1, 2, 3],\n",
        "                      [4, 5, 6]],\n",
        "\n",
        "                     [[7, 8, 9],\n",
        "                      [10, 11, 12]]])\n",
        "\n",
        "# Apply flipud\n",
        "result_flipud_3d = np.flipud(array_3d)\n",
        "print(\"Original 3D array:\\n\", array_3d)\n",
        "print(\"\\n3D array after flipud:\\n\", result_flipud_3d)\n"
      ],
      "metadata": {
        "colab": {
          "base_uri": "https://localhost:8080/"
        },
        "id": "eVJsGv40_kiq",
        "outputId": "cbe42f19-e012-4394-b4f3-9aa018db79e6"
      },
      "execution_count": 14,
      "outputs": [
        {
          "output_type": "stream",
          "name": "stdout",
          "text": [
            "Original 3D array:\n",
            " [[[ 1  2  3]\n",
            "  [ 4  5  6]]\n",
            "\n",
            " [[ 7  8  9]\n",
            "  [10 11 12]]]\n",
            "\n",
            "3D array after flipud:\n",
            " [[[ 7  8  9]\n",
            "  [10 11 12]]\n",
            "\n",
            " [[ 1  2  3]\n",
            "  [ 4  5  6]]]\n"
          ]
        }
      ]
    },
    {
      "cell_type": "markdown",
      "source": [
        "**Q9. DISCUSS THE FUNTIONALITY OF THE ARRAY _SPLIT() METHOD IN NUMPY.HOW DOES IT HANDLE UNEVEN SPLITS?**\n",
        "\n",
        "ANS: The array_split() function divides an array into a specified number of sections or at specified indices along a given axis. If the array cannot be split evenly into the specified sections, array_split() adjusts the splits to ensure each section has as close to the same number of elements as possible.\n",
        "\n",
        "**Handling Uneven Splits**\n",
        "\n",
        "If indices_or_sections is an integer, and the array does not divide evenly into the specified number of splits, array_split() will create some sub-arrays that contain an extra element, if necessary. This ensures that the array is split as evenly as possible, and each resulting sub-array is contiguous.\n",
        "\n",
        "For example, if you have an array of 10 elements and you split it into 3 sections, the first two sections will contain 4 elements, and the last section will contain 2 elements.\n",
        "\n",
        "**Q10. EXPLAIN THE CONCEPTS OF VECTORIZATION AND BROADCASTING IN NUMPY. HOW DO THEY CONTRIBUTE TO EFFICIENT ARRAY OPERATIONS?**\n",
        "\n",
        "ANS: Vectorization\n",
        "\n",
        "Vectorization refers to the process of applying operations directly on entire arrays (or \"vectors\") without needing to loop through individual elements. NumPy’s internal functions are optimized for such vectorized operations, often implemented in lower-level languages (like C or Fortran) for maximum performance.\n",
        "\n",
        "**In vectorization:**\n",
        "\n",
        "1-Operations are applied element-wise on arrays.\n",
        "\n",
        "2-Calculations are parallelized internally, taking advantage of hardware optimizations such as SIMD (Single Instruction, Multiple Data).\n",
        "\n",
        "3-It allows you to perform complex mathematical computations in a single line, making code more concise and readable.\n",
        "\n",
        "**Broadcasting**\n",
        "\n",
        "Broadcasting is a technique that enables NumPy to perform operations on arrays of different shapes and sizes by automatically \"stretching\" one or both arrays to make their shapes compatible. When two arrays are not the same shape, broadcasting makes them compatible by virtually expanding the smaller array (without copying data), so that element-wise operations can be performed.\n",
        "\n",
        "**Broadcasting Rules**\n",
        "\n",
        "1-If arrays have different numbers of dimensions: The smaller array is padded with ones on its left side until both arrays have the same number of dimensions.\n",
        "\n",
        "2-If arrays have the same number of dimensions but different shapes: For each dimension, if the sizes are unequal, the smaller dimension is either:\n",
        "\n",
        "*Expanded (or \"stretched\") to match the larger dimension, if it is 1.\n",
        "*Otherwise, the operation fails with a ValueError.\n",
        "Broadcasting allows efficient computation without duplicating data, as NumPy performs operations by virtually expanding the smaller array as needed.\n",
        "\n",
        "**Benefits of Vectorization and Broadcasting**\n",
        "\n",
        "1-Performance Optimization:\n",
        "Vectorized and broadcasted operations avoid explicit loops, making computations much faster. Both techniques leverage low-level, optimized C code, resulting in faster execution compared to pure Python loops.\n",
        "\n",
        "2-Memory Efficiency:\n",
        "Broadcasting avoids unnecessary duplication of data, as NumPy doesn’t create multiple copies of the smaller array. These techniques allow for efficient use of memory, which is especially beneficial when working with large datasets.\n",
        "\n",
        "3-Readable and Concise Code:\n",
        "Vectorization and broadcasting allow complex array operations to be expressed in a single line of code, improving readability and reducing the chance of errors.\n",
        "\n",
        "4-Parallel Processing:\n",
        "These operations can take advantage of hardware-level parallelism, such as multi-core CPUs or GPUs, for faster computation."
      ],
      "metadata": {
        "id": "nz_2i04i_yfo"
      }
    },
    {
      "cell_type": "markdown",
      "source": [
        "**PRACTICALS QUESTIONS**\n"
      ],
      "metadata": {
        "id": "UPV-o2nXAll9"
      }
    },
    {
      "cell_type": "markdown",
      "source": [
        "**Q1. CREATE A 3*3 NUMPY ARRAY WITH RANDOM INTEGERS BETWEEN 1 AND 100. THEN INTERCHANGE ITS ROWS AND COLUMNS**"
      ],
      "metadata": {
        "id": "E7bscKWFBnl4"
      }
    },
    {
      "cell_type": "code",
      "source": [
        "import numpy as np\n",
        "array=np.random.randint(1,100, size=(3,3))\n",
        "array"
      ],
      "metadata": {
        "colab": {
          "base_uri": "https://localhost:8080/"
        },
        "id": "QmJhXzsB_r-2",
        "outputId": "ced65870-43ea-4a80-8a41-fd423c0cc0f7"
      },
      "execution_count": 16,
      "outputs": [
        {
          "output_type": "execute_result",
          "data": {
            "text/plain": [
              "array([[37, 19, 51],\n",
              "       [62, 85,  8],\n",
              "       [99, 59, 27]])"
            ]
          },
          "metadata": {},
          "execution_count": 16
        }
      ]
    },
    {
      "cell_type": "code",
      "source": [
        "array.T"
      ],
      "metadata": {
        "colab": {
          "base_uri": "https://localhost:8080/"
        },
        "id": "OkNB7yt_B94-",
        "outputId": "8e076c23-f1f7-436a-e25e-7633c9303f96"
      },
      "execution_count": 18,
      "outputs": [
        {
          "output_type": "execute_result",
          "data": {
            "text/plain": [
              "array([[37, 62, 99],\n",
              "       [19, 85, 59],\n",
              "       [51,  8, 27]])"
            ]
          },
          "metadata": {},
          "execution_count": 18
        }
      ]
    },
    {
      "cell_type": "markdown",
      "source": [
        "**Q2. GENERATE A 1D NUMPY ARRAY WITH 10 ELEMENTS. RESHAPE IT INTO A 25 ARRAY, THEN INTO A 52 ARRAY.**"
      ],
      "metadata": {
        "id": "GReHrcCJCPat"
      }
    },
    {
      "cell_type": "code",
      "source": [
        "arr=np.array([2,3,11,33,4,5,56,6,76,23])\n",
        "\n",
        "arr.reshape(2,5)"
      ],
      "metadata": {
        "colab": {
          "base_uri": "https://localhost:8080/"
        },
        "id": "TMRtCYIYCH42",
        "outputId": "d7da73c8-f86a-4718-e19a-028ee4e02c7d"
      },
      "execution_count": 21,
      "outputs": [
        {
          "output_type": "execute_result",
          "data": {
            "text/plain": [
              "array([[ 2,  3, 11, 33,  4],\n",
              "       [ 5, 56,  6, 76, 23]])"
            ]
          },
          "metadata": {},
          "execution_count": 21
        }
      ]
    },
    {
      "cell_type": "code",
      "source": [
        "arr.reshape(5,2)"
      ],
      "metadata": {
        "colab": {
          "base_uri": "https://localhost:8080/"
        },
        "id": "JaJyWxd2CeXb",
        "outputId": "cc8996bb-ccbc-45b6-e70a-d13c005dc843"
      },
      "execution_count": 23,
      "outputs": [
        {
          "output_type": "execute_result",
          "data": {
            "text/plain": [
              "array([[ 2,  3],\n",
              "       [11, 33],\n",
              "       [ 4,  5],\n",
              "       [56,  6],\n",
              "       [76, 23]])"
            ]
          },
          "metadata": {},
          "execution_count": 23
        }
      ]
    },
    {
      "cell_type": "markdown",
      "source": [
        "**Q3. CREATE A 44 NUMPY ARRAY WITH RANDOM FLOAT VALUES.ADD A BORDER OF ZEROES AROUND IT, RESULTING IN A 66 ARRAY.**\n",
        "\n"
      ],
      "metadata": {
        "id": "pyIwTgdBECiF"
      }
    },
    {
      "cell_type": "code",
      "source": [
        "original_array=np.random.rand(4,4)\n",
        "\n",
        "bordered_array=np.pad(original_array,pad_width=1,mode='constant',constant_values=0)\n",
        "\n",
        "print(\"original 4x4 array:\\n\", original_array)\n",
        "print(\"\\nbordered 6x6 array:\\n\", bordered_array)"
      ],
      "metadata": {
        "colab": {
          "base_uri": "https://localhost:8080/"
        },
        "id": "eC-GZgGfDy7h",
        "outputId": "187dfb45-6c34-42bb-fda0-814fcd3fed98"
      },
      "execution_count": 28,
      "outputs": [
        {
          "output_type": "stream",
          "name": "stdout",
          "text": [
            "original 4x4 array:\n",
            " [[0.3363966  0.53483069 0.42210584 0.67993327]\n",
            " [0.6566635  0.59349902 0.45629163 0.15938315]\n",
            " [0.64435511 0.96349423 0.81242365 0.15891263]\n",
            " [0.9896082  0.75595128 0.77367092 0.13359196]]\n",
            "\n",
            "bordered 6x6 array:\n",
            " [[0.         0.         0.         0.         0.         0.        ]\n",
            " [0.         0.3363966  0.53483069 0.42210584 0.67993327 0.        ]\n",
            " [0.         0.6566635  0.59349902 0.45629163 0.15938315 0.        ]\n",
            " [0.         0.64435511 0.96349423 0.81242365 0.15891263 0.        ]\n",
            " [0.         0.9896082  0.75595128 0.77367092 0.13359196 0.        ]\n",
            " [0.         0.         0.         0.         0.         0.        ]]\n"
          ]
        }
      ]
    },
    {
      "cell_type": "markdown",
      "source": [
        "**Q4. USING NUMPY , CREATE AN ARRAY OF INTEGERS FROM 10 TO 60 WITH A STEP OF 5.**\n",
        "\n"
      ],
      "metadata": {
        "id": "zW_GNiGVCpQR"
      }
    },
    {
      "cell_type": "code",
      "source": [
        "array= np.arange(10,60,5)\n",
        "array"
      ],
      "metadata": {
        "colab": {
          "base_uri": "https://localhost:8080/"
        },
        "id": "Y6bBGvQ_DtRk",
        "outputId": "61d4ba6e-4248-4b56-e1de-c25176fc6c8b"
      },
      "execution_count": 29,
      "outputs": [
        {
          "output_type": "execute_result",
          "data": {
            "text/plain": [
              "array([10, 15, 20, 25, 30, 35, 40, 45, 50, 55])"
            ]
          },
          "metadata": {},
          "execution_count": 29
        }
      ]
    },
    {
      "cell_type": "markdown",
      "source": [
        "**Q5. CREATE A NUMPY ARRAY OF STRINGS ['python','numpy','pandas'].APPLY DIFFERENT CASE TRANSFORMATIONS (UPPERCASE,LOWERCASE,TITLE CASE ETC) TO EACH ELEMENT.**"
      ],
      "metadata": {
        "id": "N63iyLZXFEZN"
      }
    },
    {
      "cell_type": "code",
      "source": [
        "strings= np.array(['python','numpy','pandas'])\n",
        "\n",
        "uppercase=np.char.upper(strings)\n",
        "lowercase= np.char.lower(strings)\n",
        "titlecase=np.char.title(strings)\n",
        "capitalize=np.char.capitalize(strings)\n",
        "\n",
        "print(\"original array:\",strings)\n",
        "print(\"uppercase:\",uppercase)\n",
        "print(\"lowercase:\",lowercase)\n",
        "print(\"titlecase:\",titlecase)\n",
        "print(\"capitalized:\",capitalize)"
      ],
      "metadata": {
        "colab": {
          "base_uri": "https://localhost:8080/"
        },
        "id": "yYGxF0_4E9RB",
        "outputId": "8c2e59eb-fb89-4fb1-f081-98851ff87657"
      },
      "execution_count": 30,
      "outputs": [
        {
          "output_type": "stream",
          "name": "stdout",
          "text": [
            "original array: ['python' 'numpy' 'pandas']\n",
            "uppercase: ['PYTHON' 'NUMPY' 'PANDAS']\n",
            "lowercase: ['python' 'numpy' 'pandas']\n",
            "titlecase: ['Python' 'Numpy' 'Pandas']\n",
            "capitalized: ['Python' 'Numpy' 'Pandas']\n"
          ]
        }
      ]
    },
    {
      "cell_type": "markdown",
      "source": [
        "**Q6. GENERATE A NUMPY ARRAY OF WORDS . INSERT A SPACE BETWEEN EACH CHARACTER OF EVERY WORD IN THE ARRAY.**\n",
        "\n"
      ],
      "metadata": {
        "id": "sg-eSrpJPr1L"
      }
    },
    {
      "cell_type": "code",
      "source": [
        "words = np.array(['hello', 'numpy', 'python', 'array'])\n",
        "\n",
        "\n",
        "spaced_words = np.char.join(' ', words)\n",
        "\n",
        "\n",
        "print(\"Original Array:\", words)\n",
        "print(\"Spaced Words:\", spaced_words)\n"
      ],
      "metadata": {
        "colab": {
          "base_uri": "https://localhost:8080/"
        },
        "id": "trMvLoAKJ9dg",
        "outputId": "079742b6-52f0-4469-f234-98fb148d1cde"
      },
      "execution_count": 31,
      "outputs": [
        {
          "output_type": "stream",
          "name": "stdout",
          "text": [
            "Original Array: ['hello' 'numpy' 'python' 'array']\n",
            "Spaced Words: ['h e l l o' 'n u m p y' 'p y t h o n' 'a r r a y']\n"
          ]
        }
      ]
    },
    {
      "cell_type": "markdown",
      "source": [
        "**Q7. CREATE TWO 2D NUMPY ARRAYS AND PERFORM ELEMENT-WISE ADDITION, SUBSTRACTION, MULTIPLICATION AND DIVISION.**"
      ],
      "metadata": {
        "id": "jjRwAnJFxoZW"
      }
    },
    {
      "cell_type": "code",
      "source": [
        "import numpy as np\n",
        "array1=np.array([[1,2,3],[4,5,6]])\n",
        "array2=np.array([[7,8,9],[10,11,12]])\n",
        "\n",
        "array1 + array2"
      ],
      "metadata": {
        "colab": {
          "base_uri": "https://localhost:8080/"
        },
        "id": "5clJx5APP3-n",
        "outputId": "09d4a4c7-9b4a-48d0-dd3c-83c50e79e5c9"
      },
      "execution_count": 3,
      "outputs": [
        {
          "output_type": "execute_result",
          "data": {
            "text/plain": [
              "array([[ 8, 10, 12],\n",
              "       [14, 16, 18]])"
            ]
          },
          "metadata": {},
          "execution_count": 3
        }
      ]
    },
    {
      "cell_type": "code",
      "source": [
        "array1-array2"
      ],
      "metadata": {
        "colab": {
          "base_uri": "https://localhost:8080/"
        },
        "id": "EIHippbVyxml",
        "outputId": "cdca3e9e-2e35-4778-e3e1-0d78fc141998"
      },
      "execution_count": 4,
      "outputs": [
        {
          "output_type": "execute_result",
          "data": {
            "text/plain": [
              "array([[-6, -6, -6],\n",
              "       [-6, -6, -6]])"
            ]
          },
          "metadata": {},
          "execution_count": 4
        }
      ]
    },
    {
      "cell_type": "code",
      "source": [
        "array1*array2"
      ],
      "metadata": {
        "colab": {
          "base_uri": "https://localhost:8080/"
        },
        "id": "ekUs1LNjzL05",
        "outputId": "ac94c04a-22e8-4c4e-e682-6e1aeecfeafb"
      },
      "execution_count": 5,
      "outputs": [
        {
          "output_type": "execute_result",
          "data": {
            "text/plain": [
              "array([[ 7, 16, 27],\n",
              "       [40, 55, 72]])"
            ]
          },
          "metadata": {},
          "execution_count": 5
        }
      ]
    },
    {
      "cell_type": "code",
      "source": [
        "array1/array2"
      ],
      "metadata": {
        "colab": {
          "base_uri": "https://localhost:8080/"
        },
        "id": "WvUtnr73zQmH",
        "outputId": "294bc7ef-8461-4cfe-a9aa-a3573cc1896e"
      },
      "execution_count": 6,
      "outputs": [
        {
          "output_type": "execute_result",
          "data": {
            "text/plain": [
              "array([[0.14285714, 0.25      , 0.33333333],\n",
              "       [0.4       , 0.45454545, 0.5       ]])"
            ]
          },
          "metadata": {},
          "execution_count": 6
        }
      ]
    },
    {
      "cell_type": "markdown",
      "source": [
        "**Q8. USE NUMPY TO CREATE A 5*5 IDENTITY MATRIX ,THEN EXTRACT ITS DIAGONAL ELEMENTS.**"
      ],
      "metadata": {
        "id": "nB2oSWWjzWwX"
      }
    },
    {
      "cell_type": "code",
      "source": [
        "a=np.eye(5)\n",
        "a"
      ],
      "metadata": {
        "colab": {
          "base_uri": "https://localhost:8080/"
        },
        "id": "YMEXYNRbzVCT",
        "outputId": "951d8ac9-999c-42e9-9553-e57bbac3ed05"
      },
      "execution_count": 7,
      "outputs": [
        {
          "output_type": "execute_result",
          "data": {
            "text/plain": [
              "array([[1., 0., 0., 0., 0.],\n",
              "       [0., 1., 0., 0., 0.],\n",
              "       [0., 0., 1., 0., 0.],\n",
              "       [0., 0., 0., 1., 0.],\n",
              "       [0., 0., 0., 0., 1.]])"
            ]
          },
          "metadata": {},
          "execution_count": 7
        }
      ]
    },
    {
      "cell_type": "code",
      "source": [
        "np.diagonal(a)"
      ],
      "metadata": {
        "colab": {
          "base_uri": "https://localhost:8080/"
        },
        "id": "doQeM5aKzhuh",
        "outputId": "32f0535b-cc62-4ef2-aa6e-8d3f22e6aff2"
      },
      "execution_count": 8,
      "outputs": [
        {
          "output_type": "execute_result",
          "data": {
            "text/plain": [
              "array([1., 1., 1., 1., 1.])"
            ]
          },
          "metadata": {},
          "execution_count": 8
        }
      ]
    },
    {
      "cell_type": "markdown",
      "source": [
        "**Q9. GENERATE A NUMPY ARRAY OF 100 RANDOM INTEGERS BETWEEN 0 AND 1000. FIND AND DISPLAY ALL PRIME NUMBERS IN THIS ARRAY.**"
      ],
      "metadata": {
        "id": "y3491YB4zvHP"
      }
    },
    {
      "cell_type": "code",
      "source": [
        "def is_prime(n):\n",
        "  if n<=1:\n",
        "    return False\n",
        "  for i in range(2, int(n**0.5)+1):\n",
        "    if n% i==0:\n",
        "      return False\n",
        "  return True\n",
        "\n",
        "random_integers = np.random.randint(0, 1000, size=100)\n",
        "prime_numbers= [num for num in random_integers if is_prime(num)]\n",
        "\n",
        "print(\"Random Integers:\\n\", random_integers)\n",
        "print(\"\\nPrime Numbers:\", prime_numbers)"
      ],
      "metadata": {
        "colab": {
          "base_uri": "https://localhost:8080/"
        },
        "id": "g7h6kif0zpM8",
        "outputId": "a35bb9ec-9db4-4e40-9199-52233a871964"
      },
      "execution_count": 12,
      "outputs": [
        {
          "output_type": "stream",
          "name": "stdout",
          "text": [
            "Random Integers:\n",
            " [642  50 885 306 610 182 714 666  36 807 371 830 708 515 684 450 642 838\n",
            " 758 723 307 649 674 655  45 207 240 649  32 701 456 508 183 823 796 823\n",
            " 728  33 657 359 881 710 684  56 180 286 836 456 156 342 423 823 682 360\n",
            " 799 506 587 953 657 718 208 954 256 413  41 913 471 954 382 859 286 341\n",
            " 601 265 915 522 707 980 645 154 988 713 100 870 198 221 369 391 623 344\n",
            " 437 368 918 688 305 870 138 948 164 265]\n",
            "\n",
            "Prime Numbers: [307, 701, 823, 823, 359, 881, 823, 587, 953, 41, 859, 601]\n"
          ]
        }
      ]
    },
    {
      "cell_type": "markdown",
      "source": [
        "**Q10. CREATE A NUMPY ARRAY REPRESENTING DAILY TEMPERATURES FOR A MONTH. CALCULATE AND DISPLAY THE WEEKLY AVERAGES.**"
      ],
      "metadata": {
        "id": "-agdqaME1RET"
      }
    },
    {
      "cell_type": "code",
      "source": [
        "np.random.seed(0)\n",
        "daily_temperatures= np.random.randint(15,31, size=28)\n",
        "\n",
        "weekly_temperatures= daily_temperatures.reshape(4,7)\n",
        "\n",
        "weekly_averages= np.mean(weekly_temperatures, axis=1)\n",
        "\n",
        "print(\"Daily Temperatures for the Month:\\n\", daily_temperatures)\n",
        "print(\"\\nWeekly Temperatures:\\n\", weekly_temperatures)\n",
        "print(\"\\nWeekly Averages:\", weekly_averages)"
      ],
      "metadata": {
        "colab": {
          "base_uri": "https://localhost:8080/"
        },
        "id": "-PIJCjzK0ubE",
        "outputId": "a59f4474-254d-4936-9023-f7c268088d17"
      },
      "execution_count": 15,
      "outputs": [
        {
          "output_type": "stream",
          "name": "stdout",
          "text": [
            "Daily Temperatures for the Month:\n",
            " [27 30 20 15 18 26 18 22 24 18 20 17 19 22 21 23 23 27 25 16 21 22 22 29\n",
            " 23 16 20 24]\n",
            "\n",
            "Weekly Temperatures:\n",
            " [[27 30 20 15 18 26 18]\n",
            " [22 24 18 20 17 19 22]\n",
            " [21 23 23 27 25 16 21]\n",
            " [22 22 29 23 16 20 24]]\n",
            "\n",
            "Weekly Averages: [22.         20.28571429 22.28571429 22.28571429]\n"
          ]
        }
      ]
    },
    {
      "cell_type": "code",
      "source": [],
      "metadata": {
        "id": "dGuonAN72bK_"
      },
      "execution_count": null,
      "outputs": []
    }
  ]
}