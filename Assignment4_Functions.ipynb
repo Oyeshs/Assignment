{
  "nbformat": 4,
  "nbformat_minor": 0,
  "metadata": {
    "colab": {
      "provenance": []
    },
    "kernelspec": {
      "name": "python3",
      "display_name": "Python 3"
    },
    "language_info": {
      "name": "python"
    }
  },
  "cells": [
    {
      "cell_type": "markdown",
      "source": [
        "1. WHAT IS THE DIFFERENCE BETWEEN A FUNCTION AND A METHOD IN PYTHON?\n",
        "\n",
        "Ans. In Python, the terms \"function\" and \"method\" both refer to blocks of reusable code, but they are used in slightly different contexts:\n",
        "\n",
        "Function\n",
        "\n",
        "Definition: A function is a standalone block of code that performs a specific task. It can be defined using the def keyword.\n",
        "\n",
        "Usage: Functions can be called independently and are not tied to any object or class.\n"
      ],
      "metadata": {
        "id": "9JzTSamfmD9f"
      }
    },
    {
      "cell_type": "code",
      "source": [
        "#example\n",
        "def add(a, b):\n",
        "  result=a+b\n",
        "  return result\n",
        "\n",
        "def subtract(a, b):\n",
        "  result=a-b\n",
        "  return result\n",
        "\n",
        "def multiply(a, b):\n",
        "  result=a*b\n",
        "  return result\n",
        "\n",
        "def divide(a, b):\n",
        "  result=a/b\n",
        "  return result\n",
        "\n"
      ],
      "metadata": {
        "id": "KsRJgDZ7mgBA"
      },
      "execution_count": null,
      "outputs": []
    },
    {
      "cell_type": "markdown",
      "source": [
        "Method\n",
        "\n",
        "Definition: A method is similar to a function but is associated with an object or class. Methods are defined within a class and typically operate on the instance of that class (the object).\n",
        "\n",
        "Usage: Methods are called on objects and usually have access to the data within that object (using self to refer to the instance)"
      ],
      "metadata": {
        "id": "vY-Fx5XPpYG9"
      }
    },
    {
      "cell_type": "code",
      "source": [
        "class calculator:\n",
        "  def add(self, a, b):\n",
        "    return a+b\n",
        "\n",
        "calc= calculator() #create an instance of calculator\n",
        "result= calc.add(5,9)  #calls the method on the instance"
      ],
      "metadata": {
        "id": "Q3bpAw4_nhVA"
      },
      "execution_count": null,
      "outputs": []
    },
    {
      "cell_type": "markdown",
      "source": [
        "2. EXPLAIN THE CONCEPT OF FUNCTION ARGUMENTS AND PARAMETERS IN PYTHON\n",
        "\n",
        "In Python, function arguments and parameters are fundamental concepts that allow functions to receive input values and operate on them.\n",
        "\n",
        "Parameters\n",
        "\n",
        "Definition: Parameters are the variables defined in the function declaration. They act as placeholders for the values that will be passed to the function when it is called\n",
        "\n",
        "Arguments\n",
        "\n",
        "Definition: Arguments are the actual values you pass to the function when you call it. These values are assigned to the corresponding parameters in the function\n"
      ],
      "metadata": {
        "id": "92ZOZYfBtT_o"
      }
    },
    {
      "cell_type": "code",
      "source": [
        "#example\n",
        "def greet(name): # name is a parameter\n",
        "  print(f\"Hello, {name}!\")\n",
        "\n",
        "greet(\"Alice\") # \"Alice\" is an argument"
      ],
      "metadata": {
        "colab": {
          "base_uri": "https://localhost:8080/"
        },
        "id": "G5fIdWqDtI4g",
        "outputId": "61bd5ec2-2627-47a8-b918-2f0a88b45566"
      },
      "execution_count": null,
      "outputs": [
        {
          "output_type": "stream",
          "name": "stdout",
          "text": [
            "Hello, Alice!\n"
          ]
        }
      ]
    },
    {
      "cell_type": "markdown",
      "source": [
        "Arguments\n",
        "\n",
        "Definition: Arguments are the actual values you pass to the function when you call it. These values are assigned to the corresponding parameters in the function."
      ],
      "metadata": {
        "id": "ZT3HH0o2yYSy"
      }
    },
    {
      "cell_type": "code",
      "source": [
        "greet(\"Alice\")  # \"Alice\" is an argument"
      ],
      "metadata": {
        "colab": {
          "base_uri": "https://localhost:8080/"
        },
        "id": "CtyJRYFnyImT",
        "outputId": "a9c343f8-7b53-498b-a892-e771a9ac3016"
      },
      "execution_count": null,
      "outputs": [
        {
          "output_type": "stream",
          "name": "stdout",
          "text": [
            "Hello, Alice!\n"
          ]
        }
      ]
    },
    {
      "cell_type": "markdown",
      "source": [
        "Types of Arguments\n",
        "\n",
        "1. Positional Arguments: These are the most common type and must be provided in the same order as the parameters."
      ],
      "metadata": {
        "id": "mLyiQjtDozp6"
      }
    },
    {
      "cell_type": "code",
      "source": [
        "def add(a,b):\n",
        "    return a+b\n",
        "add(5,3) #5 and 3 are positional arguents"
      ],
      "metadata": {
        "colab": {
          "base_uri": "https://localhost:8080/"
        },
        "id": "ejG9DgctodJS",
        "outputId": "ea8640f9-febf-47a6-8cc0-06bacf9349fa"
      },
      "execution_count": null,
      "outputs": [
        {
          "output_type": "execute_result",
          "data": {
            "text/plain": [
              "8"
            ]
          },
          "metadata": {},
          "execution_count": 6
        }
      ]
    },
    {
      "cell_type": "markdown",
      "source": [
        "2. Keywords Arguments: You can specify arguments by name, allowing you to pass them in any order."
      ],
      "metadata": {
        "id": "Yap0io2opLlJ"
      }
    },
    {
      "cell_type": "code",
      "source": [
        "def describe_person(name, age):\n",
        "    return (f\" {name} is, {age} years old\")\n",
        "describe_person(name=\"oyesh\",age=26)"
      ],
      "metadata": {
        "colab": {
          "base_uri": "https://localhost:8080/",
          "height": 36
        },
        "id": "o_FBYV1vpCzw",
        "outputId": "7e1f9aab-bad9-4a13-ba6b-756daa687028"
      },
      "execution_count": null,
      "outputs": [
        {
          "output_type": "execute_result",
          "data": {
            "text/plain": [
              "' oyesh is, 26 years old'"
            ],
            "application/vnd.google.colaboratory.intrinsic+json": {
              "type": "string"
            }
          },
          "metadata": {},
          "execution_count": 11
        }
      ]
    },
    {
      "cell_type": "markdown",
      "source": [
        "3. Default Arguments: You can provide values for parameters, making them optional when calling"
      ],
      "metadata": {
        "id": "4M5Hi1HxqPs-"
      }
    },
    {
      "cell_type": "code",
      "source": [
        "def multiply(x, y=2):\n",
        "    return x*y\n",
        "multiply(4)"
      ],
      "metadata": {
        "colab": {
          "base_uri": "https://localhost:8080/"
        },
        "id": "e6jqHuLGp4kL",
        "outputId": "76958220-502b-42fc-e926-e5eedf782910"
      },
      "execution_count": null,
      "outputs": [
        {
          "output_type": "execute_result",
          "data": {
            "text/plain": [
              "8"
            ]
          },
          "metadata": {},
          "execution_count": 16
        }
      ]
    },
    {
      "cell_type": "markdown",
      "source": [
        "4. Variable-length Arguments: You can use args and kwargs to allow for a variable number of positional and keyword arguments, respectively.\n",
        "\n"
      ],
      "metadata": {
        "id": "LH0_2cXrq4-C"
      }
    },
    {
      "cell_type": "code",
      "source": [
        "def sum_all(*args):  # Accepts any number of positional arguments\n",
        "    return sum(args)\n",
        "sum_all(1,2,3,4,5,6,7)\n"
      ],
      "metadata": {
        "colab": {
          "base_uri": "https://localhost:8080/"
        },
        "id": "gRxy5D_tquBl",
        "outputId": "5bd42a3f-4203-4a29-d21c-6e642a0d0eb8"
      },
      "execution_count": null,
      "outputs": [
        {
          "output_type": "execute_result",
          "data": {
            "text/plain": [
              "28"
            ]
          },
          "metadata": {},
          "execution_count": 17
        }
      ]
    },
    {
      "cell_type": "code",
      "source": [
        "def print_student_info(**kwargs):\n",
        "    for key, value in kwargs.items():\n",
        "        print(f\"{key}: {value}\")\n",
        "print_student_info(name=\"oyesh\", age=26, major=\"Computer Science\")\n"
      ],
      "metadata": {
        "colab": {
          "base_uri": "https://localhost:8080/"
        },
        "id": "Pw6czRuXrEVQ",
        "outputId": "11067eb0-9d61-4563-b2df-4e5341a1f7d8"
      },
      "execution_count": null,
      "outputs": [
        {
          "output_type": "stream",
          "name": "stdout",
          "text": [
            "name: oyesh\n",
            "age: 26\n",
            "major: Computer Science\n"
          ]
        }
      ]
    },
    {
      "cell_type": "markdown",
      "source": [
        "Q3. WHAT ARE THE DIFFERENT WAYS TO DEFINE AND CALL A FUNCTION IN PYTHON?\n",
        "\n",
        "Ans. In Python, there are several ways to define and call functions, each with its own syntax and use cases. Here’s an overview of the different methods:\n",
        "\n",
        "1. Standard Function Definition\n",
        "\n",
        "You can define a standard function using the def keyword.\n",
        "\n",
        "Definition:"
      ],
      "metadata": {
        "id": "rBuXgY4prRcj"
      }
    },
    {
      "cell_type": "code",
      "source": [
        "def add(a, b):\n",
        "    return a + b"
      ],
      "metadata": {
        "id": "Zj8K-_flrKM5"
      },
      "execution_count": null,
      "outputs": []
    },
    {
      "cell_type": "markdown",
      "source": [
        "Call:"
      ],
      "metadata": {
        "id": "DS9nHHWOrXf8"
      }
    },
    {
      "cell_type": "code",
      "source": [
        "result = add(55,45)"
      ],
      "metadata": {
        "id": "Vt_qMsnzrV1K"
      },
      "execution_count": null,
      "outputs": []
    },
    {
      "cell_type": "markdown",
      "source": [
        "2. Function with Default Parameters\n",
        "\n",
        "You can provide default values for parameters, making them optional when calling the function.\n",
        "\n",
        "Definition:"
      ],
      "metadata": {
        "id": "XNhL_hoyrhH4"
      }
    },
    {
      "cell_type": "code",
      "source": [
        "def greet(name=\"Oyesh\"):\n",
        "  return f\"Hello, {name}!\""
      ],
      "metadata": {
        "id": "F_xAcT7vrclv"
      },
      "execution_count": null,
      "outputs": []
    },
    {
      "cell_type": "markdown",
      "source": [
        "Call:"
      ],
      "metadata": {
        "id": "4yE_g6rMxvqV"
      }
    },
    {
      "cell_type": "code",
      "source": [
        "greet() #uses default value\n",
        "greet(\"Oyesh\") #uses provided argument"
      ],
      "metadata": {
        "colab": {
          "base_uri": "https://localhost:8080/",
          "height": 36
        },
        "id": "assfCxEZrxgR",
        "outputId": "34ca5744-9393-412e-f1ec-3fca4e82d85a"
      },
      "execution_count": null,
      "outputs": [
        {
          "output_type": "execute_result",
          "data": {
            "text/plain": [
              "'Hello, Oyesh!'"
            ],
            "application/vnd.google.colaboratory.intrinsic+json": {
              "type": "string"
            }
          },
          "metadata": {},
          "execution_count": 23
        }
      ]
    },
    {
      "cell_type": "markdown",
      "source": [
        "3. Variable-length Arguments\n",
        "\n",
        "You can use args to accept a variable number of positional arguments, and kwargs for a variable number of keyword arguments.\n",
        "\n",
        "Definition:\n",
        "\n"
      ],
      "metadata": {
        "id": "gJOUNNouyGva"
      }
    },
    {
      "cell_type": "code",
      "source": [
        "def sum_all(*args):\n",
        "    return args\n",
        "\n",
        "def print_info(**kwargs):\n",
        "    for key, value in kwargs.items():\n",
        "        print(f\"{key}: {value}\")\n"
      ],
      "metadata": {
        "id": "WtCcbvlDyAUW"
      },
      "execution_count": null,
      "outputs": []
    },
    {
      "cell_type": "markdown",
      "source": [
        "Call:"
      ],
      "metadata": {
        "id": "sI4zWzElyPoG"
      }
    },
    {
      "cell_type": "code",
      "source": [
        "sum_all(1, 2, 3)           # Calls with multiple arguments\n",
        "print_info(name=\"oyesh\", age=26)    # Calls with keyword arguments"
      ],
      "metadata": {
        "colab": {
          "base_uri": "https://localhost:8080/"
        },
        "id": "dctPwu_lyOPo",
        "outputId": "0738ff71-4c1c-4109-ed08-a0fefe312092"
      },
      "execution_count": null,
      "outputs": [
        {
          "output_type": "stream",
          "name": "stdout",
          "text": [
            "name: oyesh\n",
            "age: 26\n"
          ]
        }
      ]
    },
    {
      "cell_type": "markdown",
      "source": [
        "4. Lambda Functions\n",
        "\n",
        "You can define small, anonymous functions using the lambda keyword. These are often used for short operations or in functional programming contexts.\n",
        "\n",
        "Definition:\n",
        "\n"
      ],
      "metadata": {
        "id": "dwZvv98qyb7T"
      }
    },
    {
      "cell_type": "code",
      "source": [
        "multiply = lambda x, y: x * y"
      ],
      "metadata": {
        "id": "GTJ4BCkByUYB"
      },
      "execution_count": null,
      "outputs": []
    },
    {
      "cell_type": "markdown",
      "source": [
        "Call:"
      ],
      "metadata": {
        "id": "FpjIVx8FygS3"
      }
    },
    {
      "cell_type": "code",
      "source": [
        "multiply(6, 5)"
      ],
      "metadata": {
        "colab": {
          "base_uri": "https://localhost:8080/"
        },
        "id": "c3TFwD7Oyfr0",
        "outputId": "16b75044-73d5-4ebe-cdc7-a7cb106bdfe9"
      },
      "execution_count": null,
      "outputs": [
        {
          "output_type": "execute_result",
          "data": {
            "text/plain": [
              "30"
            ]
          },
          "metadata": {},
          "execution_count": 28
        }
      ]
    },
    {
      "cell_type": "markdown",
      "source": [
        "Q4. WHAT IS THE PURPOSE OF THE 'RETURN' STATEMENT IN PYTHON?\n",
        "\n",
        "Ans. The return statement in Python serves several important purposes within a function:\n",
        "\n",
        "1. Exiting a Function\n",
        "\n",
        "The return statement immediately terminates the function's execution. Once return is encountered, the function stops running, and control is passed back to the caller.\n",
        "\n",
        "2. Returning Values\n",
        "\n",
        "The return statement allows a function to send a value back to the caller. This value can be of any data type (e.g., integers, strings, lists, objects).\n",
        "\n",
        "Example:"
      ],
      "metadata": {
        "id": "EEk8uKMryso5"
      }
    },
    {
      "cell_type": "code",
      "source": [
        "def add(a, b):\n",
        "    return a + b  # Returns the sum of a and b\n",
        "\n",
        "add(3, 5)\n"
      ],
      "metadata": {
        "colab": {
          "base_uri": "https://localhost:8080/"
        },
        "id": "Ik3VfU37yoWt",
        "outputId": "13932c07-8978-4401-9038-f91d69ebccdd"
      },
      "execution_count": null,
      "outputs": [
        {
          "output_type": "execute_result",
          "data": {
            "text/plain": [
              "8"
            ]
          },
          "metadata": {},
          "execution_count": 29
        }
      ]
    },
    {
      "cell_type": "markdown",
      "source": [
        "3. Returning Multiple Values\n",
        "\n",
        "You can return multiple values from a function as a tuple by separating them with commas. The caller can then unpack the values.\n",
        "\n",
        "Example:"
      ],
      "metadata": {
        "id": "zuaaQ9Z-y4W4"
      }
    },
    {
      "cell_type": "code",
      "source": [
        "def calculate(a,b):\n",
        "  sum_value = a+b\n",
        "  product_value= a*b\n",
        "  return sum_value, product_value\n",
        "\n",
        "calculate(8,4)"
      ],
      "metadata": {
        "colab": {
          "base_uri": "https://localhost:8080/"
        },
        "id": "TOoWyNZNy24i",
        "outputId": "441c5fa2-5e30-4fc5-c442-4a4e0f7b326f"
      },
      "execution_count": null,
      "outputs": [
        {
          "output_type": "execute_result",
          "data": {
            "text/plain": [
              "(12, 32)"
            ]
          },
          "metadata": {},
          "execution_count": 1
        }
      ]
    },
    {
      "cell_type": "markdown",
      "source": [
        "4. Returning NOne\n",
        "\n",
        "if no value is specified after the return keyword, or if the return statement is omitted, the function returns None by default.\n",
        "\n",
        "Example:"
      ],
      "metadata": {
        "id": "qsgExINqc9un"
      }
    },
    {
      "cell_type": "code",
      "source": [
        "def do_nothing():\n",
        "  return\n",
        "\n",
        "do_nothing()"
      ],
      "metadata": {
        "id": "TT0dujFZc6Cy"
      },
      "execution_count": null,
      "outputs": []
    },
    {
      "cell_type": "markdown",
      "source": [
        "5. Conditional Returns\n",
        "\n",
        "You can use return statements within conditional statements to return different values based on certain conditions."
      ],
      "metadata": {
        "id": "wcmpCrKudj8D"
      }
    },
    {
      "cell_type": "code",
      "source": [
        "def check_number(n):\n",
        "  if n> 0:\n",
        "    return \"Positive\"\n",
        "  elif n<0:\n",
        "    return \"Negative\"\n",
        "  else:\n",
        "    return \"Zero\"\n",
        "\n",
        "check_number(n=15)"
      ],
      "metadata": {
        "colab": {
          "base_uri": "https://localhost:8080/",
          "height": 36
        },
        "id": "LFMNF6LJdi0n",
        "outputId": "491b7cff-21ca-4308-c645-acde84801cd2"
      },
      "execution_count": null,
      "outputs": [
        {
          "output_type": "execute_result",
          "data": {
            "text/plain": [
              "'Positive'"
            ],
            "application/vnd.google.colaboratory.intrinsic+json": {
              "type": "string"
            }
          },
          "metadata": {},
          "execution_count": 3
        }
      ]
    },
    {
      "cell_type": "markdown",
      "source": [
        "Q5. WHAT ARE THE ITERATORS IN PYTHON AND HOW DO THEY DIFFER FROM ITERABLES?\n",
        "\n",
        "Ans: In Python, Iterables are objects that can be iterated over, while iterators are the objects that perform the iteration, keeping track of where they are in the sequence.\n",
        "\n",
        "An iterable can create an iterator, but an iterator is a specific type of object that provides access to its values one at a time.\n",
        "\n",
        "Iterables\n",
        "\n",
        "Definition: An iterable is any Python object that can be looped over (iterated) using a for loop or by passing it to functions like list(), tuple(), or set(). Common examples include lists, tuples, dictionaries, sets, and strings.\n",
        "\n",
        "Key Feature: An iterable implements the iter() method, which returns an iterator.\n",
        "\n",
        "Example:\n",
        "\n"
      ],
      "metadata": {
        "id": "6t_eoO04eR3R"
      }
    },
    {
      "cell_type": "code",
      "source": [
        " my_list = [1,2,3,]\n",
        " for item in my_list:\n",
        "  print(item)"
      ],
      "metadata": {
        "colab": {
          "base_uri": "https://localhost:8080/"
        },
        "id": "9vR7BaBpeOsD",
        "outputId": "db511342-7a33-498f-ccb1-d66607c8cd7b"
      },
      "execution_count": null,
      "outputs": [
        {
          "output_type": "stream",
          "name": "stdout",
          "text": [
            "1\n",
            "2\n",
            "3\n"
          ]
        }
      ]
    },
    {
      "cell_type": "markdown",
      "source": [
        "Iterators\n",
        "\n",
        "Definition: An iterator is an object that represents a stream of data; it produces values one at a time and keeps track of its current position in the iteration. An iterator implements two methods: iter() and next().\n",
        "\n",
        "Key Features:\n",
        "\n",
        "The iter() method returns the iterator object itself.\n",
        "\n",
        "The next() method returns the next value from the iterator. If there are no more items to return, it raises a StopIteration exception.\n",
        "\n",
        "Example:"
      ],
      "metadata": {
        "id": "-K9Vl5feeRVV"
      }
    },
    {
      "cell_type": "code",
      "source": [
        "my_list = [1, 2, 3]\n",
        "my_iterator = iter(my_list)\n",
        "\n",
        "next(my_iterator)"
      ],
      "metadata": {
        "colab": {
          "base_uri": "https://localhost:8080/"
        },
        "id": "1Mkil06viiAX",
        "outputId": "13c48d50-f73b-49c4-802f-e44a2a6fa9af"
      },
      "execution_count": null,
      "outputs": [
        {
          "output_type": "execute_result",
          "data": {
            "text/plain": [
              "1"
            ]
          },
          "metadata": {},
          "execution_count": 9
        }
      ]
    },
    {
      "cell_type": "code",
      "source": [
        "next(my_iterator)"
      ],
      "metadata": {
        "colab": {
          "base_uri": "https://localhost:8080/"
        },
        "id": "aGkeGD_tiwe-",
        "outputId": "0c6be805-d7bb-49c0-f93b-5d0ecdd62f9d"
      },
      "execution_count": null,
      "outputs": [
        {
          "output_type": "execute_result",
          "data": {
            "text/plain": [
              "2"
            ]
          },
          "metadata": {},
          "execution_count": 10
        }
      ]
    },
    {
      "cell_type": "code",
      "source": [
        "next(my_iterator)"
      ],
      "metadata": {
        "colab": {
          "base_uri": "https://localhost:8080/"
        },
        "id": "g3PM13omjFrz",
        "outputId": "1bde08b5-e321-4bed-bf20-50eccb7ccf30"
      },
      "execution_count": null,
      "outputs": [
        {
          "output_type": "execute_result",
          "data": {
            "text/plain": [
              "3"
            ]
          },
          "metadata": {},
          "execution_count": 11
        }
      ]
    },
    {
      "cell_type": "markdown",
      "source": [
        "Q6. EXPLAIN THE CONCEPT OF GENERATORS IN PYTHON AND HOW THEY ARE DEFINED.\n",
        "\n",
        "Ans. Generators are a simple way to create iterators using functions and the yield keyword instead of returning values.\n",
        "\n",
        "Generators in Python are a type of iterable that allows you to create an iterator in a very concise and efficient way. They are particularly useful for handling large datasets or streams of data because they yield items one at a time, rather than generating all items at once and storing them in memory.\n",
        "\n",
        "Key Concepts of Generators\n",
        "\n",
        "1. Lazy Evaluation: Generators produce values on-the-fly and only when requested, which means they use memory more efficiently than regular functions that return lists or other collections.\n",
        "\n",
        "2. State Preservation: When a generator function is called, its state is preserved between calls. Each time the generator's next() method is called, execution resumes right after the last yield statement.\n",
        "\n",
        "3. Simplicity: Generators can simplify your code by allowing you to define a sequence of values without the need for explicit iterator classes.\n",
        "\n",
        "Using a Generator\n",
        "\n",
        "You can use the generator in a loop or retrieve values one at a time:\n",
        "\n",
        "Example of Using the Generator:\n",
        "\n"
      ],
      "metadata": {
        "id": "TFhyMZi7jVl7"
      }
    },
    {
      "cell_type": "code",
      "source": [
        "def sq_no(n):\n",
        "  for i in range(n):\n",
        "    yield i**2\n",
        "    sq_no(5)"
      ],
      "metadata": {
        "id": "oGznbW6Ejs5H"
      },
      "execution_count": null,
      "outputs": []
    },
    {
      "cell_type": "code",
      "source": [
        "gen=sq_no(10)"
      ],
      "metadata": {
        "id": "CR4n_eOCkAd7"
      },
      "execution_count": null,
      "outputs": []
    },
    {
      "cell_type": "code",
      "source": [
        "next(gen)"
      ],
      "metadata": {
        "colab": {
          "base_uri": "https://localhost:8080/"
        },
        "id": "0pnMSt4SkHtr",
        "outputId": "81055768-cd4b-4b0b-db90-c1f1b82d99da"
      },
      "execution_count": null,
      "outputs": [
        {
          "output_type": "execute_result",
          "data": {
            "text/plain": [
              "0"
            ]
          },
          "metadata": {},
          "execution_count": 35
        }
      ]
    },
    {
      "cell_type": "code",
      "source": [
        "next(gen)"
      ],
      "metadata": {
        "colab": {
          "base_uri": "https://localhost:8080/"
        },
        "id": "8LkBO-ILkPpT",
        "outputId": "060b5228-7433-4a4d-b7ed-8e391be82572"
      },
      "execution_count": null,
      "outputs": [
        {
          "output_type": "execute_result",
          "data": {
            "text/plain": [
              "1"
            ]
          },
          "metadata": {},
          "execution_count": 36
        }
      ]
    },
    {
      "cell_type": "markdown",
      "source": [
        "Q7. WHAT ARE THE ADVANTAGES OF USING GENERATORS OVER REGULAR FUNCTIONS ?\n",
        "\n",
        "Ans. Generators offer several advantages over regular functions, especially when dealing with large datasets or streams of data.\n",
        "\n",
        "Here are some key benefits:\n",
        "\n",
        "Regular functions return a single value and occupy memory for all their data. Generators, on the other hand, yield one item at a time, which means they don’t need to store the entire output in memory.\n"
      ],
      "metadata": {
        "id": "MzqKaL96jLYk"
      }
    },
    {
      "cell_type": "code",
      "source": [
        "def large_sequence(n):\n",
        "  for i in range(n):\n",
        "    yield i\n",
        "\n",
        "gen= large_sequence(100000)"
      ],
      "metadata": {
        "id": "QfzoUUVNjIKX"
      },
      "execution_count": null,
      "outputs": []
    },
    {
      "cell_type": "markdown",
      "source": [
        "2.Generators can start producing values immediately, rather than waiting for the entire output to be computed. This can lead to quicker access to the first few results.Since they yield results one at a time, generators can be more efficient when dealing with streams of data or infinite sequences.\n",
        "\n",
        "3.Generators can easily represent infinite sequences, such as all even numbers or Fibonacci numbers, without the risk of running out of memory.\n",
        "\n"
      ],
      "metadata": {
        "id": "sKDURn2Dkxu6"
      }
    },
    {
      "cell_type": "code",
      "source": [
        "def fib(n):\n",
        "  a=0\n",
        "  b=1\n",
        "  for i in range(n): #if n=5, 0,1,2,3,4\n",
        "    yield a\n",
        "    a,b=b,a+b"
      ],
      "metadata": {
        "id": "dRI_gs0Skevz"
      },
      "execution_count": null,
      "outputs": []
    },
    {
      "cell_type": "code",
      "source": [
        "f= fib(1000000)\n",
        "f"
      ],
      "metadata": {
        "colab": {
          "base_uri": "https://localhost:8080/"
        },
        "id": "Sku6NvVdlF1l",
        "outputId": "b7d25b2c-fb51-46e9-9bbd-a9c487fde245"
      },
      "execution_count": null,
      "outputs": [
        {
          "output_type": "execute_result",
          "data": {
            "text/plain": [
              "<generator object fib at 0x7f9509091e40>"
            ]
          },
          "metadata": {},
          "execution_count": 29
        }
      ]
    },
    {
      "cell_type": "code",
      "source": [
        "next(f)"
      ],
      "metadata": {
        "colab": {
          "base_uri": "https://localhost:8080/"
        },
        "id": "gUQrRDIVlQGZ",
        "outputId": "48a66373-871f-4d2c-b8be-334adab3fcf5"
      },
      "execution_count": null,
      "outputs": [
        {
          "output_type": "execute_result",
          "data": {
            "text/plain": [
              "0"
            ]
          },
          "metadata": {},
          "execution_count": 30
        }
      ]
    },
    {
      "cell_type": "code",
      "source": [
        "next(f)"
      ],
      "metadata": {
        "colab": {
          "base_uri": "https://localhost:8080/"
        },
        "id": "buqocwUUlT6M",
        "outputId": "d887e4ab-19cc-47e2-d62c-bf9c3dd5c339"
      },
      "execution_count": null,
      "outputs": [
        {
          "output_type": "execute_result",
          "data": {
            "text/plain": [
              "1"
            ]
          },
          "metadata": {},
          "execution_count": 31
        }
      ]
    },
    {
      "cell_type": "code",
      "source": [
        "next(f)"
      ],
      "metadata": {
        "colab": {
          "base_uri": "https://localhost:8080/"
        },
        "id": "MlS5Fl3KlWrt",
        "outputId": "bedcc326-f349-46d4-a2c3-b0ad48821f38"
      },
      "execution_count": null,
      "outputs": [
        {
          "output_type": "execute_result",
          "data": {
            "text/plain": [
              "1"
            ]
          },
          "metadata": {},
          "execution_count": 32
        }
      ]
    },
    {
      "cell_type": "markdown",
      "source": [
        "Q8. WHAT IS A LAMBDA FUNCTION IN PYTHON AND WHEN IT IS TYPICALLY USED?\n",
        "\n",
        "Ans. A lambda function in Python is a small, anonymous function defined using the lambda keyword. It can take any number of arguments but can only have one expression.\n",
        "\n",
        "The syntax is:\n",
        "\n",
        "lambda arguments: expression\n",
        "\n",
        "Uses of Lambda Functions:\n",
        "\n",
        "1.Short, Throwaway Functions: When you need a simple function for a short period and don't want to formally define it using def.\n",
        "\n",
        "2.Sorting: Used as a key function in sorting operations.\n",
        "\n"
      ],
      "metadata": {
        "id": "a7dAKZMVltjr"
      }
    },
    {
      "cell_type": "code",
      "source": [
        "x=[\"orpat\",\"dell\",\"apple\",\"microsoft\"]\n",
        "sorted(x,key=lambda x:len(x))"
      ],
      "metadata": {
        "colab": {
          "base_uri": "https://localhost:8080/"
        },
        "id": "8r9wN0hglggV",
        "outputId": "8196cf28-9298-4345-cdbe-7bdb2d7ff193"
      },
      "execution_count": null,
      "outputs": [
        {
          "output_type": "execute_result",
          "data": {
            "text/plain": [
              "['dell', 'orpat', 'apple', 'microsoft']"
            ]
          },
          "metadata": {},
          "execution_count": 39
        }
      ]
    },
    {
      "cell_type": "markdown",
      "source": [
        "3.Functional Programming: Often used in functions like map(), filter(), and reduce(), where you need to apply a function to a sequence of data.\n",
        "Example with map():"
      ],
      "metadata": {
        "id": "iemGbyHtmdM9"
      }
    },
    {
      "cell_type": "code",
      "source": [
        "numbers=[1,2,3,4,5,6,]\n",
        "list(map(lambda x: x**2, numbers))"
      ],
      "metadata": {
        "colab": {
          "base_uri": "https://localhost:8080/"
        },
        "id": "kWQJsT6amKoa",
        "outputId": "35a7b92e-a116-4139-fc90-f8caa6f50617"
      },
      "execution_count": null,
      "outputs": [
        {
          "output_type": "execute_result",
          "data": {
            "text/plain": [
              "[1, 4, 9, 16, 25, 36]"
            ]
          },
          "metadata": {},
          "execution_count": 40
        }
      ]
    },
    {
      "cell_type": "code",
      "source": [
        "list(filter(lambda x: x%2==0, numbers))"
      ],
      "metadata": {
        "colab": {
          "base_uri": "https://localhost:8080/"
        },
        "id": "xq7FniWhms2c",
        "outputId": "bb4ee65c-fdc8-4e12-ac45-d7bdec579437"
      },
      "execution_count": null,
      "outputs": [
        {
          "output_type": "execute_result",
          "data": {
            "text/plain": [
              "[2, 4, 6]"
            ]
          },
          "metadata": {},
          "execution_count": 41
        }
      ]
    },
    {
      "cell_type": "markdown",
      "source": [
        "Q9. EXPLAIN THE PURPOSE AND USAGE OF THE MAP() FUNCTION IN PYTHON.\n",
        "\n",
        "Ans. The map() function in Python is designed to apply a specified function to every item in an iterable (like a list, tuple, or string) and return a new iterable (a map object) containing the results. It’s a powerful tool for functional programming and helps streamline data transformation processes.\n",
        "\n",
        "Purpose:\n",
        "\n",
        "Transformation: map() is primarily used for transforming data, allowing you to perform operations on each element of an iterable efficiently.\n",
        "\n",
        "Conciseness: It provides a more concise way to apply a function to an iterable compared to using a loop.\n",
        "\n",
        "Usage:\n",
        "\n"
      ],
      "metadata": {
        "id": "mxL3ukLNnCNs"
      }
    },
    {
      "cell_type": "code",
      "source": [
        "numbers= [1,2,3,4,5]\n",
        "list(map(lambda x: x**2, numbers))"
      ],
      "metadata": {
        "colab": {
          "base_uri": "https://localhost:8080/"
        },
        "id": "dqTerHnDm8M-",
        "outputId": "f9fff1dc-1c6b-4d15-d32e-cef6cbbe0a00"
      },
      "execution_count": null,
      "outputs": [
        {
          "output_type": "execute_result",
          "data": {
            "text/plain": [
              "[1, 4, 9, 16, 25]"
            ]
          },
          "metadata": {},
          "execution_count": 42
        }
      ]
    },
    {
      "cell_type": "markdown",
      "source": [
        "Q10. EXPLAIN THE PURPOSE AND USADE OF THE MAP(),REDUCE() AND FILTER() FUNCTIONS IN PYTHON.\n",
        "\n",
        "Ans. In Python, map(), reduce(), and filter() are built-in functions that facilitate functional programming allowing to process collections of data in a more concise and expressive way.\n",
        "\n",
        "map()\n",
        "map() applies a given function to every item in an iterable (like a list or tuple) and returns a new iterable (a map object, which can be converted to a list).\n",
        "\n",
        "Usage:"
      ],
      "metadata": {
        "id": "YJntF6mInYoe"
      }
    },
    {
      "cell_type": "code",
      "source": [
        "numbers =[1,2,3,4,5]\n",
        "list(filter(lambda x: x%2==0,numbers))"
      ],
      "metadata": {
        "colab": {
          "base_uri": "https://localhost:8080/"
        },
        "id": "8pyNwEvMnUzP",
        "outputId": "67c6c30e-92d1-4d22-aa0a-c2692480b305"
      },
      "execution_count": null,
      "outputs": [
        {
          "output_type": "execute_result",
          "data": {
            "text/plain": [
              "[2, 4]"
            ]
          },
          "metadata": {},
          "execution_count": 46
        }
      ]
    },
    {
      "cell_type": "markdown",
      "source": [
        "reduce()\n",
        "\n",
        "reduce() is used to apply a binary function cumulatively to the items of an iterable, from left to right, so as to reduce the iterable to a single cumulative value. Note that reduce() is not a built-in function in Python 3 and needs to be imported from the functools module.\n",
        "\n",
        "Usage:"
      ],
      "metadata": {
        "id": "k4V1shjjnx3Z"
      }
    },
    {
      "cell_type": "code",
      "source": [
        "from functools import  reduce\n",
        "\n",
        "numbers=[1,2,3,4,5]\n",
        "reduce(lambda x, y: x*y,numbers)"
      ],
      "metadata": {
        "id": "RI25X5Q_no_h",
        "colab": {
          "base_uri": "https://localhost:8080/"
        },
        "outputId": "af819f24-04d7-4b33-e67b-236cdfeec96a"
      },
      "execution_count": 47,
      "outputs": [
        {
          "output_type": "execute_result",
          "data": {
            "text/plain": [
              "120"
            ]
          },
          "metadata": {},
          "execution_count": 47
        }
      ]
    },
    {
      "cell_type": "markdown",
      "source": [
        "Q11. WRITE THE INTERNAL MECHANISM OF SUM OPERATION USING REDUCE FUNCTION ON THIS GIVEN LIST:[47,11,42,13].\n",
        "\n",
        "Ans.![WhatsApp Image 2025-02-15 at 13.42.15_aa27c658.jpg](data:image/jpeg;base64,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)"
      ],
      "metadata": {
        "id": "rPiO-UEMpBl-"
      }
    },
    {
      "cell_type": "code",
      "source": [
        "numbers= [47,11,42,13]\n",
        "reduce(lambda x,y:x+y,numbers)"
      ],
      "metadata": {
        "colab": {
          "base_uri": "https://localhost:8080/"
        },
        "id": "pnIP2ay2o94j",
        "outputId": "82700cd8-0cdc-4ccb-addd-89dbcd958fe1"
      },
      "execution_count": 48,
      "outputs": [
        {
          "output_type": "execute_result",
          "data": {
            "text/plain": [
              "113"
            ]
          },
          "metadata": {},
          "execution_count": 48
        }
      ]
    },
    {
      "cell_type": "code",
      "source": [],
      "metadata": {
        "id": "D6e0h9HOrZWr"
      },
      "execution_count": null,
      "outputs": []
    }
  ]
}