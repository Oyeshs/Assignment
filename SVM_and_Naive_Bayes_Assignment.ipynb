{
  "nbformat": 4,
  "nbformat_minor": 0,
  "metadata": {
    "colab": {
      "provenance": []
    },
    "kernelspec": {
      "name": "python3",
      "display_name": "Python 3"
    },
    "language_info": {
      "name": "python"
    }
  },
  "cells": [
    {
      "cell_type": "markdown",
      "source": [
        "**THEORETICAL**"
      ],
      "metadata": {
        "id": "cFtXFsTe4N8q"
      }
    },
    {
      "cell_type": "markdown",
      "source": [
        "**Q1. What is a Support Vector Machine (SVM)?**\n",
        "\n",
        "Ans: A Support Vector Machine (SVM) is a supervised machine learning algorithm used for classification and regression tasks. It’s particularly known for its ability to perform well in high-dimensional spaces and with complex datasets."
      ],
      "metadata": {
        "id": "BurxckDp4QL9"
      }
    },
    {
      "cell_type": "markdown",
      "source": [
        "**Q2. What is the difference between Hard Margin and Soft Margin SVM?**\n",
        "\n",
        "Ans: The difference between Hard Margin and Soft Margin in Support Vector Machines (SVM) comes down to how strictly the model enforces the separation between the classes, especially when the data is not perfectly separable.\n",
        "\n",
        "**Hard Margin SVM**:\n",
        "Definition:\n",
        "\n",
        "In Hard Margin SVM, the algorithm requires the data to be linearly separable without any errors. This means there must be a clear, unambiguous hyperplane that can perfectly separate the data points of different classes with no overlap or misclassification.\n",
        "\n",
        "**Use Cases**:\n",
        "\n",
        "Hard Margin SVM is used when the data is clean and perfectly separable. If the data contains noise or outliers, this method will fail because it cannot tolerate any misclassification.\n",
        "\n",
        "2. **Soft Margin SVM:**\n",
        "\n",
        "**Definition:**\n",
        "\n",
        "Soft Margin SVM introduces slack variables to allow for some misclassification in order to improve generalization when the data is not perfectly separable. This means that it can tolerate some points falling on the wrong side of the hyperplane, with a penalty for each such point.\n",
        "\n",
        "Use Cases:\n",
        "\n",
        "Soft Margin SVM is more commonly used when data is noisy or overlapping, as it allows for flexibility in handling misclassified points."
      ],
      "metadata": {
        "id": "XTYx1rN84U4V"
      }
    },
    {
      "cell_type": "markdown",
      "source": [
        "**Q3. What is the mathematical intuition behind SVM?**\n",
        "\n",
        "Ans: The mathematical intuition behind Support Vector Machines (SVMs) can be understood by considering them as a method for finding the optimal boundary (or hyperplane) that separates two classes of data points in a way that maximizes the margin between them.\n",
        "\n",
        "1. Hyperplane and Margin:\n",
        "\n",
        "- In an n-dimensional space, a hyperplane is a flat affine subspace of dimension n-1. In 2D, it's a line; in 3D, it's a plane.\n",
        "\n",
        "- For binary classification, the goal is to find a hyperplane that separates the data points of one class from those of the other class.\n",
        "\n",
        "- The margin is the distance between the hyperplane and the closest data points from either class. These closest points are called support vectors, and they are critical because the optimal hyperplane is influenced directly by them.\n",
        "\n",
        "2. Maximizing the Margin:\n",
        "\n",
        "- The idea behind SVM is to find the hyperplane that not only separates the two classes but also maximizes the margin between them. A larger margin is preferable because it generally leads to better generalization — the classifier is less likely to overfit to the training data.\n",
        "\n",
        "- This can be viewed as a convex optimization problem, where we try to maximize the margin while ensuring correct classification of the training points (if the data is linearly separable).\n",
        "\n",
        "3. Mathematical Formulation:\n",
        "\n",
        "- Suppose you have a set of data points {xi} and corresponding labels yi ∈{−1,+1}, where yi=+1 for the positive class and yi=-1 for the negative class.\n",
        "\n",
        "- The equation of the hyperplane can be written as: wTx+b=0 where\n",
        "\n",
        "w is the normal vector to the hyperplane, and\n",
        "\n",
        "b is the bias term that shifts the hyperplane.\n",
        "\n",
        "- The goal is to maximize the margin, which is the distance from the hyperplane to the closest support vectors. The margin is given by:\n",
        "2/∥w∥\n",
        "\n",
        "- The optimization problem is then:\n",
        "Maximize 2/∥w∥ subject to the constraints that each data point xi is correctly classified, i.e.,\n",
        "\n",
        "yi(wT xi+b)≥1,∀i\n",
        "\n",
        "- To solve this, we typically minimize the objective function (1/2)∥w∥2 (since maximizing 2/∥w∥ is equivalent to minimizing (1/2)∥w∥2),subject to the constraints above.\n",
        "\n",
        "4. Handling Non-Linearly Separable Data (Soft Margin):\n",
        "\n",
        "- In practice, data is rarely perfectly separable. To handle this, SVM introduces a soft margin approach, which allows some misclassifications. This is controlled by a regularization parameter C, which balances the trade-off between maximizing the margin and minimizing classification errors.\n",
        "\n",
        "- The optimization problem for the soft margin SVM becomes:\n",
        "\n",
        "Minimize (1/2)∥w∥2+C i=1∑n ξi\n",
        "\n",
        "where ξi are slack variables that measure the degree of misclassification for each data point.\n",
        "\n",
        "5. Kernel Trick (Non-Linear Separation):\n",
        "\n",
        "- SVM can also handle non-linearly separable data by using a technique called the kernel trick. The idea is to map the data into a higher-dimensional space where it becomes linearly separable.\n",
        "\n",
        "- This is done by applying a kernel function K(xi,xj) which computes the inner product in the high-dimensional space without explicitly mapping the data points into that space. Common kernel functions include:\n",
        "\n",
        "- Linear kernel: K(xi,xj)=xiTxj\n",
        "\n",
        "- Polynomial kernel: K(xi,xj)=(xiTxj+1)d\n",
        "\n",
        "- RBF (Radial Basis Function) kernel: K(xi,xj)=e-γ∥xi-xj∥2"
      ],
      "metadata": {
        "id": "YgBtf-PL4qrm"
      }
    },
    {
      "cell_type": "markdown",
      "source": [
        "**Q4. What is the role of Lagrange Multipliers in SVM?**\n",
        "\n",
        "Ans: The role of Lagrange multipliers in Support Vector Machines (SVMs) is to enforce the constraints in the optimization problem and help transform it into the dual formulation.\n",
        "\n",
        "1. **Enforcing Constraints**: Lagrange multipliers are introduced to incorporate the constraints that each data point must be correctly classified by the hyperplane.\n",
        "\n",
        "2. **Dual Formulation**: By using Lagrange multipliers, we can transform the primal optimization problem into a dual problem, which is easier to solve, especially with kernels for non-linear classification.\n",
        "3. **Identifying Support Vectors**: The data points with non-zero Lagrange multipliers are the support vectors, which are the critical points that define the optimal hyperplane.\n",
        "\n",
        "4. **Efficiency and Kernels**: The dual problem allows the use of kernel functions, which enable the SVM to work in higher-dimensional spaces without explicitly mapping the data, making it computationally efficient.\n",
        "\n",
        "5. **Optimal Hyperplane**: The solution to the dual problem gives the optimal values of the Lagrange multipliers, which can then be used to compute the weight vector w and define the optimal hyperplane."
      ],
      "metadata": {
        "id": "-JkymKEQ5lVO"
      }
    },
    {
      "cell_type": "markdown",
      "source": [
        "**Q5. What are Support Vectors in SVM?**\n",
        "\n",
        "Ans: Support vectors in a Support Vector Machine (SVM) are the data points that are closest to the decision boundary (or hyperplane) that the SVM creates to separate different classes in the data. These support vectors are critical because they directly influence the position and orientation of the hyperplane."
      ],
      "metadata": {
        "id": "qj0gbrdB597d"
      }
    },
    {
      "cell_type": "markdown",
      "source": [
        "**Q6. What is a Support Vector Classifier (SVC)?**\n",
        "\n",
        "Ans: A Support Vector Classifier (SVC) is a type of Support Vector Machine (SVM) specifically used for classification tasks. It is a supervised learning algorithm that aims to find the optimal hyperplane that best separates data points into different classes"
      ],
      "metadata": {
        "id": "B4x7_Zgo6Bn8"
      }
    },
    {
      "cell_type": "markdown",
      "source": [
        "**Q7. What is a Support Vector Regressor (SVR)?**\n",
        "\n",
        "Ans: A Support Vector Regressor (SVR) is a variant of the Support Vector Machine (SVM) used for regression tasks, where the goal is to predict continuous values rather than categorical class labels."
      ],
      "metadata": {
        "id": "E1OF-tae6HA8"
      }
    },
    {
      "cell_type": "markdown",
      "source": [
        "**Q8. What is the Kernel Trick in SVM?**\n",
        "\n",
        "Ans: The Kernel Trick in Support Vector Machines (SVM) is a mathematical technique used to transform non-linearly separable data into a higher-dimensional space, where a linear decision boundary (hyperplane) can be used to separate the data"
      ],
      "metadata": {
        "id": "V-RkMpwH6Kws"
      }
    },
    {
      "cell_type": "markdown",
      "source": [
        "**Q9. Compare Linear Kernel, Polynomial Kernel, and RBF Kernel.**\n",
        "\n",
        "Ans: The Linear Kernel, Polynomial Kernel, and RBF Kernel each offer different strengths depending on the nature of the data and the complexity of the decision boundary. The Linear Kernel is the simplest and most computationally efficient, making it ideal for linearly separable data or when a straightforward, fast solution is needed. It performs well when there is a clear linear relationship between the features and the target variable. On the other hand, the Polynomial Kernel introduces non-linearity by mapping data into higher-dimensional spaces, allowing for more complex decision boundaries, but this can also lead to overfitting, especially with high degrees. It is suitable for problems where the decision boundary is polynomial in nature. The RBF Kernel, known for its flexibility, can handle highly non-linear decision boundaries by calculating the similarity between data points using a Gaussian function. It is powerful for complex datasets where the relationship between features and the target variable is intricate, but it requires careful tuning of the γ parameter to avoid overfitting. While the Linear Kernel is efficient and suitable for simpler problems, the Polynomial Kernel and RBF Kernel are more suitable for complex, non-linear classification tasks, with the RBF Kernel being the most widely used due to its ability to adapt to a broad range of data distributions.\n",
        "\n",
        "**When to Use Which Kernel**\n",
        "\n",
        "- Linear Kernel: Use when the data is linearly separable or when you want a simple and fast model. It is often used in cases where the features themselves are well-aligned with the class labels.\n",
        "\n",
        "- Polynomial Kernel: Use when the decision boundary is non-linear but can be captured by polynomial relationships (e.g., when you suspect the data has some polynomial relationship between features).\n",
        "\n",
        "- RBF Kernel: Use when the data has a highly non-linear relationship and you need a flexible and powerful kernel to find complex decision boundaries. The RBF kernel is particularly useful when you don't know the exact nature of the data's separation."
      ],
      "metadata": {
        "id": "6LYw-zqJ6O8M"
      }
    },
    {
      "cell_type": "markdown",
      "source": [
        "***Q10. What is the effect of the C parameter in SVM?***\n",
        "\n",
        "Ans: The C parameter in Support Vector Machines (SVM) plays a crucial role in controlling the trade-off between maximizing the margin (the distance between the decision boundary and the closest data points) and minimizing classification error (the number of misclassified points). It is a regularization parameter that affects the model's complexity and its ability to generalize.\n",
        "\n",
        "Here’s how the C parameter affects the SVM:\n",
        "\n",
        "1. High C (Low Regularization):\n",
        "When C is large, the SVM will prioritize minimizing classification errors. This means the model will try hard to classify every data point correctly, leading to a smaller margin.\n",
        "\n",
        "In this case, the decision boundary will be tighter, and the model may become very sensitive to the training data, potentially overfitting the model (i.e., it will perform well on the training set but poorly on unseen data).\n",
        "\n",
        "Effect: Lower bias, higher variance, and a complex model that may not generalize well.\n",
        "\n",
        "2. Low C (High Regularization):\n",
        "When C is small, the SVM will focus more on maximizing the margin while allowing some misclassification of the data points. The model will tolerate a certain number of misclassified points in order to create a larger margin. This leads to a wider margin and a simpler model, which is less likely to overfit. However, this may result in a higher bias since the model might not fit the training data as well.\n",
        "\n",
        "Effect: Higher bias, lower variance, and a simpler model that may generalize better but could miss some nuances in the data."
      ],
      "metadata": {
        "id": "PwkKyeFD60yF"
      }
    },
    {
      "cell_type": "markdown",
      "source": [
        "**Q11. What is the role of the Gamma parameter in RBF Kernel SVM?**\n",
        "\n",
        "Ans: The gamma (γ) parameter in the RBF (Radial Basis Function) kernel of an SVM controls the influence of each training data point on the decision boundary and affects the shape of the decision boundary.\n",
        "\n",
        "Here's how gamma impacts the SVM with the RBF kernel:\n",
        "\n",
        "1. Effect of High Gamma (Large Gamma):\n",
        "\n",
        "When gamma is large, the influence of each individual data point becomes more localized. In other words, the decision boundary becomes highly sensitive to the specific data points and can fit them very closely. This results in a more complex model with a narrower margin that can perfectly fit the training data (low bias). However, this increases the risk of overfitting, where the model performs well on the training data but fails to generalize to unseen data.\n",
        "\n",
        "Effect: High variance (model fits noise and outliers), lower bias (accurate on training data, but poor on new data).\n",
        "\n",
        "2. Effect of Low Gamma (Small Gamma):\n",
        "\n",
        "When gamma is small, the influence of each training data point becomes more spread out. The model will have a wider margin and a simpler decision boundary that might not fit the training data as well. A smaller gamma implies the model will focus on global patterns and ignore local fluctuations in the data, resulting in a simpler model. This can reduce the risk of overfitting but may increase the chance of underfitting if the model cannot capture the complexity of the data.\n",
        "\n",
        "Effect: Higher bias (underfits the training data), lower variance (model generalizes better).\n",
        "\n",
        "3. Summary of Gamma’s Impact:\n",
        "\n",
        "High gamma: More complex, smaller decision boundary, prone to overfitting.\n",
        "\n",
        "Low gamma: Simpler, smoother decision boundary, prone to underfitting.\n",
        "\n",
        "4. Choosing the Right Gamma:\n",
        "\n",
        "The optimal value of gamma depends on the data. If gamma is set too high, the model may memorize the training data (overfit), while if it's set too low, the model might fail to capture the underlying patterns in the data (underfit). Gamma is typically tuned using cross-validation or grid search to find the best value that balances model complexity and generalization"
      ],
      "metadata": {
        "id": "Pn1k151l66it"
      }
    },
    {
      "cell_type": "markdown",
      "source": [
        "**Q12.What is the Naïve Bayes classifier, and why is it called \"Naïve\"?**\n",
        "\n",
        "Ans: The Naïve Bayes classifier is a simple probabilistic machine learning algorithm used for classification tasks, based on Bayes' Theorem and the assumption of conditional independence between the features.\n",
        "\n",
        "The term \"naïve\" refers to the simplifying assumption that the features are independent of each other, given the class. This is a strong and unrealistic assumption in many real-world problems, where features are often correlated. Despite this, the algorithm tends to perform surprisingly well in practice, particularly in text classification tasks (such as spam detection or sentiment analysis), even though the assumption of feature independence is rarely true."
      ],
      "metadata": {
        "id": "zx5cOp6K7M0U"
      }
    },
    {
      "cell_type": "markdown",
      "source": [
        "**Q13. What is Bayes' Theorem?**\n",
        "\n",
        "Ans: Bayes' Theorem is a fundamental concept in probability theory and statistics that describes the probability of an event, based on prior knowledge of conditions that might be related to the event. It provides a way to update the probability of a hypothesis as more evidence or information becomes available"
      ],
      "metadata": {
        "id": "3VrMs_q57PBG"
      }
    },
    {
      "cell_type": "markdown",
      "source": [
        "**Q14. Explain the differences between Gaussian Naïve Bayes, Multinomial Naïve Bayes, and Bernoulli Naïve Bayes.**\n",
        "\n",
        "Ans: Gaussian Naïve Bayes, Multinomial Naïve Bayes, and Bernoulli Naïve Bayes are different variations of the Naïve Bayes classifier, each designed to handle different types of feature distributions in the data. While they all rely on Bayes' Theorem and the assumption of conditional independence of features, they differ in how they model the distribution of the features.\n",
        "\n",
        "1. Gaussian Naïve Bayes:\n",
        "\n",
        "- Assumption: Assumes that the features follow a Gaussian (normal) distribution for continuous data.\n",
        "\n",
        "- Feature Type: Works best with continuous numerical features.\n",
        "\n",
        "- Modeling: For each class, it models each feature as a normal (Gaussian) distribution with its own mean and variance. The probability of each feature given a class is calculated using the Gaussian distribution.\n",
        "\n",
        "- Use Case: When the data consists of continuous features, and the distribution of each feature for each class can be approximated by a Gaussian distribution.\n",
        "\n",
        "2. Multinomial Naïve Bayes:\n",
        "\n",
        "- Assumption: Assumes that the features represent counts or frequencies and are drawn from a multinomial distribution.\n",
        "\n",
        "- Feature Type: Works best with discrete features, such as word counts in text classification tasks.\n",
        "\n",
        "- Modeling: For each class, it models the features as the number of occurrences of each feature (word, token, etc.) in a document or sample.\n",
        "\n",
        "- Use Case: Primarily used for text classification tasks, such as document classification, where the features represent word frequencies or counts.\n",
        "\n",
        "3. Bernoulli Naïve Bayes:\n",
        "\n",
        "- Assumption: Assumes that the features are binary (i.e., take values of 0 or 1), and the data follows a Bernoulli distribution.\n",
        "\n",
        "- Feature Type: Works best with binary/boolean features (presence or absence of a feature).\n",
        "\n",
        "- Modeling: For each class, it models each feature as a Bernoulli random variable, where the probability of a feature being present (1) or absent (0) is calculated.\n",
        "\n",
        "- Use Case: Suitable for binary/boolean data, such as the presence or absence of certain words in text classification, or the occurrence of specific events.\n",
        "\n"
      ],
      "metadata": {
        "id": "eBWGHPg-7SRN"
      }
    },
    {
      "cell_type": "markdown",
      "source": [
        "**Q15. When should you use Gaussian Naïve Bayes over other variants?**\n",
        "\n",
        "Ans: Gaussian Naïve Bayes is typically used when your data consists of continuous features that are approximately normally distributed (i.e., follow a Gaussian distribution). It assumes that each feature, for a given class, is drawn from a normal distribution with its own mean and variance. You should consider using Gaussian Naïve Bayes over other variants (such as Multinomial Naïve Bayes or Bernoulli Naïve Bayes) in the following scenarios:\n",
        "\n",
        "1. When the Features are Continuous:\n",
        "\n",
        "Gaussian Naïve Bayes is ideal for situations where your data consists of continuous numeric features, such as heights, weights, temperatures, or any other measurements that can take on a wide range of values. Other variants like Multinomial and Bernoulli Naïve Bayes are better suited for discrete or binary features (e.g., word counts, document classifications, or binary presence/absence of features), so Gaussian Naïve Bayes is preferable when the data involves continuous attributes.\n",
        "\n",
        "2. When You Can Assume Normality:\n",
        "\n",
        "If your features, for each class, appear to follow a normal (Gaussian) distribution, Gaussian Naïve Bayes is the best choice. For example, if you have continuous features like exam scores, customer incomes, or test measurements, and these features appear to be distributed in a bell-shaped curve (i.e., roughly symmetric with a mean and variance), Gaussian Naïve Bayes will work well.\n",
        "\n",
        "3. When You Don't Have Too Many Features (High-Dimensionality):\n",
        "\n",
        "Gaussian Naïve Bayes can be a good choice when the number of features isn't excessively large. If you have high-dimensional data with many features, you may need to carefully assess whether the Gaussian assumption holds for all features. If the normality assumption doesn't hold for many features, other algorithms may perform better.\n",
        "\n",
        "4. When You Need a Fast, Simple Model:\n",
        "\n",
        "Gaussian Naïve Bayes is very computationally efficient and can be a great choice for quick prototyping or when you're working with a large dataset where computational resources are a concern. It’s also easy to implement and requires fewer computational resources compared to more complex algorithms like Support Vector Machines (SVM) or deep learning models.\n",
        "\n",
        "5. When You Have Independent Features:\n",
        "\n",
        "Like all Naïve Bayes variants, Gaussian Naïve Bayes relies on the assumption of feature independence given the class. While this assumption is often violated in real-world data, the algorithm can still perform well even when features are not strictly independent. However, if the features exhibit strong correlations, other machine learning models may be more suitable."
      ],
      "metadata": {
        "id": "8nSVems_CUZX"
      }
    },
    {
      "cell_type": "markdown",
      "source": [
        "**Q16. What are the key assumptions made by Naïve Bayes?**\n",
        "\n",
        "Ans: The key assumptions made by Naïve Bayes are:\n",
        "\n",
        "1. Conditional Independence:\n",
        "- The most important assumption is that all features (attributes) used for classification are conditionally independent of each other, given the class label. In other words, Naïve Bayes assumes that the presence (or absence) of a feature does not affect the presence (or absence) of another feature, once the class is known.\n",
        "\n",
        "2. Feature Independence:\n",
        "\n",
        "- Related to the conditional independence assumption, this assumes that each feature contributes independently to the probability of a given class. This simplifies the computation significantly, as the joint likelihood becomes the product of individual likelihoods.\n",
        "\n",
        "3. Class-Conditional Independence:\n",
        "\n",
        "- Naïve Bayes assumes that the likelihood of a feature is independent of other features when conditioned on the class label. This is what allows the model to break down the problem of calculating joint probabilities into simpler terms.\n",
        "\n",
        "4. Prior Probability:\n",
        "\n",
        "- Naïve Bayes assumes that we can calculate the prior probability of each class, i.e., how likely each class is before considering any feature data. These priors are typically estimated from the training dataset."
      ],
      "metadata": {
        "id": "uowrqlHCCoFg"
      }
    },
    {
      "cell_type": "markdown",
      "source": [
        "**Q17. What are the advantages and disadvantages of Naïve Bayes?**\n",
        "\n",
        "Ans: Advantages of Naïve Bayes:\n",
        "\n",
        "1. Simple and Easy to Understand:\n",
        "\n",
        "Naïve Bayes is based on a straightforward probabilistic framework, making it easy to implement and interpret. It doesn’t require complex tuning or hyperparameter adjustment, which makes it user-friendly.\n",
        "\n",
        "2. Fast and Efficient:\n",
        "\n",
        "It is computationally very efficient, especially for large datasets. Its training time is linear with respect to the number of features and data points, making it suitable for big data tasks.\n",
        "\n",
        "3. Works Well with High Dimensional Data:\n",
        "\n",
        "Naïve Bayes performs well even with datasets containing a large number of features, as long as the features are conditionally independent. This makes it particularly useful for text classification tasks (e.g., spam filtering, sentiment analysis) where you might have many features (words).\n",
        "\n",
        "4. Good Performance with Small Datasets:\n",
        "\n",
        "Naïve Bayes often performs well on small datasets where other models might overfit. It requires less data for training compared to more complex models.\n",
        "\n",
        "5. Handles Missing Data Well:\n",
        "\n",
        "Naïve Bayes can handle missing data by ignoring the features with missing values during the classification process (depending on the implementation).\n",
        "\n",
        "6. Works Well with Categorical and Continuous Data:\n",
        "\n",
        "Naïve Bayes can be applied to both categorical and continuous data. For continuous data, the Gaussian Naïve Bayes variant assumes that the data follows a normal distribution, while for categorical data, the multinomial or Bernoulli variants can be used.\n",
        "\n",
        "**Disadvantages of Naïve Bayes:**\n",
        "\n",
        "1. Assumption of Conditional Independence:\n",
        "\n",
        "The major limitation of Naïve Bayes is the assumption that all features are conditionally independent given the class label. In practice, this is often not true, and this can lead to poor performance when the features are highly correlated with each other (e.g., when features have dependencies).\n",
        "\n",
        "2. Poor Performance with Highly Correlated Features:\n",
        "\n",
        "When features are not independent and highly correlated, Naïve Bayes may give biased or inaccurate results because it does not account for these relationships between features.\n",
        "\n",
        "3. Limited to Linear Decision Boundaries:\n",
        "\n",
        "Naïve Bayes can only model linear decision boundaries (in terms of feature distributions), which can limit its performance in problems where the decision boundary is highly nonlinear. More complex models like SVMs or decision trees may be more effective in such cases.\n",
        "\n",
        "4. Needs Sufficient Data for Reliable Estimates:\n",
        "\n",
        "If the dataset is small or contains rare events (low-frequency features), Naïve Bayes may struggle to estimate the probabilities reliably. This is particularly problematic with continuous data, where small variations in data can lead to poor estimates of likelihoods."
      ],
      "metadata": {
        "id": "J8z9PIUOC4_3"
      }
    },
    {
      "cell_type": "markdown",
      "source": [
        "**Q18. Why is Naïve Bayes a good choice for text classification?**\n",
        "\n",
        "Ans: Naïve Bayes is a popular choice for text classification because it offers several advantages:\n",
        "\n",
        "1. Simplicity: Naïve Bayes is relatively simple to understand and implement. Its underlying principle is based on Bayes' Theorem, which is straightforward. This simplicity makes it accessible, especially when dealing with high-dimensional data like text.\n",
        "\n",
        "2. Efficiency: Naïve Bayes is computationally efficient, especially when working with large datasets. It's easy to compute probabilities and doesn't require extensive resources or time to train, making it well-suited for real-time applications.\n",
        "\n",
        "3. Assumption of Independence: While the \"naïve\" assumption (that features are conditionally independent) is often unrealistic in real-world data, it still tends to perform well in practice for text classification. In text data, the relationships between words are often weak enough that the independence assumption doesn't significantly harm performance.\n",
        "\n",
        "4. Works well with high-dimensional data: Text data is often represented in high-dimensional spaces (like a bag-of-words or TF-IDF model), and Naïve Bayes handles high-dimensional features effectively without overfitting. This makes it a strong choice for tasks like spam detection, sentiment analysis, and topic classification.\n",
        "\n",
        "5. Probabilistic Interpretation: Naïve Bayes provides probabilistic outputs, which can be useful in many text classification tasks. This means you can interpret the classifier's predictions as probabilities, making it easier to understand and manage classification uncertainties.\n",
        "\n",
        "6. Good Performance with Small Data: Even with a smaller dataset, Naïve Bayes can perform surprisingly well, particularly when the feature space is sparse, as it is in text. Unlike other complex models that may need a large amount of data to generalize well, Naïve Bayes can still make reasonable predictions.\n",
        "\n",
        "7. Scalability: It scales well to large datasets, particularly because the model makes assumptions that reduce the amount of computation required, making it a good choice for real-world applications where data can grow rapidly"
      ],
      "metadata": {
        "id": "NAvCrcbCDQgA"
      }
    },
    {
      "cell_type": "markdown",
      "source": [
        "**Q19. Compare SVM and Naïve Bayes for classification tasks.**\n",
        "\n",
        "Ans: Support Vector Machines (SVM) and Naïve Bayes (NB) are both widely used algorithms for classification tasks, but they differ in their approach, strengths, and weaknesses. Here's a comparison between the two:\n",
        "\n",
        "1. **Basic Approach**\n",
        "\n",
        "**SVM**:\n",
        "\n",
        "- SVM is a discriminative classifier that finds the optimal hyperplane that best separates the data into different classes. It focuses on maximizing the margin between classes, making it effective for binary classification and multi-class classification using strategies like one-vs-one or one-vs-all. *It works by mapping data to a higher-dimensional space (via kernel tricks), where it tries to find the hyperplane that maximizes the margin between classes.\n",
        "\n",
        "**Naïve Bayes**:\n",
        "\n",
        "- Naïve Bayes is a generative classifier based on Bayes' Theorem. It assumes that the features are conditionally independent given the class, and calculates the probability of each class given the input features, selecting the class with the highest probability.\n",
        "The model is trained by calculating the prior probabilities of the classes and the likelihood of features for each class.\n",
        "\n",
        "2. **Assumptions**\n",
        "\n",
        "**SVM**:\n",
        "\n",
        "- SVM does not assume any specific distribution of the data. It is based on the concept of finding a decision boundary with the largest margin, which works well in high-dimensional spaces. It is more flexible and can be effective even when the classes are not linearly separable (using kernel tricks).\n",
        "\n",
        "**Naïve Bayes**:\n",
        "\n",
        "- Naïve Bayes assumes conditional independence between features. This assumption is often unrealistic in real-world data, but Naïve Bayes can still perform well, especially when the features are weakly correlated or when the independence assumption holds approximately.\n",
        "\n",
        "3. **Performance with Feature Correlation**\n",
        "\n",
        "**SVM**:\n",
        "\n",
        "- SVM tends to perform better with correlated features. Since SVM does not make strong assumptions about feature independence, it can model complex relationships between features. It also works well with high-dimensional data, especially when using kernels.\n",
        "\n",
        "**Naïve Baye**:\n",
        "\n",
        "- Naïve Bayes assumes independence between features. When features are highly correlated (such as in text classification with words that often appear together), Naïve Bayes may struggle and perform suboptimally.\n",
        "\n",
        "4. **Interpretability**\n",
        "\n",
        "**SVM**:\n",
        "\n",
        "- SVM is more of a black-box model, especially when using non-linear kernels. It doesn't provide easy-to-understand probabilities and is less interpretable compared to simpler models.\n",
        "\n",
        "**Naïve Bayes**:\n",
        "\n",
        "- Naïve Bayes is more interpretable, as it provides probabilities for each class. You can understand how the model is making its decision by looking at the likelihoods of features for each class.\n",
        "\n",
        "5. **Training Time and Scalability**\n",
        "\n",
        "**SVM**:\n",
        "\n",
        "-SVM training time can be slow, especially with large datasets or non-linear kernels. The complexity grows quadratically with the number of data points, making it less efficient for large datasets.\n",
        "\n",
        "**Naïve Bayes**:\n",
        "\n",
        "- Naïve Bayes is very fast to train and works well with large datasets. Its training complexity is linear with the number of samples, making it highly scalable and efficient, especially in text classification problems.\n",
        "6. Performance with Small vs. Large Datasets\n",
        "\n",
        "**SVM**:\n",
        "\n",
        "- SVM performs well with small to medium-sized datasets, especially when you have enough data to learn a complex decision boundary. It can overfit with small datasets if not tuned properly, and it also requires a good amount of computational resources for large datasets.\n",
        "\n",
        "**Naïve Bayes**:\n",
        "\n",
        "- Naïve Bayes can perform surprisingly well on small datasets. Since it's based on simple probability calculations, it requires less data to generalize effectively compared to more complex models like SVM. However, it may not perform as well as SVM with larger datasets that contain more complex relationships between features.\n",
        "\n",
        "7. **Robustness to Noise and Outliers**\n",
        "\n",
        "**SVM**:\n",
        "\n",
        "- SVM is generally robust to outliers due to the concept of the margin. By focusing on the support vectors (the closest points to the decision boundary), it’s less sensitive to noisy data points outside the margin.\n",
        "Naïve Bayes:\n",
        "\n",
        "- Naïve Bayes can be sensitive to noisy data, especially if the data violates the independence assumption. Outliers or mislabeled data can affect the probabilities computed during training, leading to poorer performance.\n",
        "\n",
        "8. Handling Multiclass Classification\n",
        "\n",
        "**SVM**:\n",
        "\n",
        "- SVM is primarily designed for binary classification, but it can be extended to multiclass problems using strategies like one-vs-one or one-vs-all. SVMs can work well for multiclass classification when properly configured.\n",
        "\n",
        "**Naïve Bayes**:\n",
        "\n",
        "- Naïve Bayes naturally handles multiclass classification. Since it works by calculating probabilities for each class, it can be easily extended to handle multiple classes without needing special techniques.\n",
        "\n",
        "9. **Probabilistic Output**\n",
        "\n",
        "**SVM**:\n",
        "\n",
        "- SVM itself does not output probabilities directly. However, probability estimates can be derived using methods like Platt scaling, but this adds complexity and may not be as accurate as those from models that are inherently probabilistic.\n",
        "Naïve Bayes:\n",
        "\n",
        "- Naïve Bayes gives direct probabilistic outputs. For each input, it calculates the probability of the data belonging to each class, which can be useful when decision thresholds need to be adjusted.\n",
        "\n",
        "10. **Typical Use Cases**\n",
        "\n",
        "**SVM**:\n",
        "\n",
        "- SVM is often used for tasks where data is high-dimensional and the decision boundary is complex, such as in image recognition, bioinformatics (e.g., cancer classification), and text classification (with kernels).\n",
        "\n",
        "**Naïve Bayes**:\n",
        "\n",
        "- Naïve Bayes is commonly used for text classification tasks such as spam filtering, sentiment analysis, and document categorization, especially when the feature space is sparse (e.g., in bag-of-words models) and the independence assumption holds approximately."
      ],
      "metadata": {
        "id": "lLrmCOvbGaSp"
      }
    },
    {
      "cell_type": "markdown",
      "source": [
        "**Q20. How does Laplace Smoothing help in Naïve Bayes?**\n",
        "\n",
        "Ans: Laplace smoothing (also known as additive smoothing) helps in Naïve Bayes by addressing the issue of zero probabilities that can arise when certain features (e.g., words) do not appear in the training data for a given class. Without smoothing, any feature that has not been observed in a class would lead to a probability of zero, which would ultimately result in the entire class having a zero probability, regardless of the other features.\n",
        "\n",
        "Laplace smoothing works by adding a small constant (usually 1) to all feature counts in the training data, ensuring that no probability is ever exactly zero."
      ],
      "metadata": {
        "id": "4EkH5stHH4CK"
      }
    },
    {
      "cell_type": "markdown",
      "source": [
        "**PRACTICAL**"
      ],
      "metadata": {
        "id": "xLgZCrJ3H7Dp"
      }
    },
    {
      "cell_type": "markdown",
      "source": [
        "**Q21. Write a Python program to train an SVM Classifier on the Iris dataset and evaluate accuracy.**"
      ],
      "metadata": {
        "id": "nJ869bR0H8Ta"
      }
    },
    {
      "cell_type": "code",
      "execution_count": 1,
      "metadata": {
        "colab": {
          "base_uri": "https://localhost:8080/"
        },
        "id": "ETwqLVDx1R5Z",
        "outputId": "830b6781-65ac-4917-da6b-77c9a2fc6a22"
      },
      "outputs": [
        {
          "output_type": "stream",
          "name": "stdout",
          "text": [
            "Accuracy of the SVM classifier: 100.00%\n"
          ]
        }
      ],
      "source": [
        "# Import necessary libraries\n",
        "from sklearn import datasets\n",
        "from sklearn.model_selection import train_test_split\n",
        "from sklearn.svm import SVC\n",
        "from sklearn.metrics import accuracy_score\n",
        "\n",
        "# Load the Iris dataset\n",
        "iris = datasets.load_iris()\n",
        "X = iris.data  # Features\n",
        "y = iris.target  # Labels\n",
        "\n",
        "# Split the dataset into training and testing sets\n",
        "X_train, X_test, y_train, y_test = train_test_split(X, y, test_size=0.3, random_state=42)\n",
        "\n",
        "# Initialize and train the SVM classifier\n",
        "svm_classifier = SVC(kernel='linear')  # Using a linear kernel\n",
        "svm_classifier.fit(X_train, y_train)\n",
        "\n",
        "# Make predictions on the test set\n",
        "y_pred = svm_classifier.predict(X_test)\n",
        "\n",
        "# Evaluate the accuracy of the classifier\n",
        "accuracy = accuracy_score(y_test, y_pred)\n",
        "\n",
        "# Print the accuracy\n",
        "print(f\"Accuracy of the SVM classifier: {accuracy * 100:.2f}%\")"
      ]
    },
    {
      "cell_type": "markdown",
      "source": [
        "**Q22. Write a Python program to train two SVM classifiers with Linear and RBF kernels on the Wine dataset, then compare their accuracies.**"
      ],
      "metadata": {
        "id": "lg3lIZJ9IDoy"
      }
    },
    {
      "cell_type": "code",
      "source": [
        "# Import necessary libraries\n",
        "from sklearn import datasets\n",
        "from sklearn.model_selection import train_test_split\n",
        "from sklearn.svm import SVC\n",
        "from sklearn.metrics import accuracy_score\n",
        "\n",
        "# Load the Wine dataset\n",
        "wine = datasets.load_wine()\n",
        "X = wine.data  # Features\n",
        "y = wine.target  # Labels\n",
        "\n",
        "# Split the dataset into training and testing sets\n",
        "X_train, X_test, y_train, y_test = train_test_split(X, y, test_size=0.3, random_state=42)\n",
        "\n",
        "# Initialize the SVM classifiers with different kernels\n",
        "svm_linear = SVC(kernel='linear')  # Linear kernel\n",
        "svm_rbf = SVC(kernel='rbf')  # RBF kernel\n",
        "\n",
        "# Train the classifiers\n",
        "svm_linear.fit(X_train, y_train)\n",
        "svm_rbf.fit(X_train, y_train)\n",
        "\n",
        "# Make predictions on the test set\n",
        "y_pred_linear = svm_linear.predict(X_test)\n",
        "y_pred_rbf = svm_rbf.predict(X_test)\n",
        "\n",
        "# Calculate accuracy for both classifiers\n",
        "accuracy_linear = accuracy_score(y_test, y_pred_linear)\n",
        "accuracy_rbf = accuracy_score(y_test, y_pred_rbf)\n",
        "\n",
        "# Print the results\n",
        "print(f\"Accuracy of the SVM classifier with Linear Kernel: {accuracy_linear * 100:.2f}%\")\n",
        "print(f\"Accuracy of the SVM classifier with RBF Kernel: {accuracy_rbf * 100:.2f}%\")\n"
      ],
      "metadata": {
        "colab": {
          "base_uri": "https://localhost:8080/"
        },
        "id": "WeL7ZqaYIByw",
        "outputId": "18ab6001-1502-48c0-ec42-200d03261b00"
      },
      "execution_count": 2,
      "outputs": [
        {
          "output_type": "stream",
          "name": "stdout",
          "text": [
            "Accuracy of the SVM classifier with Linear Kernel: 98.15%\n",
            "Accuracy of the SVM classifier with RBF Kernel: 75.93%\n"
          ]
        }
      ]
    },
    {
      "cell_type": "markdown",
      "source": [
        "**Q23. Write a Python program to train an SVM Regressor (SVR) on a housing dataset and evaluate it using Mean Squared Error (MSE).**"
      ],
      "metadata": {
        "id": "NFB5-pzoIM36"
      }
    },
    {
      "cell_type": "code",
      "source": [
        "# Import necessary libraries\n",
        "from sklearn import datasets\n",
        "from sklearn.model_selection import train_test_split\n",
        "from sklearn.svm import SVR\n",
        "from sklearn.metrics import mean_squared_error\n",
        "from sklearn.preprocessing import StandardScaler\n",
        "\n",
        "# Load the California Housing dataset\n",
        "data = datasets.fetch_california_housing()\n",
        "X = data.data  # Features\n",
        "y = data.target  # Target variable (house prices)\n",
        "\n",
        "# Split the dataset into training and testing sets\n",
        "X_train, X_test, y_train, y_test = train_test_split(X, y, test_size=0.3, random_state=42)\n",
        "\n",
        "# Standardize the features to improve the performance of the SVR\n",
        "scaler = StandardScaler()\n",
        "X_train_scaled = scaler.fit_transform(X_train)\n",
        "X_test_scaled = scaler.transform(X_test)\n",
        "\n",
        "# Initialize and train the SVR model\n",
        "svr = SVR(kernel='rbf')  # Using Radial Basis Function kernel\n",
        "svr.fit(X_train_scaled, y_train)\n",
        "\n",
        "# Make predictions on the test set\n",
        "y_pred = svr.predict(X_test_scaled)\n",
        "\n",
        "# Calculate the Mean Squared Error (MSE)\n",
        "mse = mean_squared_error(y_test, y_pred)\n",
        "\n",
        "# Print the MSE\n",
        "print(f\"Mean Squared Error of the SVR model: {mse:.2f}\")"
      ],
      "metadata": {
        "colab": {
          "base_uri": "https://localhost:8080/"
        },
        "id": "86fCTmWQII1G",
        "outputId": "b060fc64-255c-4159-bf4e-e3345a77e7f9"
      },
      "execution_count": 3,
      "outputs": [
        {
          "output_type": "stream",
          "name": "stdout",
          "text": [
            "Mean Squared Error of the SVR model: 0.35\n"
          ]
        }
      ]
    },
    {
      "cell_type": "markdown",
      "source": [
        "\n",
        "**Q24. Write a Python program to train an SVM Classifier with a Polynomial Kernel and visualize the decision boundary.**"
      ],
      "metadata": {
        "id": "cZNodZY1Iicp"
      }
    },
    {
      "cell_type": "code",
      "source": [
        "# Import necessary libraries\n",
        "import numpy as np\n",
        "import matplotlib.pyplot as plt\n",
        "from sklearn import datasets\n",
        "from sklearn.svm import SVC\n",
        "from sklearn.model_selection import train_test_split\n",
        "from sklearn.preprocessing import StandardScaler\n",
        "\n",
        "# Create a synthetic 2D dataset using make_circles (for visualization)\n",
        "X, y = datasets.make_circles(n_samples=100, factor=0.5, noise=0.1)\n",
        "\n",
        "# Split the dataset into training and testing sets\n",
        "X_train, X_test, y_train, y_test = train_test_split(X, y, test_size=0.3, random_state=42)\n",
        "\n",
        "# Standardize the features\n",
        "scaler = StandardScaler()\n",
        "X_train_scaled = scaler.fit_transform(X_train)\n",
        "X_test_scaled = scaler.transform(X_test)\n",
        "\n",
        "# Initialize and train the SVM classifier with Polynomial kernel\n",
        "svm_poly = SVC(kernel='poly', degree=3)  # Polynomial kernel with degree=3\n",
        "svm_poly.fit(X_train_scaled, y_train)\n",
        "\n",
        "# Create a mesh grid to visualize the decision boundary\n",
        "xx, yy = np.meshgrid(np.linspace(X_train_scaled[:, 0].min() - 1, X_train_scaled[:, 0].max() + 1, 100),\n",
        "                     np.linspace(X_train_scaled[:, 1].min() - 1, X_train_scaled[:, 1].max() + 1, 100))\n",
        "\n",
        "# Make predictions on the mesh grid points\n",
        "Z = svm_poly.predict(np.c_[xx.ravel(), yy.ravel()])\n",
        "Z = Z.reshape(xx.shape)\n",
        "\n",
        "# Plotting the decision boundary and dataset points\n",
        "plt.figure(figsize=(8, 6))\n",
        "plt.contourf(xx, yy, Z, alpha=0.75, cmap='coolwarm')  # Decision boundary\n",
        "plt.scatter(X_train_scaled[:, 0], X_train_scaled[:, 1], c=y_train, edgecolors='k', marker='o', cmap='coolwarm', label='Train Data')\n",
        "plt.scatter(X_test_scaled[:, 0], X_test_scaled[:, 1], c=y_test, edgecolors='k', marker='^', cmap='coolwarm', label='Test Data')\n",
        "plt.title(\"SVM Classifier with Polynomial Kernel (Degree=3)\")\n",
        "plt.xlabel(\"Feature 1\")\n",
        "plt.ylabel(\"Feature 2\")\n",
        "plt.legend()\n",
        "plt.show()"
      ],
      "metadata": {
        "colab": {
          "base_uri": "https://localhost:8080/",
          "height": 564
        },
        "id": "Uod96y9CIoRS",
        "outputId": "c78f7710-56f5-4335-9ff6-312bb674f7d0"
      },
      "execution_count": 4,
      "outputs": [
        {
          "output_type": "display_data",
          "data": {
            "text/plain": [
              "<Figure size 800x600 with 1 Axes>"
            ],
            "image/png": "[encoded data removed]"
          },
          "metadata": {}
        }
      ]
    },
    {
      "cell_type": "markdown",
      "source": [
        "\n",
        "**Q25. Write a Python program to train a Gaussian Naïve Bayes classifier on the Breast Cancer dataset and evaluate accuracy**."
      ],
      "metadata": {
        "id": "Up3vR8zNIkni"
      }
    },
    {
      "cell_type": "code",
      "source": [
        "# Import necessary libraries\n",
        "from sklearn import datasets\n",
        "from sklearn.model_selection import train_test_split\n",
        "from sklearn.naive_bayes import GaussianNB\n",
        "from sklearn.metrics import accuracy_score\n",
        "\n",
        "# Load the Breast Cancer dataset\n",
        "cancer = datasets.load_breast_cancer()\n",
        "X = cancer.data  # Features\n",
        "y = cancer.target  # Labels (0 = malignant, 1 = benign)\n",
        "\n",
        "# Split the dataset into training and testing sets\n",
        "X_train, X_test, y_train, y_test = train_test_split(X, y, test_size=0.3, random_state=42)\n",
        "\n",
        "# Initialize the Gaussian Naive Bayes classifier\n",
        "gnb = GaussianNB()\n",
        "\n",
        "# Train the classifier\n",
        "gnb.fit(X_train, y_train)\n",
        "\n",
        "# Make predictions on the test set\n",
        "y_pred = gnb.predict(X_test)\n",
        "\n",
        "# Calculate accuracy of the model\n",
        "accuracy = accuracy_score(y_test, y_pred)\n",
        "\n",
        "# Print the accuracy\n",
        "print(f\"Accuracy of the Gaussian Naïve Bayes classifier: {accuracy * 100:.2f}%\")\n"
      ],
      "metadata": {
        "colab": {
          "base_uri": "https://localhost:8080/"
        },
        "id": "v98KUAi8ISAM",
        "outputId": "f9b1f40e-285b-47c7-ede0-67235bc2373a"
      },
      "execution_count": 5,
      "outputs": [
        {
          "output_type": "stream",
          "name": "stdout",
          "text": [
            "Accuracy of the Gaussian Naïve Bayes classifier: 94.15%\n"
          ]
        }
      ]
    },
    {
      "cell_type": "markdown",
      "source": [
        "**Q26. Write a Python program to train a Multinomial Naïve Bayes classifier for text classification using the 20 Newsgroups dataset.**"
      ],
      "metadata": {
        "id": "-3Ueo6whIyJr"
      }
    },
    {
      "cell_type": "code",
      "source": [
        "# Import necessary libraries\n",
        "from sklearn.datasets import fetch_20newsgroups\n",
        "from sklearn.model_selection import train_test_split\n",
        "from sklearn.feature_extraction.text import TfidfVectorizer\n",
        "from sklearn.naive_bayes import MultinomialNB\n",
        "from sklearn.metrics import accuracy_score\n",
        "\n",
        "# Load the 20 Newsgroups dataset\n",
        "newsgroups = fetch_20newsgroups(subset='all')  # Load all categories\n",
        "\n",
        "# Split the dataset into training and testing sets\n",
        "X_train, X_test, y_train, y_test = train_test_split(newsgroups.data, newsgroups.target, test_size=0.3, random_state=42)\n",
        "\n",
        "# Convert the text data into TF-IDF features\n",
        "vectorizer = TfidfVectorizer(stop_words='english')  # Remove English stop words\n",
        "X_train_tfidf = vectorizer.fit_transform(X_train)\n",
        "X_test_tfidf = vectorizer.transform(X_test)\n",
        "\n",
        "# Initialize and train the Multinomial Naive Bayes classifier\n",
        "nb_classifier = MultinomialNB()\n",
        "nb_classifier.fit(X_train_tfidf, y_train)\n",
        "\n",
        "# Make predictions on the test set\n",
        "y_pred = nb_classifier.predict(X_test_tfidf)\n",
        "\n",
        "# Calculate accuracy of the model\n",
        "accuracy = accuracy_score(y_test, y_pred)\n",
        "\n",
        "# Print the accuracy\n",
        "print(f\"Accuracy of the Multinomial Naïve Bayes classifier: {accuracy * 100:.2f}%\")\n"
      ],
      "metadata": {
        "colab": {
          "base_uri": "https://localhost:8080/"
        },
        "id": "sXtZm9qXIw57",
        "outputId": "fa3ef3fd-f409-4542-b20c-77e363948d9e"
      },
      "execution_count": 6,
      "outputs": [
        {
          "output_type": "stream",
          "name": "stdout",
          "text": [
            "Accuracy of the Multinomial Naïve Bayes classifier: 87.34%\n"
          ]
        }
      ]
    },
    {
      "cell_type": "markdown",
      "source": [
        "**Q27. Write a Python program to train an SVM Classifier with different C values and compare the decision boundaries visually.**"
      ],
      "metadata": {
        "id": "g2IvLEzSI4IK"
      }
    },
    {
      "cell_type": "code",
      "source": [
        "\n",
        "# Import necessary libraries\n",
        "import numpy as np\n",
        "import matplotlib.pyplot as plt\n",
        "from sklearn.svm import SVC\n",
        "from sklearn.datasets import make_circles\n",
        "from sklearn.model_selection import train_test_split\n",
        "from sklearn.preprocessing import StandardScaler\n",
        "\n",
        "# Create a synthetic 2D dataset using make_circles\n",
        "X, y = make_circles(n_samples=100, factor=0.5, noise=0.1)\n",
        "\n",
        "# Split the dataset into training and testing sets\n",
        "X_train, X_test, y_train, y_test = train_test_split(X, y, test_size=0.3, random_state=42)\n",
        "\n",
        "# Standardize the features\n",
        "scaler = StandardScaler()\n",
        "X_train_scaled = scaler.fit_transform(X_train)\n",
        "X_test_scaled = scaler.transform(X_test)\n",
        "\n",
        "# Define different values for C (regularization parameter)\n",
        "C_values = [0.1, 1, 10]\n",
        "\n",
        "# Create a mesh grid to visualize the decision boundaries\n",
        "xx, yy = np.meshgrid(np.linspace(X_train_scaled[:, 0].min() - 1, X_train_scaled[:, 0].max() + 1, 100),\n",
        "                     np.linspace(X_train_scaled[:, 1].min() - 1, X_train_scaled[:, 1].max() + 1, 100))\n",
        "\n",
        "# Plot decision boundaries for different C values\n",
        "plt.figure(figsize=(15, 5))\n",
        "\n",
        "for i, C in enumerate(C_values, 1):\n",
        "    # Initialize and train the SVM classifier with the current C value\n",
        "    svm = SVC(kernel='rbf', C=C)\n",
        "    svm.fit(X_train_scaled, y_train)\n",
        "\n",
        "    # Make predictions on the mesh grid points\n",
        "    Z = svm.predict(np.c_[xx.ravel(), yy.ravel()])\n",
        "    Z = Z.reshape(xx.shape)\n",
        "\n",
        "    # Create a subplot for each C value\n",
        "    plt.subplot(1, len(C_values), i)\n",
        "    plt.contourf(xx, yy, Z, alpha=0.75, cmap='coolwarm')  # Decision boundary\n",
        "    plt.scatter(X_train_scaled[:, 0], X_train_scaled[:, 1], c=y_train, edgecolors='k', marker='o', cmap='coolwarm', label='Train Data')\n",
        "    plt.scatter(X_test_scaled[:, 0], X_test_scaled[:, 1], c=y_test, edgecolors='k', marker='^', cmap='coolwarm', label='Test Data')\n",
        "    plt.title(f\"SVM Classifier with C={C}\")\n",
        "    plt.xlabel(\"Feature 1\")\n",
        "    plt.ylabel(\"Feature 2\")\n",
        "    plt.legend()\n",
        "\n",
        "# Show the plots\n",
        "plt.tight_layout()\n",
        "plt.show()\n",
        "\n",
        "\n"
      ],
      "metadata": {
        "colab": {
          "base_uri": "https://localhost:8080/",
          "height": 482
        },
        "id": "Jys8h-vvI2nq",
        "outputId": "0c0eae21-892f-47b7-f106-40fde72783aa"
      },
      "execution_count": 7,
      "outputs": [
        {
          "output_type": "display_data",
          "data": {
            "text/plain": [
              "<Figure size 1500x500 with 3 Axes>"
            ],
            "image/png": "[encoded data removed]"
          },
          "metadata": {}
        }
      ]
    },
    {
      "cell_type": "markdown",
      "source": [
        "**Q28. Write a Python program to train a Bernoulli Naïve Bayes classifier for binary classification on a dataset with binary features.**"
      ],
      "metadata": {
        "id": "QsOGapbYI-Bx"
      }
    },
    {
      "cell_type": "code",
      "source": [
        "# Import necessary libraries\n",
        "import numpy as np\n",
        "from sklearn.model_selection import train_test_split\n",
        "from sklearn.naive_bayes import BernoulliNB\n",
        "from sklearn.metrics import accuracy_score\n",
        "from sklearn.datasets import make_classification\n",
        "\n",
        "# Generate a synthetic dataset with binary features for binary classification\n",
        "X, y = make_classification(n_samples=1000, n_features=10, n_informative=5, n_redundant=0,\n",
        "                           n_classes=2, random_state=42, flip_y=0, class_sep=1,\n",
        "                           n_clusters_per_class=1)\n",
        "\n",
        "# Convert the features to binary (0 or 1) by applying thresholding (for Bernoulli Naïve Bayes)\n",
        "X_binary = (X > 0).astype(int)\n",
        "\n",
        "# Split the dataset into training and testing sets\n",
        "X_train, X_test, y_train, y_test = train_test_split(X_binary, y, test_size=0.3, random_state=42)\n",
        "\n",
        "# Initialize the Bernoulli Naive Bayes classifier\n",
        "bnb_classifier = BernoulliNB()\n",
        "\n",
        "# Train the classifier\n",
        "bnb_classifier.fit(X_train, y_train)\n",
        "\n",
        "# Make predictions on the test set\n",
        "y_pred = bnb_classifier.predict(X_test)\n",
        "\n",
        "# Calculate accuracy of the model\n",
        "accuracy = accuracy_score(y_test, y_pred)\n",
        "\n",
        "# Print the accuracy\n",
        "print(f\"Accuracy of the Bernoulli Naïve Bayes classifier: {accuracy * 100:.2f}%\")\n"
      ],
      "metadata": {
        "colab": {
          "base_uri": "https://localhost:8080/"
        },
        "id": "LuZ4tehcI8hj",
        "outputId": "b7208c1f-296b-4412-f585-b506a8fea418"
      },
      "execution_count": 8,
      "outputs": [
        {
          "output_type": "stream",
          "name": "stdout",
          "text": [
            "Accuracy of the Bernoulli Naïve Bayes classifier: 92.67%\n"
          ]
        }
      ]
    },
    {
      "cell_type": "markdown",
      "source": [
        "**Q29. Write a Python program to apply feature scaling before training an SVM model and compare results with unscaled data.**"
      ],
      "metadata": {
        "id": "EGcgxMKkJE5q"
      }
    },
    {
      "cell_type": "code",
      "source": [
        "# Import necessary libraries\n",
        "import numpy as np\n",
        "import matplotlib.pyplot as plt\n",
        "from sklearn import datasets\n",
        "from sklearn.model_selection import train_test_split\n",
        "from sklearn.svm import SVC\n",
        "from sklearn.preprocessing import StandardScaler\n",
        "from sklearn.metrics import accuracy_score\n",
        "\n",
        "# Load the Iris dataset\n",
        "iris = datasets.load_iris()\n",
        "X = iris.data  # Features\n",
        "y = iris.target  # Labels\n",
        "\n",
        "# Split the dataset into training and testing sets\n",
        "X_train, X_test, y_train, y_test = train_test_split(X, y, test_size=0.3, random_state=42)\n",
        "\n",
        "# Initialize the SVM classifier (using linear kernel)\n",
        "svm = SVC(kernel='linear')\n",
        "\n",
        "# Train and evaluate on unscaled data\n",
        "svm.fit(X_train, y_train)\n",
        "y_pred_unscaled = svm.predict(X_test)\n",
        "accuracy_unscaled = accuracy_score(y_test, y_pred_unscaled)\n",
        "\n",
        "# Feature Scaling: Standardize the data\n",
        "scaler = StandardScaler()\n",
        "X_train_scaled = scaler.fit_transform(X_train)\n",
        "X_test_scaled = scaler.transform(X_test)\n",
        "\n",
        "# Train and evaluate on scaled data\n",
        "svm.fit(X_train_scaled, y_train)\n",
        "y_pred_scaled = svm.predict(X_test_scaled)\n",
        "accuracy_scaled = accuracy_score(y_test, y_pred_scaled)\n",
        "\n",
        "# Print the accuracy of the models\n",
        "print(f\"Accuracy with unscaled data: {accuracy_unscaled * 100:.2f}%\")\n",
        "print(f\"Accuracy with scaled data: {accuracy_scaled * 100:.2f}%\")\n",
        "\n",
        "# Optional: Plot to visually compare the effects of scaling\n",
        "# Create a 2D plot for the first two features (sepal length and sepal width)\n",
        "fig, ax = plt.subplots(1, 2, figsize=(14, 6))\n",
        "\n",
        "# Plot for unscaled data\n",
        "ax[0].scatter(X_test[:, 0], X_test[:, 1], c=y_test, cmap='coolwarm', marker='o')\n",
        "ax[0].set_title('SVM on Unscaled Data')\n",
        "ax[0].set_xlabel('Sepal Length')\n",
        "ax[0].set_ylabel('Sepal Width')\n",
        "\n",
        "# Plot for scaled data\n",
        "ax[1].scatter(X_test_scaled[:, 0], X_test_scaled[:, 1], c=y_test, cmap='coolwarm', marker='o')\n",
        "ax[1].set_title('SVM on Scaled Data')\n",
        "ax[1].set_xlabel('Sepal Length')\n",
        "ax[1].set_ylabel('Sepal Width')\n",
        "\n",
        "plt.tight_layout()\n",
        "plt.show()\n"
      ],
      "metadata": {
        "colab": {
          "base_uri": "https://localhost:8080/",
          "height": 642
        },
        "id": "4Nmy7t_VJDyM",
        "outputId": "8c14ca24-8aeb-4118-cd78-6eea097cdd46"
      },
      "execution_count": 9,
      "outputs": [
        {
          "output_type": "stream",
          "name": "stdout",
          "text": [
            "Accuracy with unscaled data: 100.00%\n",
            "Accuracy with scaled data: 97.78%\n"
          ]
        },
        {
          "output_type": "display_data",
          "data": {
            "text/plain": [
              "<Figure size 1400x600 with 2 Axes>"
            ],
            "image/png": "[encoded data removed]"
          },
          "metadata": {}
        }
      ]
    },
    {
      "cell_type": "markdown",
      "source": [
        "**Q30. Write a Python program to train a Gaussian Naïve Bayes model and compare the predictions before and after Laplace Smoothing.**"
      ],
      "metadata": {
        "id": "Euu6IvYPKI5K"
      }
    },
    {
      "cell_type": "code",
      "source": [
        "# Import necessary libraries\n",
        "import numpy as np\n",
        "from sklearn import datasets\n",
        "from sklearn.model_selection import train_test_split\n",
        "from sklearn.naive_bayes import GaussianNB\n",
        "from sklearn.metrics import accuracy_score\n",
        "from sklearn.preprocessing import StandardScaler\n",
        "\n",
        "# Load the Iris dataset\n",
        "iris = datasets.load_iris()\n",
        "X = iris.data  # Features\n",
        "y = iris.target  # Labels\n",
        "\n",
        "# Split the dataset into training and testing sets\n",
        "X_train, X_test, y_train, y_test = train_test_split(X, y, test_size=0.3, random_state=42)\n",
        "\n",
        "# Standardize the features (important for GaussianNB)\n",
        "scaler = StandardScaler()\n",
        "X_train_scaled = scaler.fit_transform(X_train)\n",
        "X_test_scaled = scaler.transform(X_test)\n",
        "\n",
        "# Initialize the Gaussian Naive Bayes classifier (no smoothing by default)\n",
        "gnb_no_smoothing = GaussianNB()\n",
        "\n",
        "# Train the model on the training data without smoothing\n",
        "gnb_no_smoothing.fit(X_train_scaled, y_train)\n",
        "\n",
        "# Make predictions on the test set without smoothing\n",
        "y_pred_no_smoothing = gnb_no_smoothing.predict(X_test_scaled)\n",
        "\n",
        "# Apply Laplace smoothing by adding a small value (epsilon) to the priors or likelihoods.\n",
        "# Although GaussianNB doesn't have an explicit Laplace smoothing parameter, we can simulate smoothing\n",
        "# by adjusting the variance slightly. This approach can be used to simulate the effect of smoothing.\n",
        "gnb_with_smoothing = GaussianNB(var_smoothing=1e-9)  # Adding very small value to the variance\n",
        "\n",
        "# Train the model on the training data with Laplace smoothing\n",
        "gnb_with_smoothing.fit(X_train_scaled, y_train)\n",
        "\n",
        "# Make predictions on the test set with smoothing\n",
        "y_pred_with_smoothing = gnb_with_smoothing.predict(X_test_scaled)\n",
        "\n",
        "# Calculate accuracy for both models\n",
        "accuracy_no_smoothing = accuracy_score(y_test, y_pred_no_smoothing)\n",
        "accuracy_with_smoothing = accuracy_score(y_test, y_pred_with_smoothing)\n",
        "\n",
        "# Print the accuracies\n",
        "print(f\"Accuracy without smoothing: {accuracy_no_smoothing * 100:.2f}%\")\n",
        "print(f\"Accuracy with smoothing (Laplace): {accuracy_with_smoothing * 100:.2f}%\")\n",
        "\n",
        "# Compare the predictions before and after Laplace smoothing\n",
        "comparison = np.vstack((y_pred_no_smoothing, y_pred_with_smoothing)).T\n",
        "print(\"\\nComparison of Predictions (before and after smoothing):\")\n",
        "print(comparison)\n"
      ],
      "metadata": {
        "colab": {
          "base_uri": "https://localhost:8080/"
        },
        "id": "HsXS7rRWJIvY",
        "outputId": "37a362d0-f01e-47a4-a33c-6ea370aff60b"
      },
      "execution_count": 10,
      "outputs": [
        {
          "output_type": "stream",
          "name": "stdout",
          "text": [
            "Accuracy without smoothing: 97.78%\n",
            "Accuracy with smoothing (Laplace): 97.78%\n",
            "\n",
            "Comparison of Predictions (before and after smoothing):\n",
            "[[1 1]\n",
            " [0 0]\n",
            " [2 2]\n",
            " [1 1]\n",
            " [1 1]\n",
            " [0 0]\n",
            " [1 1]\n",
            " [2 2]\n",
            " [1 1]\n",
            " [1 1]\n",
            " [2 2]\n",
            " [0 0]\n",
            " [0 0]\n",
            " [0 0]\n",
            " [0 0]\n",
            " [2 2]\n",
            " [2 2]\n",
            " [1 1]\n",
            " [1 1]\n",
            " [2 2]\n",
            " [0 0]\n",
            " [2 2]\n",
            " [0 0]\n",
            " [2 2]\n",
            " [2 2]\n",
            " [2 2]\n",
            " [2 2]\n",
            " [2 2]\n",
            " [0 0]\n",
            " [0 0]\n",
            " [0 0]\n",
            " [0 0]\n",
            " [1 1]\n",
            " [0 0]\n",
            " [0 0]\n",
            " [2 2]\n",
            " [1 1]\n",
            " [0 0]\n",
            " [0 0]\n",
            " [0 0]\n",
            " [2 2]\n",
            " [1 1]\n",
            " [1 1]\n",
            " [0 0]\n",
            " [0 0]]\n"
          ]
        }
      ]
    },
    {
      "cell_type": "markdown",
      "source": [
        "\n",
        "**Q31. Write a Python program to train an SVM Classifier and use GridSearchCV to tune the hyperparameters (C, gamma, kernel).**"
      ],
      "metadata": {
        "id": "jZVhQmrLKPSy"
      }
    },
    {
      "cell_type": "code",
      "source": [
        "# Import necessary libraries\n",
        "import numpy as np\n",
        "from sklearn import datasets\n",
        "from sklearn.model_selection import train_test_split, GridSearchCV\n",
        "from sklearn.svm import SVC\n",
        "from sklearn.preprocessing import StandardScaler\n",
        "from sklearn.metrics import accuracy_score\n",
        "\n",
        "# Load the Iris dataset\n",
        "iris = datasets.load_iris()\n",
        "X = iris.data  # Features\n",
        "y = iris.target  # Labels\n",
        "\n",
        "# Split the dataset into training and testing sets\n",
        "X_train, X_test, y_train, y_test = train_test_split(X, y, test_size=0.3, random_state=42)\n",
        "\n",
        "# Standardize the features (important for SVM)\n",
        "scaler = StandardScaler()\n",
        "X_train_scaled = scaler.fit_transform(X_train)\n",
        "X_test_scaled = scaler.transform(X_test)\n",
        "\n",
        "# Initialize the SVM classifier\n",
        "svm = SVC()\n",
        "\n",
        "# Define the hyperparameters grid for GridSearchCV\n",
        "param_grid = {\n",
        "    'C': [0.1, 1, 10, 100],              # Regularization parameter\n",
        "    'gamma': [0.001, 0.01, 0.1, 1],      # Kernel coefficient for 'rbf', 'poly' kernels\n",
        "    'kernel': ['linear', 'rbf', 'poly']  # Different kernel functions\n",
        "}\n",
        "\n",
        "# Initialize GridSearchCV with cross-validation\n",
        "grid_search = GridSearchCV(estimator=svm, param_grid=param_grid, cv=5, n_jobs=-1, verbose=1)\n",
        "\n",
        "# Train the model using GridSearchCV\n",
        "grid_search.fit(X_train_scaled, y_train)\n",
        "\n",
        "# Get the best parameters found by GridSearchCV\n",
        "best_params = grid_search.best_params_\n",
        "\n",
        "# Print the best hyperparameters\n",
        "print(\"Best hyperparameters found by GridSearchCV:\", best_params)\n",
        "\n",
        "# Make predictions using the best model\n",
        "best_model = grid_search.best_estimator_\n",
        "y_pred = best_model.predict(X_test_scaled)\n",
        "\n",
        "# Calculate accuracy\n",
        "accuracy = accuracy_score(y_test, y_pred)\n",
        "\n",
        "# Print the accuracy of the best model\n",
        "print(f\"Accuracy of the best SVM model: {accuracy * 100:.2f}%\")"
      ],
      "metadata": {
        "colab": {
          "base_uri": "https://localhost:8080/"
        },
        "id": "EKCjMEXkKNMy",
        "outputId": "5c01438c-927b-49d1-84c1-bcb781a9e8cb"
      },
      "execution_count": 11,
      "outputs": [
        {
          "output_type": "stream",
          "name": "stdout",
          "text": [
            "Fitting 5 folds for each of 48 candidates, totalling 240 fits\n",
            "Best hyperparameters found by GridSearchCV: {'C': 0.1, 'gamma': 1, 'kernel': 'poly'}\n",
            "Accuracy of the best SVM model: 97.78%\n"
          ]
        }
      ]
    },
    {
      "cell_type": "markdown",
      "source": [
        "**Q32. Write a Python program to train an SVM Classifier on an imbalanced dataset and apply class weighting and check it improve accuracy.**"
      ],
      "metadata": {
        "id": "bCPqXvARKVDS"
      }
    },
    {
      "cell_type": "code",
      "source": [
        "# Import necessary libraries\n",
        "import numpy as np\n",
        "from sklearn.model_selection import train_test_split\n",
        "from sklearn.svm import SVC\n",
        "from sklearn.datasets import make_classification\n",
        "from sklearn.metrics import accuracy_score, classification_report\n",
        "\n",
        "# Create an imbalanced dataset using make_classification\n",
        "X, y = make_classification(n_samples=1000, n_features=20, n_classes=2,\n",
        "                           n_informative=2, n_redundant=10, random_state=42,\n",
        "                           weights=[0.1, 0.9])  # Class imbalance (90% of class 1, 10% of class 0)\n",
        "\n",
        "# Split the dataset into training and testing sets\n",
        "X_train, X_test, y_train, y_test = train_test_split(X, y, test_size=0.3, random_state=42)\n",
        "\n",
        "# Initialize the SVM classifier (without class weights)\n",
        "svm_no_weights = SVC(kernel='linear', class_weight=None)\n",
        "\n",
        "# Train the SVM classifier without class weighting\n",
        "svm_no_weights.fit(X_train, y_train)\n",
        "\n",
        "# Make predictions using the model without class weighting\n",
        "y_pred_no_weights = svm_no_weights.predict(X_test)\n",
        "\n",
        "# Calculate accuracy and classification report for the model without class weighting\n",
        "accuracy_no_weights = accuracy_score(y_test, y_pred_no_weights)\n",
        "report_no_weights = classification_report(y_test, y_pred_no_weights)\n",
        "\n",
        "# Initialize the SVM classifier (with class weights)\n",
        "svm_with_weights = SVC(kernel='linear', class_weight='balanced')  # Automatically adjusts weights inversely proportional to class frequencies\n",
        "\n",
        "# Train the SVM classifier with class weighting\n",
        "svm_with_weights.fit(X_train, y_train)\n",
        "\n",
        "# Make predictions using the model with class weighting\n",
        "y_pred_with_weights = svm_with_weights.predict(X_test)\n",
        "\n",
        "# Calculate accuracy and classification report for the model with class weighting\n",
        "accuracy_with_weights = accuracy_score(y_test, y_pred_with_weights)\n",
        "report_with_weights = classification_report(y_test, y_pred_with_weights)\n",
        "\n",
        "# Print the accuracy and classification report for both models\n",
        "print(f\"Accuracy without class weighting: {accuracy_no_weights * 100:.2f}%\")\n",
        "print(\"Classification Report (No Class Weighting):\")\n",
        "print(report_no_weights)\n",
        "\n",
        "print(f\"Accuracy with class weighting: {accuracy_with_weights * 100:.2f}%\")\n",
        "print(\"Classification Report (With Class Weighting):\")\n",
        "print(report_with_weights)\n"
      ],
      "metadata": {
        "colab": {
          "base_uri": "https://localhost:8080/"
        },
        "id": "FFe7xIkTKbZy",
        "outputId": "d3142d62-4e23-4f9a-c264-9ce211949d5b"
      },
      "execution_count": 12,
      "outputs": [
        {
          "output_type": "stream",
          "name": "stdout",
          "text": [
            "Accuracy without class weighting: 93.33%\n",
            "Classification Report (No Class Weighting):\n",
            "              precision    recall  f1-score   support\n",
            "\n",
            "           0       0.82      0.45      0.58        31\n",
            "           1       0.94      0.99      0.96       269\n",
            "\n",
            "    accuracy                           0.93       300\n",
            "   macro avg       0.88      0.72      0.77       300\n",
            "weighted avg       0.93      0.93      0.92       300\n",
            "\n",
            "Accuracy with class weighting: 81.67%\n",
            "Classification Report (With Class Weighting):\n",
            "              precision    recall  f1-score   support\n",
            "\n",
            "           0       0.32      0.68      0.43        31\n",
            "           1       0.96      0.83      0.89       269\n",
            "\n",
            "    accuracy                           0.82       300\n",
            "   macro avg       0.64      0.76      0.66       300\n",
            "weighted avg       0.89      0.82      0.84       300\n",
            "\n"
          ]
        }
      ]
    },
    {
      "cell_type": "markdown",
      "source": [
        "**Q33. Write a Python program to implement a Naïve Bayes classifier for spam detection using email data.**"
      ],
      "metadata": {
        "id": "txxChiY3Ke-K"
      }
    },
    {
      "cell_type": "code",
      "source": [
        "# Import necessary libraries\n",
        "import pandas as pd\n",
        "from sklearn.model_selection import train_test_split\n",
        "from sklearn.feature_extraction.text import CountVectorizer\n",
        "from sklearn.naive_bayes import MultinomialNB\n",
        "from sklearn.metrics import accuracy_score, classification_report\n",
        "\n",
        "# Load the SMS Spam Collection dataset (you can load your own dataset if needed)\n",
        "url = 'https://archive.ics.uci.edu/ml/machine-learning-databases/00228/smsspamcollection.zip'\n",
        "\n",
        "# Read the dataset from a URL or a local file\n",
        "data = pd.read_csv('SMSSpamCollection', sep='\\t', header=None, names=['label', 'message'])\n",
        "\n",
        "# Preprocess the data: convert labels to binary\n",
        "data['label'] = data['label'].map({'ham': 0, 'spam': 1})\n",
        "\n",
        "# Split the data into features and target\n",
        "X = data['message']\n",
        "y = data['label']\n",
        "\n",
        "# Split the dataset into training and testing sets\n",
        "X_train, X_test, y_train, y_test = train_test_split(X, y, test_size=0.3, random_state=42)\n",
        "\n",
        "# Convert text data into numerical vectors using CountVectorizer\n",
        "vectorizer = CountVectorizer(stop_words='english')\n",
        "X_train_vectorized = vectorizer.fit_transform(X_train)\n",
        "X_test_vectorized = vectorizer.transform(X_test)\n",
        "\n",
        "# Initialize the Naïve Bayes classifier (Multinomial Naïve Bayes)\n",
        "nb = MultinomialNB()\n",
        "\n",
        "# Train the Naïve Bayes classifier\n",
        "nb.fit(X_train_vectorized, y_train)\n",
        "\n",
        "# Make predictions on the test set\n",
        "y_pred = nb.predict(X_test_vectorized)\n",
        "\n",
        "# Evaluate the model's performance\n",
        "accuracy = accuracy_score(y_test, y_pred)\n",
        "print(f\"Accuracy: {accuracy * 100:.2f}%\")\n",
        "\n",
        "# Print the classification report (precision, recall, F1-score)\n",
        "print(\"\\nClassification Report:\")\n",
        "print(classification_report(y_test, y_pred))\n"
      ],
      "metadata": {
        "id": "JiKwCKZQKgoL"
      },
      "execution_count": null,
      "outputs": []
    },
    {
      "cell_type": "markdown",
      "source": [
        "\n",
        "**Q34. Write a Python program to train an SVM Classifier and a Naïve Bayes Classifier on the same dataset and compare their accuracy.**"
      ],
      "metadata": {
        "id": "ETOHDprqKshD"
      }
    },
    {
      "cell_type": "code",
      "source": [
        "# Import necessary libraries\n",
        "import numpy as np\n",
        "import pandas as pd\n",
        "from sklearn import datasets\n",
        "from sklearn.model_selection import train_test_split\n",
        "from sklearn.svm import SVC\n",
        "from sklearn.naive_bayes import GaussianNB\n",
        "from sklearn.metrics import accuracy_score\n",
        "\n",
        "# Load the Iris dataset\n",
        "iris = datasets.load_iris()\n",
        "X = iris.data  # Features\n",
        "y = iris.target  # Labels\n",
        "\n",
        "# Split the dataset into training and testing sets\n",
        "X_train, X_test, y_train, y_test = train_test_split(X, y, test_size=0.3, random_state=42)\n",
        "\n",
        "# Train an SVM Classifier (Support Vector Machine)\n",
        "svm_classifier = SVC(kernel='linear', random_state=42)\n",
        "svm_classifier.fit(X_train, y_train)\n",
        "\n",
        "# Make predictions using the SVM classifier\n",
        "svm_predictions = svm_classifier.predict(X_test)\n",
        "\n",
        "# Train a Naïve Bayes Classifier\n",
        "nb_classifier = GaussianNB()\n",
        "nb_classifier.fit(X_train, y_train)\n",
        "\n",
        "# Make predictions using the Naïve Bayes classifier\n",
        "nb_predictions = nb_classifier.predict(X_test)\n",
        "\n",
        "# Evaluate the performance of both classifiers using accuracy\n",
        "svm_accuracy = accuracy_score(y_test, svm_predictions)\n",
        "nb_accuracy = accuracy_score(y_test, nb_predictions)\n",
        "\n",
        "# Print the accuracy of both models\n",
        "print(f\"Accuracy of SVM Classifier: {svm_accuracy * 100:.2f}%\")\n",
        "print(f\"Accuracy of Naïve Bayes Classifier: {nb_accuracy * 100:.2f}%\")\n"
      ],
      "metadata": {
        "colab": {
          "base_uri": "https://localhost:8080/"
        },
        "id": "RcfFRpqbKu1L",
        "outputId": "818c091e-8b3c-40f7-ee55-30428cd62892"
      },
      "execution_count": 15,
      "outputs": [
        {
          "output_type": "stream",
          "name": "stdout",
          "text": [
            "Accuracy of SVM Classifier: 100.00%\n",
            "Accuracy of Naïve Bayes Classifier: 97.78%\n"
          ]
        }
      ]
    },
    {
      "cell_type": "markdown",
      "source": [
        "**Q35. Write a Python program to perform feature selection before training a Naïve Bayes classifier and compare results.**"
      ],
      "metadata": {
        "id": "dVDs8qdjK0zT"
      }
    },
    {
      "cell_type": "code",
      "source": [
        "# Import necessary libraries\n",
        "import numpy as np\n",
        "import pandas as pd\n",
        "from sklearn import datasets\n",
        "from sklearn.model_selection import train_test_split\n",
        "from sklearn.naive_bayes import GaussianNB\n",
        "from sklearn.feature_selection import SelectKBest, f_classif\n",
        "from sklearn.metrics import accuracy_score\n",
        "\n",
        "# Load the Iris dataset\n",
        "iris = datasets.load_iris()\n",
        "X = iris.data  # Features\n",
        "y = iris.target  # Labels\n",
        "\n",
        "# Split the dataset into training and testing sets\n",
        "X_train, X_test, y_train, y_test = train_test_split(X, y, test_size=0.3, random_state=42)\n",
        "\n",
        "# Train a Naïve Bayes classifier using all features\n",
        "nb_classifier_all_features = GaussianNB()\n",
        "nb_classifier_all_features.fit(X_train, y_train)\n",
        "\n",
        "# Make predictions and evaluate accuracy using all features\n",
        "y_pred_all_features = nb_classifier_all_features.predict(X_test)\n",
        "accuracy_all_features = accuracy_score(y_test, y_pred_all_features)\n",
        "\n",
        "# Perform feature selection using SelectKBest (select top 2 features based on ANOVA F-test)\n",
        "selector = SelectKBest(f_classif, k=2)  # Select top 2 features\n",
        "X_train_selected = selector.fit_transform(X_train, y_train)\n",
        "X_test_selected = selector.transform(X_test)\n",
        "\n",
        "# Train a Naïve Bayes classifier using the selected features\n",
        "nb_classifier_selected_features = GaussianNB()\n",
        "nb_classifier_selected_features.fit(X_train_selected, y_train)\n",
        "\n",
        "# Make predictions and evaluate accuracy using the selected features\n",
        "y_pred_selected_features = nb_classifier_selected_features.predict(X_test_selected)\n",
        "accuracy_selected_features = accuracy_score(y_test, y_pred_selected_features)\n",
        "\n",
        "# Print the accuracy of both models\n",
        "print(f\"Accuracy of Naïve Bayes with all features: {accuracy_all_features * 100:.2f}%\")\n",
        "print(f\"Accuracy of Naïve Bayes with selected features: {accuracy_selected_features * 100:.2f}%\")\n"
      ],
      "metadata": {
        "colab": {
          "base_uri": "https://localhost:8080/"
        },
        "id": "6hsADa7lK2jr",
        "outputId": "95fd3bdb-d227-43e8-a38e-07834c949fd7"
      },
      "execution_count": 16,
      "outputs": [
        {
          "output_type": "stream",
          "name": "stdout",
          "text": [
            "Accuracy of Naïve Bayes with all features: 97.78%\n",
            "Accuracy of Naïve Bayes with selected features: 100.00%\n"
          ]
        }
      ]
    },
    {
      "cell_type": "markdown",
      "source": [
        "**Q36. Write a Python program to train an SVM Classifier using One-vs-Rest (OvR) and One-vs-One (OvO) strategies on the Wine dataset and compare their accuracy.**"
      ],
      "metadata": {
        "id": "_4PGncs_K7lq"
      }
    },
    {
      "cell_type": "code",
      "source": [
        "# Import necessary libraries\n",
        "import numpy as np\n",
        "from sklearn import datasets\n",
        "from sklearn.model_selection import train_test_split\n",
        "from sklearn.svm import SVC\n",
        "from sklearn.multiclass import OneVsRestClassifier, OneVsOneClassifier\n",
        "from sklearn.metrics import accuracy_score\n",
        "\n",
        "# Load the Wine dataset\n",
        "wine = datasets.load_wine()\n",
        "X = wine.data  # Features\n",
        "y = wine.target  # Labels\n",
        "\n",
        "# Split the dataset into training and testing sets\n",
        "X_train, X_test, y_train, y_test = train_test_split(X, y, test_size=0.3, random_state=42)\n",
        "\n",
        "# Train the SVM Classifier using One-vs-Rest (OvR) strategy\n",
        "svm_ovr = OneVsRestClassifier(SVC(kernel='linear', random_state=42))\n",
        "svm_ovr.fit(X_train, y_train)\n",
        "\n",
        "# Make predictions and evaluate accuracy using OvR\n",
        "y_pred_ovr = svm_ovr.predict(X_test)\n",
        "accuracy_ovr = accuracy_score(y_test, y_pred_ovr)\n",
        "\n",
        "# Train the SVM Classifier using One-vs-One (OvO) strategy\n",
        "svm_ovo = OneVsOneClassifier(SVC(kernel='linear', random_state=42))\n",
        "svm_ovo.fit(X_train, y_train)\n",
        "\n",
        "# Make predictions and evaluate accuracy using OvO\n",
        "y_pred_ovo = svm_ovo.predict(X_test)\n",
        "accuracy_ovo = accuracy_score(y_test, y_pred_ovo)\n",
        "\n",
        "# Print the accuracy of both models\n",
        "print(f\"Accuracy of SVM with One-vs-Rest (OvR): {accuracy_ovr * 100:.2f}%\")\n",
        "print(f\"Accuracy of SVM with One-vs-One (OvO): {accuracy_ovo * 100:.2f}%\")"
      ],
      "metadata": {
        "colab": {
          "base_uri": "https://localhost:8080/"
        },
        "id": "aPdKaNHtK9kU",
        "outputId": "f899e04c-0fe7-48a9-fc73-72d22d72861b"
      },
      "execution_count": 17,
      "outputs": [
        {
          "output_type": "stream",
          "name": "stdout",
          "text": [
            "Accuracy of SVM with One-vs-Rest (OvR): 98.15%\n",
            "Accuracy of SVM with One-vs-One (OvO): 98.15%\n"
          ]
        }
      ]
    },
    {
      "cell_type": "markdown",
      "source": [
        "**Q37. Write a Python program to train an SVM Classifier using Linear, Polynomial, and RBF kernels on the Breast Cancer dataset and compare their accuracy.**"
      ],
      "metadata": {
        "id": "M4kV77MfLBTi"
      }
    },
    {
      "cell_type": "code",
      "source": [
        "# Import necessary libraries\n",
        "import numpy as np\n",
        "from sklearn import datasets\n",
        "from sklearn.model_selection import train_test_split\n",
        "from sklearn.svm import SVC\n",
        "from sklearn.metrics import accuracy_score\n",
        "\n",
        "# Load the Breast Cancer dataset\n",
        "cancer = datasets.load_breast_cancer()\n",
        "X = cancer.data  # Features\n",
        "y = cancer.target  # Labels\n",
        "\n",
        "# Split the dataset into training and testing sets (70% training, 30% testing)\n",
        "X_train, X_test, y_train, y_test = train_test_split(X, y, test_size=0.3, random_state=42)\n",
        "\n",
        "# Initialize and train the SVM Classifier with a Linear kernel\n",
        "svm_linear = SVC(kernel='linear', random_state=42)\n",
        "svm_linear.fit(X_train, y_train)\n",
        "y_pred_linear = svm_linear.predict(X_test)\n",
        "accuracy_linear = accuracy_score(y_test, y_pred_linear)\n",
        "\n",
        "# Initialize and train the SVM Classifier with a Polynomial kernel (degree=3)\n",
        "svm_poly = SVC(kernel='poly', degree=3, random_state=42)\n",
        "svm_poly.fit(X_train, y_train)\n",
        "y_pred_poly = svm_poly.predict(X_test)\n",
        "accuracy_poly = accuracy_score(y_test, y_pred_poly)\n",
        "\n",
        "# Initialize and train the SVM Classifier with an RBF kernel\n",
        "svm_rbf = SVC(kernel='rbf', random_state=42)\n",
        "svm_rbf.fit(X_train, y_train)\n",
        "y_pred_rbf = svm_rbf.predict(X_test)\n",
        "accuracy_rbf = accuracy_score(y_test, y_pred_rbf)\n",
        "\n",
        "# Print the accuracy of the models\n",
        "print(f\"Accuracy of SVM with Linear Kernel: {accuracy_linear * 100:.2f}%\")\n",
        "print(f\"Accuracy of SVM with Polynomial Kernel: {accuracy_poly * 100:.2f}%\")\n",
        "print(f\"Accuracy of SVM with RBF Kernel: {accuracy_rbf * 100:.2f}%\")\n"
      ],
      "metadata": {
        "colab": {
          "base_uri": "https://localhost:8080/"
        },
        "id": "ruqQSqu9LFey",
        "outputId": "c779fa67-2891-4652-ac42-14ecfb9d4a19"
      },
      "execution_count": 18,
      "outputs": [
        {
          "output_type": "stream",
          "name": "stdout",
          "text": [
            "Accuracy of SVM with Linear Kernel: 96.49%\n",
            "Accuracy of SVM with Polynomial Kernel: 94.15%\n",
            "Accuracy of SVM with RBF Kernel: 93.57%\n"
          ]
        }
      ]
    },
    {
      "cell_type": "markdown",
      "source": [
        "**Q38. Write a Python program to train an SVM Classifier using Stratified K-Fold Cross-Validation and compute the average accuracy.**"
      ],
      "metadata": {
        "id": "PvoI6fbMLIGS"
      }
    },
    {
      "cell_type": "code",
      "source": [
        "# Import necessary libraries\n",
        "import numpy as np\n",
        "from sklearn import datasets\n",
        "from sklearn.model_selection import StratifiedKFold\n",
        "from sklearn.svm import SVC\n",
        "from sklearn.metrics import accuracy_score\n",
        "\n",
        "# Load the Iris dataset\n",
        "iris = datasets.load_iris()\n",
        "X = iris.data  # Features\n",
        "y = iris.target  # Labels\n",
        "\n",
        "# Initialize StratifiedKFold with 5 splits\n",
        "skf = StratifiedKFold(n_splits=5, shuffle=True, random_state=42)\n",
        "\n",
        "# Initialize an SVM classifier\n",
        "svm_classifier = SVC(kernel='linear', random_state=42)\n",
        "\n",
        "# List to store the accuracy for each fold\n",
        "accuracies = []\n",
        "\n",
        "# Perform Stratified K-Fold Cross-Validation\n",
        "for train_index, test_index in skf.split(X, y):\n",
        "    # Split the data into training and testing sets for this fold\n",
        "    X_train, X_test = X[train_index], X[test_index]\n",
        "    y_train, y_test = y[train_index], y[test_index]\n",
        "\n",
        "    # Train the SVM classifier\n",
        "    svm_classifier.fit(X_train, y_train)\n",
        "\n",
        "    # Predict on the test set\n",
        "    y_pred = svm_classifier.predict(X_test)\n",
        "\n",
        "    # Compute accuracy for this fold and append to the list\n",
        "    accuracy = accuracy_score(y_test, y_pred)\n",
        "    accuracies.append(accuracy)\n",
        "\n",
        "# Compute the average accuracy across all folds\n",
        "average_accuracy = np.mean(accuracies)\n",
        "\n",
        "# Print the accuracy for each fold and the average accuracy\n",
        "print(f\"Accuracy for each fold: {accuracies}\")\n",
        "print(f\"Average accuracy: {average_accuracy * 100:.2f}%\")\n"
      ],
      "metadata": {
        "colab": {
          "base_uri": "https://localhost:8080/"
        },
        "id": "4GQjeqEmLLoi",
        "outputId": "82677cb1-cf91-490e-baf9-fb3017595dc3"
      },
      "execution_count": 19,
      "outputs": [
        {
          "output_type": "stream",
          "name": "stdout",
          "text": [
            "Accuracy for each fold: [1.0, 1.0, 0.9333333333333333, 1.0, 1.0]\n",
            "Average accuracy: 98.67%\n"
          ]
        }
      ]
    },
    {
      "cell_type": "markdown",
      "source": [
        "**Q39. Write a Python program to train a Naïve Bayes classifier using different prior probabilities and compare performance.**"
      ],
      "metadata": {
        "id": "Su4e-LxILNj2"
      }
    },
    {
      "cell_type": "code",
      "source": [
        "# Import necessary libraries\n",
        "import numpy as np\n",
        "from sklearn import datasets\n",
        "from sklearn.model_selection import train_test_split\n",
        "from sklearn.naive_bayes import GaussianNB\n",
        "from sklearn.metrics import accuracy_score\n",
        "\n",
        "# Load the Iris dataset\n",
        "iris = datasets.load_iris()\n",
        "X = iris.data  # Features\n",
        "y = iris.target  # Labels\n",
        "\n",
        "# Split the dataset into training and testing sets (70% training, 30% testing)\n",
        "X_train, X_test, y_train, y_test = train_test_split(X, y, test_size=0.3, random_state=42)\n",
        "\n",
        "# Define different prior probabilities\n",
        "priors_list = [\n",
        "    None,  # Default (equal priors)\n",
        "    [0.2, 0.3, 0.5],  # Custom priors\n",
        "    [0.1, 0.1, 0.8],  # Heavier prior on the third class\n",
        "    [0.4, 0.4, 0.2]   # Custom priors\n",
        "]\n",
        "\n",
        "# List to store results\n",
        "results = []\n",
        "\n",
        "# Train and evaluate the model for each set of priors\n",
        "for priors in priors_list:\n",
        "    # Initialize the Gaussian Naive Bayes classifier with the specified priors\n",
        "    model = GaussianNB(priors=priors)\n",
        "\n",
        "    # Train the model on the training data\n",
        "    model.fit(X_train, y_train)\n",
        "\n",
        "    # Make predictions on the test set\n",
        "    y_pred = model.predict(X_test)\n",
        "\n",
        "    # Compute accuracy\n",
        "    accuracy = accuracy_score(y_test, y_pred)\n",
        "\n",
        "    # Store the result\n",
        "    results.append((priors, accuracy))\n",
        "\n",
        "# Print the results\n",
        "for priors, accuracy in results:\n",
        "    print(f\"Priors: {priors}, Accuracy: {accuracy * 100:.2f}%\")\n"
      ],
      "metadata": {
        "colab": {
          "base_uri": "https://localhost:8080/"
        },
        "id": "cJBxe2knLPkc",
        "outputId": "647bc5a8-3afc-49d3-fb1d-f481f81af331"
      },
      "execution_count": 20,
      "outputs": [
        {
          "output_type": "stream",
          "name": "stdout",
          "text": [
            "Priors: None, Accuracy: 97.78%\n",
            "Priors: [0.2, 0.3, 0.5], Accuracy: 95.56%\n",
            "Priors: [0.1, 0.1, 0.8], Accuracy: 88.89%\n",
            "Priors: [0.4, 0.4, 0.2], Accuracy: 100.00%\n"
          ]
        }
      ]
    },
    {
      "cell_type": "markdown",
      "source": [
        "\n",
        "**Q40. Write a Python program to perform Recursive Feature Elimination (RFE) before training an SVM Classifier and compare accuracy.**"
      ],
      "metadata": {
        "id": "uFoLL53qLTBd"
      }
    },
    {
      "cell_type": "code",
      "source": [
        "# Import necessary libraries\n",
        "import numpy as np\n",
        "from sklearn import datasets\n",
        "from sklearn.model_selection import train_test_split\n",
        "from sklearn.svm import SVC\n",
        "from sklearn.feature_selection import RFE\n",
        "from sklearn.metrics import accuracy_score\n",
        "\n",
        "# Load the Iris dataset\n",
        "iris = datasets.load_iris()\n",
        "X = iris.data  # Features\n",
        "y = iris.target  # Labels\n",
        "\n",
        "# Split the dataset into training and testing sets (70% training, 30% testing)\n",
        "X_train, X_test, y_train, y_test = train_test_split(X, y, test_size=0.3, random_state=42)\n",
        "\n",
        "# 1. Train an SVM classifier without feature selection (on all features)\n",
        "svm_classifier_full = SVC(kernel='linear', random_state=42)\n",
        "svm_classifier_full.fit(X_train, y_train)\n",
        "\n",
        "# Predict on the test set\n",
        "y_pred_full = svm_classifier_full.predict(X_test)\n",
        "\n",
        "# Compute accuracy for the model without feature selection\n",
        "accuracy_full = accuracy_score(y_test, y_pred_full)\n",
        "\n",
        "# 2. Perform Recursive Feature Elimination (RFE) to select the most important features\n",
        "rfe = RFE(estimator=SVC(kernel='linear', random_state=42), n_features_to_select=2)  # Select 2 features\n",
        "X_train_rfe = rfe.fit_transform(X_train, y_train)\n",
        "X_test_rfe = rfe.transform(X_test)\n",
        "\n",
        "# Train an SVM classifier using the selected features from RFE\n",
        "svm_classifier_rfe = SVC(kernel='linear', random_state=42)\n",
        "svm_classifier_rfe.fit(X_train_rfe, y_train)\n",
        "\n",
        "# Predict on the test set\n",
        "y_pred_rfe = svm_classifier_rfe.predict(X_test_rfe)\n",
        "\n",
        "# Compute accuracy for the model with feature selection\n",
        "accuracy_rfe = accuracy_score(y_test, y_pred_rfe)\n",
        "\n",
        "# Print the results\n",
        "print(f\"Accuracy without feature selection: {accuracy_full * 100:.2f}%\")\n",
        "print(f\"Accuracy with feature selection (RFE): {accuracy_rfe * 100:.2f}%\")\n"
      ],
      "metadata": {
        "colab": {
          "base_uri": "https://localhost:8080/"
        },
        "id": "ucAOjbHALVzb",
        "outputId": "a93131c5-1ece-4d16-d748-7be59016568c"
      },
      "execution_count": 21,
      "outputs": [
        {
          "output_type": "stream",
          "name": "stdout",
          "text": [
            "Accuracy without feature selection: 100.00%\n",
            "Accuracy with feature selection (RFE): 100.00%\n"
          ]
        }
      ]
    },
    {
      "cell_type": "markdown",
      "source": [
        "**Q41. Write a Python program to train an SVM Classifier and evaluate its performance using Precision, Recall, and Fl-Score instead of accuracy.**"
      ],
      "metadata": {
        "id": "s4r023uvLaCa"
      }
    },
    {
      "cell_type": "code",
      "source": [
        "# Import necessary libraries\n",
        "import numpy as np\n",
        "from sklearn import datasets\n",
        "from sklearn.model_selection import train_test_split\n",
        "from sklearn.svm import SVC\n",
        "from sklearn.metrics import precision_score, recall_score, f1_score, classification_report\n",
        "\n",
        "# Load the Iris dataset\n",
        "iris = datasets.load_iris()\n",
        "X = iris.data  # Features\n",
        "y = iris.target  # Labels\n",
        "\n",
        "# Split the dataset into training and testing sets (70% training, 30% testing)\n",
        "X_train, X_test, y_train, y_test = train_test_split(X, y, test_size=0.3, random_state=42)\n",
        "\n",
        "# Initialize the SVM classifier (using a linear kernel in this case)\n",
        "svm_classifier = SVC(kernel='linear', random_state=42)\n",
        "\n",
        "# Train the classifier\n",
        "svm_classifier.fit(X_train, y_train)\n",
        "\n",
        "# Predict on the test set\n",
        "y_pred = svm_classifier.predict(X_test)\n",
        "\n",
        "# Compute Precision, Recall, and F1-Score for each class\n",
        "precision = precision_score(y_test, y_pred, average='weighted')  # Weighted for multi-class\n",
        "recall = recall_score(y_test, y_pred, average='weighted')\n",
        "f1 = f1_score(y_test, y_pred, average='weighted')\n",
        "\n",
        "# Print the precision, recall, and f1-score\n",
        "print(f\"Precision: {precision:.2f}\")\n",
        "print(f\"Recall: {recall:.2f}\")\n",
        "print(f\"F1-Score: {f1:.2f}\")\n",
        "\n",
        "# Additionally, print the classification report for detailed metrics\n",
        "print(\"\\nClassification Report:\")\n",
        "print(classification_report(y_test, y_pred))\n"
      ],
      "metadata": {
        "colab": {
          "base_uri": "https://localhost:8080/"
        },
        "id": "vebj83fwLd2q",
        "outputId": "82dd8a25-c8e7-4ec6-d71f-b625a3489218"
      },
      "execution_count": 22,
      "outputs": [
        {
          "output_type": "stream",
          "name": "stdout",
          "text": [
            "Precision: 1.00\n",
            "Recall: 1.00\n",
            "F1-Score: 1.00\n",
            "\n",
            "Classification Report:\n",
            "              precision    recall  f1-score   support\n",
            "\n",
            "           0       1.00      1.00      1.00        19\n",
            "           1       1.00      1.00      1.00        13\n",
            "           2       1.00      1.00      1.00        13\n",
            "\n",
            "    accuracy                           1.00        45\n",
            "   macro avg       1.00      1.00      1.00        45\n",
            "weighted avg       1.00      1.00      1.00        45\n",
            "\n"
          ]
        }
      ]
    },
    {
      "cell_type": "markdown",
      "source": [
        "**Q42. ⁠Write a Python program to train a Naïve Bayes Classifier and evaluate its performance using Log Loss (Cross-Entropy Loss).**"
      ],
      "metadata": {
        "id": "eQ7t2eMmLg8i"
      }
    },
    {
      "cell_type": "code",
      "source": [
        "# Import necessary libraries\n",
        "import numpy as np\n",
        "from sklearn import datasets\n",
        "from sklearn.model_selection import train_test_split\n",
        "from sklearn.naive_bayes import GaussianNB\n",
        "from sklearn.metrics import log_loss\n",
        "from sklearn.preprocessing import LabelBinarizer\n",
        "\n",
        "# Load the Iris dataset\n",
        "iris = datasets.load_iris()\n",
        "X = iris.data  # Features\n",
        "y = iris.target  # Labels\n",
        "\n",
        "# Split the dataset into training and testing sets (70% training, 30% testing)\n",
        "X_train, X_test, y_train, y_test = train_test_split(X, y, test_size=0.3, random_state=42)\n",
        "\n",
        "# Initialize the Naïve Bayes classifier (using Gaussian Naïve Bayes for continuous data)\n",
        "nb_classifier = GaussianNB()\n",
        "\n",
        "# Train the classifier on the training data\n",
        "nb_classifier.fit(X_train, y_train)\n",
        "\n",
        "# Predict probabilities on the test set (outputting class probabilities)\n",
        "y_pred_prob = nb_classifier.predict_proba(X_test)\n",
        "\n",
        "# Binarize the labels for Log Loss calculation (necessary for multi-class classification)\n",
        "lb = LabelBinarizer()\n",
        "y_test_bin = lb.fit_transform(y_test)\n",
        "\n",
        "# Compute the Log Loss (Cross-Entropy Loss)\n",
        "loss = log_loss(y_test_bin, y_pred_prob)\n",
        "\n",
        "# Print the Log Loss\n",
        "print(f\"Log Loss: {loss:.4f}\")"
      ],
      "metadata": {
        "colab": {
          "base_uri": "https://localhost:8080/"
        },
        "id": "m3Efr__HLit8",
        "outputId": "8c8d66f2-f78b-4962-eb62-5863013b2f9d"
      },
      "execution_count": 23,
      "outputs": [
        {
          "output_type": "stream",
          "name": "stdout",
          "text": [
            "Log Loss: 0.0490\n"
          ]
        }
      ]
    },
    {
      "cell_type": "markdown",
      "source": [
        "**Q43. Write a Python program to train an SVM Classifier and visualize the Confusion Matrix using seaborn.**"
      ],
      "metadata": {
        "id": "jrB5wXqfLlkT"
      }
    },
    {
      "cell_type": "code",
      "source": [
        "# Import necessary libraries\n",
        "import numpy as np\n",
        "import seaborn as sns\n",
        "import matplotlib.pyplot as plt\n",
        "from sklearn import datasets\n",
        "from sklearn.model_selection import train_test_split\n",
        "from sklearn.svm import SVC\n",
        "from sklearn.metrics import confusion_matrix\n",
        "\n",
        "# Load the Iris dataset\n",
        "iris = datasets.load_iris()\n",
        "X = iris.data  # Features\n",
        "y = iris.target  # Labels\n",
        "\n",
        "# Split the dataset into training and testing sets (70% training, 30% testing)\n",
        "X_train, X_test, y_train, y_test = train_test_split(X, y, test_size=0.3, random_state=42)\n",
        "\n",
        "# Initialize the SVM classifier with a linear kernel\n",
        "svm_classifier = SVC(kernel='linear', random_state=42)\n",
        "\n",
        "# Train the classifier on the training data\n",
        "svm_classifier.fit(X_train, y_train)\n",
        "\n",
        "# Predict on the test set\n",
        "y_pred = svm_classifier.predict(X_test)\n",
        "\n",
        "# Compute the confusion matrix\n",
        "cm = confusion_matrix(y_test, y_pred)\n",
        "\n",
        "# Visualize the confusion matrix using seaborn heatmap\n",
        "plt.figure(figsize=(6, 5))\n",
        "sns.heatmap(cm, annot=True, fmt='d', cmap='Blues', xticklabels=iris.target_names, yticklabels=iris.target_names)\n",
        "plt.title('Confusion Matrix for SVM Classifier')\n",
        "plt.xlabel('Predicted Labels')\n",
        "plt.ylabel('True Labels')\n",
        "plt.show()"
      ],
      "metadata": {
        "colab": {
          "base_uri": "https://localhost:8080/",
          "height": 487
        },
        "id": "IuV45RpSLn5a",
        "outputId": "22b3e5c4-e854-4414-d631-e81508705152"
      },
      "execution_count": 24,
      "outputs": [
        {
          "output_type": "display_data",
          "data": {
            "text/plain": [
              "<Figure size 600x500 with 2 Axes>"
            ],
            "image/png": "[encoded data removed]"
          },
          "metadata": {}
        }
      ]
    },
    {
      "cell_type": "markdown",
      "source": [
        "**Q44. Write a Python program to train an SVM Regressor (SVR) and evaluate its performance using Mean Absolute Error (MAE) instead of MSE.**"
      ],
      "metadata": {
        "id": "hRitF532Lrqj"
      }
    },
    {
      "cell_type": "code",
      "source": [
        "# Import necessary libraries\n",
        "import numpy as np\n",
        "from sklearn import datasets\n",
        "from sklearn.model_selection import train_test_split\n",
        "from sklearn.svm import SVR\n",
        "from sklearn.metrics import mean_absolute_error\n",
        "from sklearn.preprocessing import StandardScaler\n",
        "\n",
        "# Load the California Housing dataset\n",
        "california_housing = datasets.fetch_california_housing()\n",
        "X = california_housing.data  # Features\n",
        "y = california_housing.target  # Target (House prices)\n",
        "\n",
        "# Split the dataset into training and testing sets (80% training, 20% testing)\n",
        "X_train, X_test, y_train, y_test = train_test_split(X, y, test_size=0.2, random_state=42)\n",
        "\n",
        "# Feature scaling (important for SVM)\n",
        "scaler = StandardScaler()\n",
        "X_train_scaled = scaler.fit_transform(X_train)\n",
        "X_test_scaled = scaler.transform(X_test)\n",
        "\n",
        "# Initialize the SVR regressor with a Radial Basis Function (RBF) kernel\n",
        "svr = SVR(kernel='rbf')\n",
        "\n",
        "# Train the model on the training data\n",
        "svr.fit(X_train_scaled, y_train)\n",
        "\n",
        "# Predict on the test set\n",
        "y_pred = svr.predict(X_test_scaled)\n",
        "\n",
        "# Compute the Mean Absolute Error (MAE)\n",
        "mae = mean_absolute_error(y_test, y_pred)\n",
        "\n",
        "# Print the Mean Absolute Error\n",
        "print(f\"Mean Absolute Error (MAE): {mae:.4f}\")\n"
      ],
      "metadata": {
        "colab": {
          "base_uri": "https://localhost:8080/"
        },
        "id": "P9R0SKElLwRD",
        "outputId": "cecea71d-8470-4075-b87e-1406f6a4f2ad"
      },
      "execution_count": 25,
      "outputs": [
        {
          "output_type": "stream",
          "name": "stdout",
          "text": [
            "Mean Absolute Error (MAE): 0.3986\n"
          ]
        }
      ]
    },
    {
      "cell_type": "markdown",
      "source": [
        "**Q45. Write a Python program to train a Naïve Bayes classifier and evaluate its performance using the ROC-AUC score.**"
      ],
      "metadata": {
        "id": "qQ-FDQXJLyRz"
      }
    },
    {
      "cell_type": "code",
      "source": [
        "# Import necessary libraries\n",
        "import numpy as np\n",
        "import seaborn as sns\n",
        "import matplotlib.pyplot as plt\n",
        "from sklearn import datasets\n",
        "from sklearn.model_selection import train_test_split\n",
        "from sklearn.naive_bayes import GaussianNB\n",
        "from sklearn.metrics import roc_auc_score, roc_curve\n",
        "from sklearn.preprocessing import label_binarize\n",
        "\n",
        "# Load the Breast Cancer dataset (binary classification problem)\n",
        "from sklearn.datasets import load_breast_cancer\n",
        "data = load_breast_cancer()\n",
        "X = data.data  # Features\n",
        "y = data.target  # Labels\n",
        "\n",
        "# Split the dataset into training and testing sets (80% training, 20% testing)\n",
        "X_train, X_test, y_train, y_test = train_test_split(X, y, test_size=0.2, random_state=42)\n",
        "\n",
        "# Initialize the Naïve Bayes classifier (GaussianNB)\n",
        "nb_classifier = GaussianNB()\n",
        "\n",
        "# Train the Naïve Bayes model on the training data\n",
        "nb_classifier.fit(X_train, y_train)\n",
        "\n",
        "# Predict probabilities for the test set\n",
        "y_pred_prob = nb_classifier.predict_proba(X_test)[:, 1]  # Probabilities for the positive class\n",
        "\n",
        "# Compute the ROC-AUC score\n",
        "roc_auc = roc_auc_score(y_test, y_pred_prob)\n",
        "\n",
        "# Print the ROC-AUC score\n",
        "print(f\"ROC-AUC Score: {roc_auc:.4f}\")\n",
        "\n",
        "# Compute the ROC curve\n",
        "fpr, tpr, thresholds = roc_curve(y_test, y_pred_prob)\n",
        "\n",
        "# Plot the ROC curve\n",
        "plt.figure(figsize=(8, 6))\n",
        "plt.plot(fpr, tpr, color='blue', label=f'ROC Curve (AUC = {roc_auc:.4f})')\n",
        "plt.plot([0, 1], [0, 1], color='gray', linestyle='--')  # Random classifier line\n",
        "plt.title('ROC Curve for Naïve Bayes Classifier')\n",
        "plt.xlabel('False Positive Rate (FPR)')\n",
        "plt.ylabel('True Positive Rate (TPR)')\n",
        "plt.legend(loc='lower right')\n",
        "plt.show()"
      ],
      "metadata": {
        "colab": {
          "base_uri": "https://localhost:8080/",
          "height": 581
        },
        "id": "8HFylExpL0gb",
        "outputId": "52a87573-f3a0-444e-ec56-c311efecf065"
      },
      "execution_count": 26,
      "outputs": [
        {
          "output_type": "stream",
          "name": "stdout",
          "text": [
            "ROC-AUC Score: 0.9984\n"
          ]
        },
        {
          "output_type": "display_data",
          "data": {
            "text/plain": [
              "<Figure size 800x600 with 1 Axes>"
            ],
            "image/png": "[encoded data removed]"
          },
          "metadata": {}
        }
      ]
    },
    {
      "cell_type": "markdown",
      "source": [
        "**Q46. Write a Python program to train an SVM Classifier and visualize the Precision-Recall Curve.**"
      ],
      "metadata": {
        "id": "iDPwN9JpL6H7"
      }
    },
    {
      "cell_type": "code",
      "source": [
        "# Import necessary libraries\n",
        "import numpy as np\n",
        "import matplotlib.pyplot as plt\n",
        "from sklearn import datasets\n",
        "from sklearn.model_selection import train_test_split\n",
        "from sklearn.svm import SVC\n",
        "from sklearn.metrics import precision_recall_curve, auc\n",
        "from sklearn.preprocessing import label_binarize\n",
        "\n",
        "# Load the Breast Cancer dataset (binary classification problem)\n",
        "from sklearn.datasets import load_breast_cancer\n",
        "data = load_breast_cancer()\n",
        "X = data.data  # Features\n",
        "y = data.target  # Labels (0 = benign, 1 = malignant)\n",
        "\n",
        "# Split the dataset into training and testing sets (80% training, 20% testing)\n",
        "X_train, X_test, y_train, y_test = train_test_split(X, y, test_size=0.2, random_state=42)\n",
        "\n",
        "# Initialize the SVM classifier with a linear kernel\n",
        "svm_classifier = SVC(kernel='linear', probability=True, random_state=42)\n",
        "\n",
        "# Train the SVM model on the training data\n",
        "svm_classifier.fit(X_train, y_train)\n",
        "\n",
        "# Predict probabilities for the test set\n",
        "y_pred_prob = svm_classifier.predict_proba(X_test)[:, 1]  # Probabilities for the positive class\n",
        "\n",
        "# Compute the Precision-Recall curve\n",
        "precision, recall, thresholds = precision_recall_curve(y_test, y_pred_prob)\n",
        "\n",
        "# Compute the area under the Precision-Recall curve (AUC)\n",
        "pr_auc = auc(recall, precision)\n",
        "\n",
        "# Plot the Precision-Recall curve\n",
        "plt.figure(figsize=(8, 6))\n",
        "plt.plot(recall, precision, color='blue', label=f'Precision-Recall Curve (AUC = {pr_auc:.4f})')\n",
        "plt.fill_between(recall, precision, color='blue', alpha=0.2)\n",
        "plt.title('Precision-Recall Curve for SVM Classifier')\n",
        "plt.xlabel('Recall')\n",
        "plt.ylabel('Precision')\n",
        "plt.legend(loc='lower left')\n",
        "plt.show()"
      ],
      "metadata": {
        "colab": {
          "base_uri": "https://localhost:8080/",
          "height": 564
        },
        "id": "_yYss90iL8iT",
        "outputId": "3afc1139-3d33-4e95-d61f-c6f7e1c21a24"
      },
      "execution_count": 27,
      "outputs": [
        {
          "output_type": "display_data",
          "data": {
            "text/plain": [
              "<Figure size 800x600 with 1 Axes>"
            ],
            "image/png": "[encoded data removed]"
          },
          "metadata": {}
        }
      ]
    }
  ]
}