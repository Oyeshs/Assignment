{
  "nbformat": 4,
  "nbformat_minor": 0,
  "metadata": {
    "colab": {
      "provenance": []
    },
    "kernelspec": {
      "name": "python3",
      "display_name": "Python 3"
    },
    "language_info": {
      "name": "python"
    }
  },
  "cells": [
    {
      "cell_type": "code",
      "execution_count": null,
      "metadata": {
        "id": "6jtu14dcOHdd"
      },
      "outputs": [],
      "source": []
    },
    {
      "cell_type": "markdown",
      "source": [
        "Answer-1.\n",
        "Python is popular for several key reasons:\n",
        "\n",
        "1. Readability and Simplicity: Python's clean and simple syntax makes it easy to learn and use, making it a great choice for beginners and professionals alike. Code is more readable, reducing the complexity of writing and maintaining scripts.\n",
        "\n",
        "\n",
        "2. Versatile and Cross-Platform: Python is highly versatile and runs on various platforms (Windows, macOS, Linux), allowing developers to write code once and run it anywhere.\n",
        "\n",
        "\n",
        "3. Extensive Libraries and Frameworks: Python has a vast ecosystem of libraries and frameworks (e.g., NumPy, Pandas, TensorFlow, Django) that simplify tasks in areas such as data science, machine learning, web development, automation, and more.\n",
        "\n",
        "\n",
        "4. Active Community and Support: Python has a large, active community that contributes to its development and provides abundant resources, tutorials, and third-party tools. This means a rich set of documentation and easy access to help.\n",
        "\n",
        "\n",
        "5. Integration Capabilities: Python can easily integrate with other languages (C, C++, Java, etc.) and technologies, making it suitable for complex projects that involve multiple programming environments.\n",
        "\n",
        "\n",
        "6. Interpreted Language: Python is an interpreted language, which means code can be executed directly without compiling it first, making it great for rapid development and testing.\n",
        "\n",
        "\n",
        "7. Dynamic Typing: Python handles types dynamically, meaning you don’t need to declare variable types explicitly, which makes coding faster and less error-prone.\n",
        "\n",
        "\n",
        "\n",
        "These features make Python a powerful, flexible language for a wide variety of applications."
      ],
      "metadata": {
        "id": "DN87Q6iCOMfF"
      }
    },
    {
      "cell_type": "markdown",
      "source": [
        "Answer-2\n",
        "Predefined keywords in Python are reserved words that have special meanings and purposes within the language. These keywords cannot be used as identifiers (like variable names or function names) because they define the syntax and structure of Python programs. Each keyword serves a specific function or denotes a specific action in the program.\n",
        "\n",
        "Key Roles of Python Keywords:\n",
        "\n",
        "1. Control Flow: Keywords such as if, else, elif, for, while, break, and continue are used to control the flow of a program, including loops and conditional statements.\n",
        "\n",
        "\n",
        "2. Variable Declaration and Scope: Keywords like global and nonlocal help manage the scope of variables, controlling where they can be accessed or modified.\n",
        "\n",
        "\n",
        "3. Function and Class Definitions: Keywords such as def, class, return, and lambda are used to define functions and classes, or return values from functions.\n",
        "\n",
        "\n",
        "4. Error Handling: Keywords like try, except, finally, raise, and assert help manage exceptions and error handling.\n",
        "\n",
        "\n",
        "5. Boolean Values: True and False are used to represent boolean values, while None is used to represent the absence of a value.\n",
        "\n",
        "\n",
        "6. Logical Operations: and, or, and not are used for logical operations in conditional statements.\n",
        "\n",
        "\n",
        "7. Other Functions: Keywords like import, pass, yield, with, and async are used for module importing, generator functions, context management, and asynchronous programming.\n",
        "\n",
        "\n",
        "\n",
        "Example of How Keywords are Used in a Program:\n",
        "\n",
        "# Example Python program using various keywords\n",
        "\n",
        "def check_even_odd(number):\n",
        "    if number % 2 == 0:  # 'if' keyword for conditional check\n",
        "        return True       # 'return' keyword to return a value\n",
        "    else:                # 'else' keyword for alternate condition\n",
        "        return False\n",
        "\n",
        "for i in range(1, 6):    # 'for' loop with 'in' keyword to iterate over a range\n",
        "    result = check_even_odd(i)\n",
        "    if result:\n",
        "        print(f\"{i} is even\")  # 'print' is a built-in function, not a keyword\n",
        "    else:\n",
        "        print(f\"{i} is odd\")\n",
        "\n",
        "# Demonstrating the use of 'try', 'except', and 'finally' for error handling\n",
        "try:\n",
        "    print(1 / 0)   # This will raise a ZeroDivisionError\n",
        "except ZeroDivisionError:  # 'except' keyword to catch the error\n",
        "    print(\"Cannot divide by zero\")\n",
        "finally:  # 'finally' will execute regardless of an exception\n",
        "    print(\"End of error handling\")\n",
        "\n",
        "Output:\n",
        "\n",
        "1 is odd\n",
        "2 is even\n",
        "3 is odd\n",
        "4 is even\n",
        "5 is odd\n",
        "Cannot divide by zero\n",
        "End of error handling\n",
        "\n",
        "In this example, various predefined keywords like def, if, else, for, try, and except are used to define functions, control flow, and handle exceptions. Each keyword plays a critical role in the logic and flow of the program."
      ],
      "metadata": {
        "id": "9jJk6EraOsEc"
      }
    },
    {
      "cell_type": "code",
      "source": [
        "# Example Python program using various keywords\n",
        "\n",
        "def check_even_odd(number):\n",
        "    if number % 2 == 0:  # 'if' keyword for conditional check\n",
        "        return True       # 'return' keyword to return a value\n",
        "    else:                # 'else' keyword for alternate condition\n",
        "        return False\n",
        "\n",
        "for i in range(1, 6):    # 'for' loop with 'in' keyword to iterate over a range\n",
        "    result = check_even_odd(i)\n",
        "    if result:\n",
        "        print(f\"{i} is even\")  # 'print' is a built-in function, not a keyword\n",
        "    else:\n",
        "        print(f\"{i} is odd\")\n",
        "\n",
        "# Demonstrating the use of 'try', 'except', and 'finally' for error handling\n",
        "try:\n",
        "    print(1 / 0)   # This will raise a ZeroDivisionError\n",
        "except ZeroDivisionError:  # 'except' keyword to catch the error\n",
        "    print(\"Cannot divide by zero\")\n",
        "finally:  # 'finally' will execute regardless of an exception\n",
        "    print(\"End of error handling\")"
      ],
      "metadata": {
        "colab": {
          "base_uri": "https://localhost:8080/"
        },
        "id": "TL5rWhgvQMmu",
        "outputId": "af3591f2-cf35-49ae-ddd2-a727e1ea9cf5"
      },
      "execution_count": 4,
      "outputs": [
        {
          "output_type": "stream",
          "name": "stdout",
          "text": [
            "1 is odd\n",
            "2 is even\n",
            "3 is odd\n",
            "4 is even\n",
            "5 is odd\n",
            "Cannot divide by zero\n",
            "End of error handling\n"
          ]
        }
      ]
    },
    {
      "cell_type": "markdown",
      "source": [
        "In this example, various predefined keywords like def, if, else, for, try, and except are used to define functions, control flow, and handle exceptions. Each keyword plays a critical role in the logic and flow of the program."
      ],
      "metadata": {
        "id": "IDGiBkqsPuDN"
      }
    },
    {
      "cell_type": "markdown",
      "source": [
        "Answer-3\n",
        "In Python, objects are classified as mutable or immutable based on whether their state (i.e., their data) can be changed after they are created. This distinction is important for understanding how Python handles memory, variable assignment, and passing objects to functions.\n",
        "\n",
        "Mutable Objects:\n",
        "\n",
        "Mutable objects are those whose values or state can be changed after they are created. Modifications to these objects happen in place, meaning the object itself is updated, and no new object is created in memory.\n",
        "\n",
        "Examples of mutable objects: Lists, dictionaries, sets, and some user-defined classes."
      ],
      "metadata": {
        "id": "ZiELP0AgQWHd"
      }
    },
    {
      "cell_type": "code",
      "source": [
        "# Example: Mutable list\n",
        "my_list = [1, 2, 3]\n",
        "print(f\"Original list: {my_list}\")\n",
        "\n",
        "my_list[0] = 10  # Modifying the first element\n",
        "print(f\"Modified list: {my_list}\")\n"
      ],
      "metadata": {
        "colab": {
          "base_uri": "https://localhost:8080/"
        },
        "id": "WnR3Fon1PzDj",
        "outputId": "696aefaa-fa50-48ee-c377-5dfe7a0ccf1a"
      },
      "execution_count": 5,
      "outputs": [
        {
          "output_type": "stream",
          "name": "stdout",
          "text": [
            "Original list: [1, 2, 3]\n",
            "Modified list: [10, 2, 3]\n"
          ]
        }
      ]
    },
    {
      "cell_type": "code",
      "source": [],
      "metadata": {
        "id": "dvPIU8iDQbO0"
      },
      "execution_count": null,
      "outputs": []
    },
    {
      "cell_type": "markdown",
      "source": [
        "Immutable Objects:\n",
        "\n",
        "Immutable objects cannot be changed after they are created. If you attempt to change an immutable object, Python will create a new object in memory rather than modifying the original object.\n",
        "\n",
        "Examples of immutable objects: Integers, floats, strings, tuples, and frozensets."
      ],
      "metadata": {
        "id": "v1zDKOC1QkT2"
      }
    },
    {
      "cell_type": "code",
      "source": [
        "# Example: Immutable string\n",
        "my_string = \"Hello\"\n",
        "print(\"Original string: {my_string}\")\n",
        "\n",
        "my_string = \"Hello, World!\"  # Attempting to modify the string\n",
        "print(\"Modified string: {my_string}\")\n"
      ],
      "metadata": {
        "colab": {
          "base_uri": "https://localhost:8080/"
        },
        "id": "jMktEQXbQlgj",
        "outputId": "168d5bc0-683b-4654-cb0d-ce918607eedc"
      },
      "execution_count": 7,
      "outputs": [
        {
          "output_type": "stream",
          "name": "stdout",
          "text": [
            "Original string: {my_string}\n",
            "Modified string: {my_string}\n"
          ]
        }
      ]
    },
    {
      "cell_type": "code",
      "source": [
        "#Key Differences Between Mutable and Immutable Objects:\n",
        "\n",
        "#More Complex Example:\n",
        "\n",
        "#Mutable (List) vs Immutable (Tuple):\n",
        "\n",
        "# Mutable: List\n",
        "my_list = [1, 2, 3]\n",
        "my_list.append(4)  # Adding an element to the list (modifies the original list)\n",
        "print(f\"Modified list: {my_list}\")\n",
        "\n",
        "# Immutable: Tuple\n",
        "my_tuple = (1, 2, 3)\n",
        "# my_tuple[0] = 10  # Uncommenting this line would raise a TypeError\n",
        "new_tuple = my_tuple + (4,)  # Concatenating creates a new tuple\n",
        "print(f\"Original tuple: {my_tuple}\")\n",
        "print(f\"New tuple: {new_tuple}\")\n"
      ],
      "metadata": {
        "colab": {
          "base_uri": "https://localhost:8080/"
        },
        "id": "X5xWKg_WQomU",
        "outputId": "fd169d4f-f84e-4498-f37c-ce2a17303e23"
      },
      "execution_count": 8,
      "outputs": [
        {
          "output_type": "stream",
          "name": "stdout",
          "text": [
            "Modified list: [1, 2, 3, 4]\n",
            "Original tuple: (1, 2, 3)\n",
            "New tuple: (1, 2, 3, 4)\n"
          ]
        }
      ]
    },
    {
      "cell_type": "markdown",
      "source": [
        "Lists (mutable) allow for in-place modification, like adding an element using append().\n",
        "\n",
        "Tuples (immutable) cannot be changed after creation. Attempting to modify a tuple will result in an error. However, you can create a new tuple by concatenating another tuple, which creates a new object in memory.\n",
        "\n",
        "\n",
        "Summary:\n",
        "\n",
        "Mutable objects can be altered after creation, and changes affect the object in place.\n",
        "\n",
        "Immutable objects cannot be altered, and any \"change\" results in the creation of a new object in memory. Understanding these distinctions is crucial for writing efficient, bug-free Python code, particularly in areas like function argument passing, data structures, and concurrency."
      ],
      "metadata": {
        "id": "koaqo5-iRFWm"
      }
    },
    {
      "cell_type": "markdown",
      "source": [
        "Answer-4\n",
        "Python supports a variety of operators, which are used to perform operations on variables and values. These operators can be categorized based on the type of operation they perform. Below are the major types of operators in Python, along with examples."
      ],
      "metadata": {
        "id": "jSkxV3sjRWpW"
      }
    },
    {
      "cell_type": "code",
      "source": [
        "#1. Arithmetic Operators\n",
        "\n",
        "#Arithmetic operators are used to perform basic mathematical operations like addition, subtraction, multiplication, etc.\n",
        "\n",
        "#Example:\n",
        "\n",
        "a = 10\n",
        "b = 3\n",
        "print(a + b)    # Output: 13\n",
        "print(a - b)    # Output: 7\n",
        "print(a * b)    # Output: 30\n",
        "print(a / b)    # Output: 3.333...\n",
        "print(a % b)    # Output: 1 (remainder)\n",
        "print(a ** b)   # Output: 1000 (10 raised to the power of 3)\n",
        "print(a // b)   # Output: 3 (floor division)\n",
        "\n",
        "\n",
        "\n",
        "\n",
        "\n",
        "\n",
        "\n",
        "\n"
      ],
      "metadata": {
        "colab": {
          "base_uri": "https://localhost:8080/"
        },
        "id": "CprBx_8XRXZ8",
        "outputId": "48187b81-61c6-4627-d7af-314d9b5d34b2"
      },
      "execution_count": 32,
      "outputs": [
        {
          "output_type": "stream",
          "name": "stdout",
          "text": [
            "13\n",
            "7\n",
            "30\n",
            "3.3333333333333335\n",
            "1\n",
            "1000\n",
            "3\n"
          ]
        }
      ]
    },
    {
      "cell_type": "code",
      "source": [
        "#2. Comparison (Relational) Operators\n",
        "\n",
        "#Comparison operators are used to compare two values. The result is either True or False.\n",
        "\n",
        "#Example:\n",
        "\n",
        "x = 5\n",
        "y = 10\n",
        "print(x == y)   # Output: False\n",
        "print(x != y)   # Output: True\n",
        "print(x < y)    # Output: True\n",
        "print(x > y)    # Output: False\n",
        "print(x <= y)   # Output: True\n",
        "print(x >= y)   # Output: False\n"
      ],
      "metadata": {
        "colab": {
          "base_uri": "https://localhost:8080/"
        },
        "id": "LtOp0of3sIvP",
        "outputId": "0d1935d7-d306-4049-a503-749fe69dd224"
      },
      "execution_count": 31,
      "outputs": [
        {
          "output_type": "stream",
          "name": "stdout",
          "text": [
            "False\n",
            "True\n",
            "True\n",
            "False\n",
            "True\n",
            "False\n"
          ]
        }
      ]
    },
    {
      "cell_type": "code",
      "source": [
        "#3. Logical Operators\n",
        "\n",
        "#Logical operators are used to combine conditional statements. They return boolean values (True or False).\n",
        "\n",
        "#Example:\n",
        "\n",
        "a = True\n",
        "b = False\n",
        "print(a and b)   # Output: False\n",
        "print(a or b)    # Output: True\n",
        "print(not a)     # Output: False"
      ],
      "metadata": {
        "colab": {
          "base_uri": "https://localhost:8080/"
        },
        "id": "8VHKJIC7sFh4",
        "outputId": "62a82959-6f85-42f3-cc5b-b4296101030b"
      },
      "execution_count": 30,
      "outputs": [
        {
          "output_type": "stream",
          "name": "stdout",
          "text": [
            "False\n",
            "True\n",
            "False\n"
          ]
        }
      ]
    },
    {
      "cell_type": "code",
      "source": [
        "#4. Assignment Operators\n",
        "\n",
        "#Assignment operators are used to assign values to variables. They can also combine assignment with arithmetic operations.\n",
        "\n",
        "#Example:\n",
        "\n",
        "x = 5\n",
        "x += 3  # Same as x = x + 3\n",
        "print(x)  # Output: 8\n",
        "\n",
        "x *= 2  # Same as x = x * 2\n",
        "print(x)"
      ],
      "metadata": {
        "colab": {
          "base_uri": "https://localhost:8080/"
        },
        "id": "m4xirJ1WsAOQ",
        "outputId": "f8ac013e-ab5d-4f46-f246-696d4942869b"
      },
      "execution_count": 29,
      "outputs": [
        {
          "output_type": "stream",
          "name": "stdout",
          "text": [
            "8\n",
            "16\n"
          ]
        }
      ]
    },
    {
      "cell_type": "code",
      "source": [
        "#5. Bitwise Operators\n",
        "\n",
        "#Bitwise operators operate on binary representations of integers. They perform operations at the bit level.\n",
        "\n",
        "#Example:\n",
        "\n",
        "a = 5  # Binary: 0101\n",
        "b = 3  # Binary: 0011\n",
        "\n",
        "print(a & b)  # Output: 1 (Binary: 0001)\n",
        "print(a | b)  # Output: 7 (Binary: 0111)\n",
        "print(a ^ b)  # Output: 6 (Binary: 0110)\n",
        "print(~a)     # Output: -6 (Binary: -0110 in two's complement)\n",
        "print(a << 1) # Output: 10 (Binary: 1010)\n",
        "print(a >> 1) # Output: 2  (Binary: 0010)\n"
      ],
      "metadata": {
        "colab": {
          "base_uri": "https://localhost:8080/"
        },
        "id": "LmpR7BMgr5q-",
        "outputId": "a4823349-f388-4229-f37d-c848828fcc8b"
      },
      "execution_count": 28,
      "outputs": [
        {
          "output_type": "stream",
          "name": "stdout",
          "text": [
            "1\n",
            "7\n",
            "6\n",
            "-6\n",
            "10\n",
            "2\n"
          ]
        }
      ]
    },
    {
      "cell_type": "code",
      "source": [
        "#6. Membership Operators\n",
        "\n",
        "#Membership operators are used to test if a value is present in a sequence such as a string, list, or tuple.\n",
        "\n",
        "#Example:\n",
        "\n",
        "my_list = [1, 2, 3, 4]\n",
        "print(3 in my_list)    # Output: True\n",
        "print(5 not in my_list)  # Output: True\n"
      ],
      "metadata": {
        "colab": {
          "base_uri": "https://localhost:8080/"
        },
        "id": "j2GU0_GUr0_u",
        "outputId": "cf26c52c-d8e3-4d5d-a281-240d7f2bf61c"
      },
      "execution_count": 27,
      "outputs": [
        {
          "output_type": "stream",
          "name": "stdout",
          "text": [
            "True\n",
            "True\n"
          ]
        }
      ]
    },
    {
      "cell_type": "code",
      "source": [
        "#7. Identity Operators\n",
        "\n",
        "#Identity operators are used to compare the memory locations of two objects.\n",
        "\n",
        "#Example:\n",
        "\n",
        "a = [1, 2, 3]\n",
        "b = a\n",
        "c = [1, 2, 3]\n",
        "\n",
        "print(a is b)   # Output: True (b is a reference to a)\n",
        "print(a is c)   # Output: False (c is a different object)\n",
        "print(a == c)   # Output: True (values are the same, but different objects)\n"
      ],
      "metadata": {
        "colab": {
          "base_uri": "https://localhost:8080/"
        },
        "id": "KUmnNeZErlcf",
        "outputId": "7e6055e0-1e09-4ad3-edbe-0ac7e24f29c8"
      },
      "execution_count": 25,
      "outputs": [
        {
          "output_type": "stream",
          "name": "stdout",
          "text": [
            "True\n",
            "False\n",
            "True\n"
          ]
        }
      ]
    },
    {
      "cell_type": "code",
      "source": [
        "#8. Special Operators\n",
        "\n",
        "#Ternary (Conditional) Operator:\n",
        "\n",
        "#The ternary operator is used to evaluate an expression based on a condition, returning one of two values.\n",
        "\n",
        "#Example:\n",
        "\n",
        "a = 10\n",
        "b = 20\n",
        "min_value = a if a < b else b\n",
        "print(min_value)  # Output: 10"
      ],
      "metadata": {
        "colab": {
          "base_uri": "https://localhost:8080/"
        },
        "id": "G4ZhE7yRru1_",
        "outputId": "3d0a4138-b6b4-41ce-b8fc-3537add4ef43"
      },
      "execution_count": 26,
      "outputs": [
        {
          "output_type": "stream",
          "name": "stdout",
          "text": [
            "10\n"
          ]
        }
      ]
    },
    {
      "cell_type": "code",
      "source": [],
      "metadata": {
        "id": "jklQpTOlRhzV"
      },
      "execution_count": null,
      "outputs": []
    },
    {
      "cell_type": "markdown",
      "source": [
        "Answer-5\n",
        "Type casting in Python refers to the process of converting a variable or value from one data type to another. Python provides built-in functions for explicit type casting, allowing you to manually convert between types when necessary. This is especially useful when performing operations between different types, such as concatenating strings with numbers or performing mathematical calculations on mixed data types.\n",
        "\n",
        "There are two types of type casting in Python:\n",
        "\n",
        "1. Implicit Type Casting: Python automatically converts one data type to another when it is required.\n",
        "\n",
        "\n",
        "2. Explicit Type Casting: The programmer manually converts a variable's type using built-in functions.\n",
        "\n"
      ],
      "metadata": {
        "id": "yBdUEiNlS5ZX"
      }
    },
    {
      "cell_type": "code",
      "source": [
        "#1. Implicit Type Casting\n",
        "\n",
        "#In implicit type casting, Python automatically handles the conversion between types without any explicit instruction from the programmer. Python promotes smaller data types (like integers) to larger types (like floats) to avoid loss of information.\n",
        "\n",
        "#Example of Implicit Type Casting:\n",
        "\n",
        "# Implicit conversion from int to float\n",
        "a = 5        # 'a' is an integer\n",
        "b = 2.5      # 'b' is a float\n",
        "c = a + b    # Python automatically converts 'a' to float before the operation\n",
        "print(c)"
      ],
      "metadata": {
        "colab": {
          "base_uri": "https://localhost:8080/"
        },
        "id": "kRL6E3u0S6eX",
        "outputId": "0b7c55ea-c83d-4b5f-ff5b-7489c1b58a4b"
      },
      "execution_count": 12,
      "outputs": [
        {
          "output_type": "stream",
          "name": "stdout",
          "text": [
            "7.5\n"
          ]
        }
      ]
    },
    {
      "cell_type": "code",
      "source": [
        "#2. Explicit Type Casting\n",
        "\n",
        "#In explicit type casting, also known as type conversion, the programmer manually changes the type of a variable using type-casting functions. Python provides several built-in functions for explicit type casting:\n",
        "\n",
        "#Example of Explicit Type Casting:\n",
        "\n",
        "# Example 1: Converting float to int\n",
        "x = 7.8\n",
        "y = int(x)  # Converting float to int (the fractional part is truncated)\n",
        "print(y)"
      ],
      "metadata": {
        "colab": {
          "base_uri": "https://localhost:8080/"
        },
        "id": "A4rkwXL0TE7F",
        "outputId": "50a3bf00-07cf-4485-b274-3bc6c7cb3217"
      },
      "execution_count": 13,
      "outputs": [
        {
          "output_type": "stream",
          "name": "stdout",
          "text": [
            "7\n"
          ]
        }
      ]
    },
    {
      "cell_type": "code",
      "source": [
        "# Example 2: Converting string to integer\n",
        "str_num = \"100\"\n",
        "int_num = int(str_num)  # Converting string to integer\n",
        "print(int_num + 50)"
      ],
      "metadata": {
        "colab": {
          "base_uri": "https://localhost:8080/"
        },
        "id": "QPMEnJ9DTRIu",
        "outputId": "88c083ae-cd63-44af-b559-6e9ce4929eb0"
      },
      "execution_count": 14,
      "outputs": [
        {
          "output_type": "stream",
          "name": "stdout",
          "text": [
            "150\n"
          ]
        }
      ]
    },
    {
      "cell_type": "markdown",
      "source": [
        "Summary:\n",
        "\n",
        "Implicit type casting is performed automatically by Python, ensuring compatibility between different types in operations.\n",
        "\n",
        "Explicit type casting requires manual conversion using functions like int(), float(), and str(). This is useful for handling user input, performing calculations, and manipulating data types explicitly."
      ],
      "metadata": {
        "id": "BeMaCH5aTzwI"
      }
    },
    {
      "cell_type": "code",
      "source": [],
      "metadata": {
        "id": "8ueu7o0WT14l"
      },
      "execution_count": null,
      "outputs": []
    },
    {
      "cell_type": "markdown",
      "source": [
        "Answer-6\n",
        "Conditional statements in Python allow you to execute certain pieces of code based on whether a specific condition or set of conditions is true or false. These conditions are evaluated as Boolean expressions that result in True or False. The main conditional statements in Python include if, elif (else if), and else.\n"
      ],
      "metadata": {
        "id": "eyKKFLKEUMj-"
      }
    },
    {
      "cell_type": "code",
      "source": [
        "#1. if Statement\n",
        "\n",
        "#The if statement executes a block of code if a specified condition is True. If the condition is False, the code inside the if block is skipped.\n",
        "\n",
        "#Syntax:\n",
        "\n",
        "#if condition:\n",
        "    # Code to execute if condition is True\n",
        "\n",
        "#Example:\n",
        "\n",
        "x = 10\n",
        "if x > 5:\n",
        "    print(\"x is greater than 5\")\n"
      ],
      "metadata": {
        "colab": {
          "base_uri": "https://localhost:8080/"
        },
        "id": "egJffXYlUNgd",
        "outputId": "7df58c66-6235-404b-cd5b-0b0dc1b627ca"
      },
      "execution_count": 19,
      "outputs": [
        {
          "output_type": "stream",
          "name": "stdout",
          "text": [
            "x is greater than 5\n"
          ]
        }
      ]
    },
    {
      "cell_type": "code",
      "source": [
        "#2. else Statement\n",
        "\n",
        "#The else statement allows you to define a block of code to execute if the condition in the if statement is False.\n",
        "\n",
        "#Syntax:\n",
        "\n",
        "#if condition:\n",
        "    # Code to execute if condition is True\n",
        " # else:\n",
        "    # Code to execute if condition is False\n",
        "\n",
        "#Example:\n",
        "\n",
        "x = 3\n",
        "if x > 5:\n",
        "    print(\"x is greater than 5\")\n",
        "else:\n",
        "    print(\"x is less than or equal to 5\")"
      ],
      "metadata": {
        "colab": {
          "base_uri": "https://localhost:8080/"
        },
        "id": "gZOFOAi4Ucvn",
        "outputId": "6abba366-b624-4df3-fc25-68de4a5b0f65"
      },
      "execution_count": 4,
      "outputs": [
        {
          "output_type": "stream",
          "name": "stdout",
          "text": [
            "x is less than or equal to 5\n"
          ]
        }
      ]
    },
    {
      "cell_type": "code",
      "source": [
        "# elif (else if) Statement\n",
        "\n",
        "#The elif statement allows you to check multiple conditions. If the if condition is False, Python checks the next elif condition. You can have multiple elif blocks.\n",
        "\n",
        "#Syntax:\n",
        "\n",
        "#if condition1:\n",
        "    # Code to execute if condition1 is True\n",
        "#elif condition2:\n",
        "    # Code to execute if condition2 is True\n",
        "#else:\n",
        "    # Code to execute if none of the above conditions are True\n",
        "\n",
        "#Example:\n",
        "\n",
        "x = 15\n",
        "if x < 10:\n",
        "    print(\"x is less than 10\")\n",
        "elif x == 10:\n",
        "    print(\"x is equal to 10\")\n",
        "else:\n",
        "    print(\"x is greater than 10\")"
      ],
      "metadata": {
        "colab": {
          "base_uri": "https://localhost:8080/"
        },
        "id": "ZT9b9MKqlz5O",
        "outputId": "0f377f70-5a8e-48ff-c7c6-69e6ed0e2fb6"
      },
      "execution_count": 7,
      "outputs": [
        {
          "output_type": "stream",
          "name": "stdout",
          "text": [
            "x is greater than 10\n"
          ]
        }
      ]
    },
    {
      "cell_type": "code",
      "source": [
        "#Nested Conditional Statements\n",
        "\n",
        "#You can also nest if, elif, and else statements inside other conditional statements. This is useful for checking more complex conditions.\n",
        "\n",
        "#Example:\n",
        "\n",
        "x = 5\n",
        "y = 10\n",
        "\n",
        "if x > 0:\n",
        "    if y > 5:\n",
        "        print(\"x is positive and y is greater than 5\")\n",
        "    else:\n",
        "        print(\"x is positive, but y is not greater than 5\")\n",
        "else:\n",
        "    print(\"x is not positive\")\n"
      ],
      "metadata": {
        "colab": {
          "base_uri": "https://localhost:8080/"
        },
        "id": "cKqgRPyCmvtR",
        "outputId": "e87feb90-ea05-4f15-bd37-a167769cc436"
      },
      "execution_count": 8,
      "outputs": [
        {
          "output_type": "stream",
          "name": "stdout",
          "text": [
            "x is positive and y is greater than 5\n"
          ]
        }
      ]
    },
    {
      "cell_type": "code",
      "source": [
        "#Multiple Conditions with Logical Operators\n",
        "\n",
        "#You can use logical operators like and, or, and not to combine multiple conditions in a single if or elif statement.\n",
        "\n",
        "#Example:\n",
        "\n",
        "x = 8\n",
        "if x > 5 and x < 10:\n",
        "    print(\"x is between 5 and 10\")"
      ],
      "metadata": {
        "colab": {
          "base_uri": "https://localhost:8080/"
        },
        "id": "j4lHIFsqm7a5",
        "outputId": "a917fbb6-2bc3-4e65-9e0c-db77d79eeb0d"
      },
      "execution_count": 9,
      "outputs": [
        {
          "output_type": "stream",
          "name": "stdout",
          "text": [
            "x is between 5 and 10\n"
          ]
        }
      ]
    },
    {
      "cell_type": "code",
      "source": [],
      "metadata": {
        "id": "AaD4rukTnHZ5"
      },
      "execution_count": null,
      "outputs": []
    },
    {
      "cell_type": "markdown",
      "source": [
        "Answer-6\n",
        "In Python, loops are used to repeat a block of code multiple times, either a specific number of times or while a particular condition is true. There are two main types of loops in Python:\n",
        "\n",
        "1. for loop: Used to iterate over a sequence (like a list, tuple, string, or range).\n",
        "\n",
        "\n",
        "2. while loop: Used to repeat a block of code while a condition is True.\n",
        "\n",
        "\n",
        "\n",
        "Additionally, Python provides control statements (break, continue, and pass) that can be used to alter the flow of loops.\n"
      ],
      "metadata": {
        "id": "tmL4RMuQnzR-"
      }
    },
    {
      "cell_type": "code",
      "source": [
        "#for Loop\n",
        "\n",
        "#The for loop is used to iterate over a sequence (like a list, tuple, dictionary, string, or range) and execute a block of code for each item in that sequence.\n",
        "\n",
        "#Syntax:\n",
        "\n",
        "#for item in sequence:\n",
        "    # Code to execute for each item\n",
        "\n",
        "#Example 1: Iterating over a list\n",
        "\n",
        "fruits = ['apple', 'banana', 'cherry']\n",
        "for fruit in fruits:\n",
        "    print(fruit)\n"
      ],
      "metadata": {
        "colab": {
          "base_uri": "https://localhost:8080/"
        },
        "id": "rBFryHHEn0Ex",
        "outputId": "1b8a1734-23fb-4cb1-9e1f-634eb6c961e7"
      },
      "execution_count": 17,
      "outputs": [
        {
          "output_type": "stream",
          "name": "stdout",
          "text": [
            "apple\n",
            "banana\n",
            "cherry\n"
          ]
        }
      ]
    },
    {
      "cell_type": "code",
      "source": [
        "# Using range()\n",
        "\n",
        "#The range() function is commonly used with for loops to generate a sequence of numbers.\n",
        "\n",
        "for i in range(5):\n",
        "    print(i)"
      ],
      "metadata": {
        "colab": {
          "base_uri": "https://localhost:8080/"
        },
        "id": "yUGbW00mn7HQ",
        "outputId": "952e26ee-b4fe-4e13-840f-849acd16fa9d"
      },
      "execution_count": 18,
      "outputs": [
        {
          "output_type": "stream",
          "name": "stdout",
          "text": [
            "0\n",
            "1\n",
            "2\n",
            "3\n",
            "4\n"
          ]
        }
      ]
    },
    {
      "cell_type": "code",
      "source": [
        "#Use Cases for for Loop:\n",
        "\n",
        "#Iterating over elements of a list, tuple, or string.\n",
        "\n",
        "#Performing an operation a fixed number of times using range().\n",
        "\n",
        "#Traversing dictionary keys or values.\n",
        "\n",
        "\n",
        "#Example 3: Iterating over a dictionary\n",
        "\n",
        "student_grades = {'Alice': 85, 'Bob': 92, 'Charlie': 78}\n",
        "for student, grade in student_grades.items():\n",
        "    print(f\"{student}: {grade}\")"
      ],
      "metadata": {
        "colab": {
          "base_uri": "https://localhost:8080/"
        },
        "id": "cZdaI9nap3QH",
        "outputId": "c622152f-486e-48d6-fba6-0360b1480e26"
      },
      "execution_count": 19,
      "outputs": [
        {
          "output_type": "stream",
          "name": "stdout",
          "text": [
            "Alice: 85\n",
            "Bob: 92\n",
            "Charlie: 78\n"
          ]
        }
      ]
    },
    {
      "cell_type": "code",
      "source": [
        "#while Loop\n",
        "\n",
        "#The while loop continues to execute a block of code as long as the specified condition is True. The condition is checked before each iteration.\n",
        "\n",
        "#Syntax:\n",
        "\n",
        "#while condition:\n",
        "    # Code to execute while the condition is True\n",
        "\n",
        "#Example 1: Basic while loop\n",
        "\n",
        "count = 0\n",
        "while count < 5:\n",
        "    print(count)\n",
        "    count += 1"
      ],
      "metadata": {
        "colab": {
          "base_uri": "https://localhost:8080/"
        },
        "id": "Gv_-LX96qCAC",
        "outputId": "4eb79336-bc3c-4bdf-c445-52dfc79d922f"
      },
      "execution_count": 21,
      "outputs": [
        {
          "output_type": "stream",
          "name": "stdout",
          "text": [
            "0\n",
            "1\n",
            "2\n",
            "3\n",
            "4\n"
          ]
        }
      ]
    },
    {
      "cell_type": "code",
      "source": [
        "#Control Statements in Loops\n",
        "\n",
        "#Python provides control statements to manage the flow of loops:\n",
        "\n",
        "#a. break Statement\n",
        "\n",
        "#The break statement terminates the loop prematurely, regardless of the loop's condition.\n",
        "\n",
        "#Example: Breaking a loop\n",
        "\n",
        "for i in range(10):\n",
        "    if i == 5:\n",
        "        break  # Exit the loop when i equals 5\n",
        "    print(i)\n"
      ],
      "metadata": {
        "colab": {
          "base_uri": "https://localhost:8080/"
        },
        "id": "f7siKD1tqNga",
        "outputId": "beb7405d-e1e7-4eb1-e298-b903b18096f0"
      },
      "execution_count": 22,
      "outputs": [
        {
          "output_type": "stream",
          "name": "stdout",
          "text": [
            "0\n",
            "1\n",
            "2\n",
            "3\n",
            "4\n"
          ]
        }
      ]
    },
    {
      "cell_type": "code",
      "source": [
        "#continue Statement\n",
        "\n",
        "#The continue statement skips the current iteration and moves to the next iteration of the loop.\n",
        "\n",
        "#Example: Skipping an iteration\n",
        "\n",
        "for i in range(5):\n",
        "    if i == 2:\n",
        "        continue  # Skip the iteration when i equals 2\n",
        "    print(i)"
      ],
      "metadata": {
        "colab": {
          "base_uri": "https://localhost:8080/"
        },
        "id": "j96-oA44qgX5",
        "outputId": "e225a999-1cb0-4380-f022-42e2c4d901b4"
      },
      "execution_count": 23,
      "outputs": [
        {
          "output_type": "stream",
          "name": "stdout",
          "text": [
            "0\n",
            "1\n",
            "3\n",
            "4\n"
          ]
        }
      ]
    },
    {
      "cell_type": "code",
      "source": [
        " #Nested Loops\n",
        "\n",
        "#You can also have loops inside other loops, known as nested loops. Nested loops are useful for working with multi-dimensional data (e.g., matrices).\n",
        "\n",
        "#xample: Nested for loop\n",
        "\n",
        "for i in range(3):\n",
        "    for j in range(2):\n",
        "        print(f\"i = {i}, j = {j}\")"
      ],
      "metadata": {
        "colab": {
          "base_uri": "https://localhost:8080/"
        },
        "id": "lFS2uucgqnfm",
        "outputId": "f3c8aeeb-7e70-4396-d996-4c7cc311c922"
      },
      "execution_count": 24,
      "outputs": [
        {
          "output_type": "stream",
          "name": "stdout",
          "text": [
            "i = 0, j = 0\n",
            "i = 0, j = 1\n",
            "i = 1, j = 0\n",
            "i = 1, j = 1\n",
            "i = 2, j = 0\n",
            "i = 2, j = 1\n"
          ]
        }
      ]
    },
    {
      "cell_type": "code",
      "source": [],
      "metadata": {
        "id": "t6z7flyVqvPr"
      },
      "execution_count": null,
      "outputs": []
    }
  ]
}